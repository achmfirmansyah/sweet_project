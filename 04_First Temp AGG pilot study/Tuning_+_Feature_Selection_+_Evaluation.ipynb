{
  "nbformat": 4,
  "nbformat_minor": 5,
  "metadata": {
    "kernelspec": {
      "display_name": "Python 3",
      "language": "python",
      "name": "python3"
    },
    "language_info": {
      "codemirror_mode": {
        "name": "ipython",
        "version": 3
      },
      "file_extension": ".py",
      "mimetype": "text/x-python",
      "name": "python",
      "nbconvert_exporter": "python",
      "pygments_lexer": "ipython3",
      "version": "3.7.4"
    },
    "colab": {
      "name": "Tuning + Feature Selection + Evaluation",
      "provenance": [],
      "toc_visible": true
    }
  },
  "cells": [
    {
      "cell_type": "markdown",
      "metadata": {
        "id": "CbSmATYEJzhv"
      },
      "source": [
        "##**INSTALL REQUIRED PACKAGES AND IMPORT OTHERS**"
      ],
      "id": "CbSmATYEJzhv"
    },
    {
      "cell_type": "code",
      "metadata": {
        "colab": {
          "base_uri": "https://localhost:8080/"
        },
        "id": "ksVmC35RJPXa",
        "outputId": "363d35d4-d82a-46a3-fccb-b715e23e518d"
      },
      "source": [
        "!pip install --upgrade geopandas shapely hyperopt scikit-learn\n",
        "!pip install delayed"
      ],
      "id": "ksVmC35RJPXa",
      "execution_count": null,
      "outputs": [
        {
          "output_type": "stream",
          "text": [
            "Requirement already up-to-date: geopandas in /usr/local/lib/python3.7/dist-packages (0.9.0)\n",
            "Requirement already up-to-date: shapely in /usr/local/lib/python3.7/dist-packages (1.7.1)\n",
            "Requirement already up-to-date: hyperopt in /usr/local/lib/python3.7/dist-packages (0.2.5)\n",
            "Requirement already up-to-date: scikit-learn in /usr/local/lib/python3.7/dist-packages (0.24.2)\n",
            "Requirement already satisfied, skipping upgrade: fiona>=1.8 in /usr/local/lib/python3.7/dist-packages (from geopandas) (1.8.19)\n",
            "Requirement already satisfied, skipping upgrade: pandas>=0.24.0 in /usr/local/lib/python3.7/dist-packages (from geopandas) (1.1.5)\n",
            "Requirement already satisfied, skipping upgrade: pyproj>=2.2.0 in /usr/local/lib/python3.7/dist-packages (from geopandas) (3.0.1)\n",
            "Requirement already satisfied, skipping upgrade: future in /usr/local/lib/python3.7/dist-packages (from hyperopt) (0.16.0)\n",
            "Requirement already satisfied, skipping upgrade: numpy in /usr/local/lib/python3.7/dist-packages (from hyperopt) (1.19.5)\n",
            "Requirement already satisfied, skipping upgrade: tqdm in /usr/local/lib/python3.7/dist-packages (from hyperopt) (4.41.1)\n",
            "Requirement already satisfied, skipping upgrade: six in /usr/local/lib/python3.7/dist-packages (from hyperopt) (1.15.0)\n",
            "Requirement already satisfied, skipping upgrade: cloudpickle in /usr/local/lib/python3.7/dist-packages (from hyperopt) (1.3.0)\n",
            "Requirement already satisfied, skipping upgrade: networkx>=2.2 in /usr/local/lib/python3.7/dist-packages (from hyperopt) (2.5.1)\n",
            "Requirement already satisfied, skipping upgrade: scipy in /usr/local/lib/python3.7/dist-packages (from hyperopt) (1.4.1)\n",
            "Requirement already satisfied, skipping upgrade: joblib>=0.11 in /usr/local/lib/python3.7/dist-packages (from scikit-learn) (1.0.1)\n",
            "Requirement already satisfied, skipping upgrade: threadpoolctl>=2.0.0 in /usr/local/lib/python3.7/dist-packages (from scikit-learn) (2.1.0)\n",
            "Requirement already satisfied, skipping upgrade: certifi in /usr/local/lib/python3.7/dist-packages (from fiona>=1.8->geopandas) (2020.12.5)\n",
            "Requirement already satisfied, skipping upgrade: munch in /usr/local/lib/python3.7/dist-packages (from fiona>=1.8->geopandas) (2.5.0)\n",
            "Requirement already satisfied, skipping upgrade: click-plugins>=1.0 in /usr/local/lib/python3.7/dist-packages (from fiona>=1.8->geopandas) (1.1.1)\n",
            "Requirement already satisfied, skipping upgrade: attrs>=17 in /usr/local/lib/python3.7/dist-packages (from fiona>=1.8->geopandas) (21.2.0)\n",
            "Requirement already satisfied, skipping upgrade: click<8,>=4.0 in /usr/local/lib/python3.7/dist-packages (from fiona>=1.8->geopandas) (7.1.2)\n",
            "Requirement already satisfied, skipping upgrade: cligj>=0.5 in /usr/local/lib/python3.7/dist-packages (from fiona>=1.8->geopandas) (0.7.1)\n",
            "Requirement already satisfied, skipping upgrade: python-dateutil>=2.7.3 in /usr/local/lib/python3.7/dist-packages (from pandas>=0.24.0->geopandas) (2.8.1)\n",
            "Requirement already satisfied, skipping upgrade: pytz>=2017.2 in /usr/local/lib/python3.7/dist-packages (from pandas>=0.24.0->geopandas) (2018.9)\n",
            "Requirement already satisfied, skipping upgrade: decorator<5,>=4.3 in /usr/local/lib/python3.7/dist-packages (from networkx>=2.2->hyperopt) (4.4.2)\n",
            "Requirement already satisfied: delayed in /usr/local/lib/python3.7/dist-packages (0.11.0b1)\n",
            "Requirement already satisfied: redis in /usr/local/lib/python3.7/dist-packages (from delayed) (3.5.3)\n",
            "Requirement already satisfied: hiredis in /usr/local/lib/python3.7/dist-packages (from delayed) (2.0.0)\n"
          ],
          "name": "stdout"
        }
      ]
    },
    {
      "cell_type": "code",
      "metadata": {
        "id": "de06foKIKAyp"
      },
      "source": [
        "import geopandas as gpd\n",
        "import pandas as pd\n",
        "import numpy as np\n",
        "from sklearn.model_selection import train_test_split,StratifiedKFold\n",
        "from sklearn.ensemble import RandomForestClassifier\n",
        "from sklearn import metrics\n",
        "from sklearn.feature_selection import mutual_info_classif\n",
        "from hyperopt import fmin, tpe, hp, STATUS_OK, Trials\n",
        "from sklearn.preprocessing import scale,normalize\n",
        "from sklearn.model_selection import cross_val_score\n",
        "from sklearn.experimental import enable_halving_search_cv  \n",
        "from sklearn.model_selection import HalvingGridSearchCV\n",
        "import seaborn as sns\n",
        "import matplotlib.pyplot as plt\n",
        "from sklearn.metrics import f1_score,accuracy_score,classification_report\n",
        "import pickle\n",
        "%matplotlib inline\n"
      ],
      "id": "de06foKIKAyp",
      "execution_count": null,
      "outputs": []
    },
    {
      "cell_type": "markdown",
      "metadata": {
        "id": "Q_7MMRpALPax"
      },
      "source": [
        "## **COMBINE ALL TRAINING DATA**"
      ],
      "id": "Q_7MMRpALPax"
    },
    {
      "cell_type": "code",
      "metadata": {
        "colab": {
          "base_uri": "https://localhost:8080/"
        },
        "id": "QPlj75cjLr0B",
        "outputId": "622d8410-8882-423f-fd78-5d2a6ec889a7"
      },
      "source": [
        "from google.colab import drive\n",
        "drive.mount('/content/drive')"
      ],
      "id": "QPlj75cjLr0B",
      "execution_count": null,
      "outputs": [
        {
          "output_type": "stream",
          "text": [
            "Mounted at /content/drive\n"
          ],
          "name": "stdout"
        }
      ]
    },
    {
      "cell_type": "code",
      "metadata": {
        "id": "PkIPEE9lOi_O"
      },
      "source": [
        "list_data=[....]## the drive link\n",
        "list_kab=[....]## id of municipality"
      ],
      "id": "PkIPEE9lOi_O",
      "execution_count": null,
      "outputs": []
    },
    {
      "cell_type": "code",
      "metadata": {
        "id": "vfFx0L-gB64K"
      },
      "source": [
        "all_train=pd.DataFrame()\n",
        "for i in range(0,len(list_data)):\n",
        "  temp=pd.read_csv(list_data[i],sep=';').dropna()\n",
        "  temp['idkab']=list_kab[i]\n",
        "  all_train=temp[['Class_ID', 'xcoord', 'ycoord', 'L8_B2_min', 'L8_B3_min',\n",
        "       'L8_B4_min', 'L8_B5_min', 'L8_B6_min', 'L8_B2_med', 'L8_B3_med',\n",
        "       'L8_B4_med', 'L8_B5_med', 'L8_B6_med', 'L8_B2_mean', 'L8_B3_mean',\n",
        "       'L8_B4_mean', 'L8_B5_mean', 'L8_B6_mean', 'L8_B2_stdev', 'L8_B3_stdev',\n",
        "       'L8_B4_stdev', 'L8_B5_stdev', 'L8_B6_stdev', 'L8_bright_mean',\n",
        "       'L8_green_mean', 'L8_wet_mean', 'L8_bright_med', 'L8_green_med',\n",
        "       'L8_wet_med', 'S2_B2_min', 'S2_B3_min', 'S2_B4_min', 'S2_B8_min',\n",
        "       'S2_B11_min', 'S2_B2_med', 'S2_B3_med', 'S2_B4_med', 'S2_B8_med',\n",
        "       'S2_B11_med', 'S2_B2_mean', 'S2_B3_mean', 'S2_B4_mean', 'S2_B8_mean',\n",
        "       'S2_B11_mean', 'S2_B2_stdev', 'S2_B3_stdev', 'S2_B4_stdev',\n",
        "       'S2_B8_stdev', 'S2_B11_stdev', 'S2_bright_mean', 'S2_green_mean',\n",
        "       'S2_wet_mean', 'S2_bright_med', 'S2_green_med', 'S2_wet_med',\n",
        "       'S1_VV_min', 'S1_VH_min', 'S1_VV_med', 'S1_VH_med', 'S1_VV_mean',\n",
        "       'S1_VH_mean', 'S1_ration_med', 'S1_ratio_mean', 'S1_ratio_min',\n",
        "       'Alos_dsm', 'Alos_slope', 'Alos_landform','idkab']].append(all_train)"
      ],
      "id": "vfFx0L-gB64K",
      "execution_count": null,
      "outputs": []
    },
    {
      "cell_type": "markdown",
      "metadata": {
        "id": "MUIkSfKHDJXs"
      },
      "source": [
        "DESKRIPSI CLASS ID"
      ],
      "id": "MUIkSfKHDJXs"
    },
    {
      "cell_type": "code",
      "metadata": {
        "colab": {
          "base_uri": "https://localhost:8080/",
          "height": 332
        },
        "id": "Z-ySa4a8ChWm",
        "outputId": "bef013d1-c30f-441f-c276-086c78048951"
      },
      "source": [
        "all_train.pivot_table(values='xcoord',index='idkab',columns='Class_ID',aggfunc='count').fillna(0)"
      ],
      "id": "Z-ySa4a8ChWm",
      "execution_count": null,
      "outputs": [
        {
          "output_type": "execute_result",
          "data": {
            "text/html": [
              "<div>\n",
              "<style scoped>\n",
              "    .dataframe tbody tr th:only-of-type {\n",
              "        vertical-align: middle;\n",
              "    }\n",
              "\n",
              "    .dataframe tbody tr th {\n",
              "        vertical-align: top;\n",
              "    }\n",
              "\n",
              "    .dataframe thead th {\n",
              "        text-align: right;\n",
              "    }\n",
              "</style>\n",
              "<table border=\"1\" class=\"dataframe\">\n",
              "  <thead>\n",
              "    <tr style=\"text-align: right;\">\n",
              "      <th>Class_ID</th>\n",
              "      <th>1.0</th>\n",
              "      <th>2.0</th>\n",
              "      <th>3.0</th>\n",
              "      <th>4.0</th>\n",
              "      <th>5.0</th>\n",
              "      <th>6.0</th>\n",
              "      <th>7.0</th>\n",
              "      <th>8.0</th>\n",
              "      <th>9.0</th>\n",
              "      <th>10.0</th>\n",
              "      <th>11.0</th>\n",
              "    </tr>\n",
              "    <tr>\n",
              "      <th>idkab</th>\n",
              "      <th></th>\n",
              "      <th></th>\n",
              "      <th></th>\n",
              "      <th></th>\n",
              "      <th></th>\n",
              "      <th></th>\n",
              "      <th></th>\n",
              "      <th></th>\n",
              "      <th></th>\n",
              "      <th></th>\n",
              "      <th></th>\n",
              "    </tr>\n",
              "  </thead>\n",
              "  <tbody>\n",
              "    <tr>\n",
              "      <th>3205</th>\n",
              "      <td>21028.0</td>\n",
              "      <td>9224.0</td>\n",
              "      <td>1728.0</td>\n",
              "      <td>6064.0</td>\n",
              "      <td>6831.0</td>\n",
              "      <td>0.0</td>\n",
              "      <td>842.0</td>\n",
              "      <td>0.0</td>\n",
              "      <td>4641.0</td>\n",
              "      <td>0.0</td>\n",
              "      <td>6222.0</td>\n",
              "    </tr>\n",
              "    <tr>\n",
              "      <th>3213</th>\n",
              "      <td>2232.0</td>\n",
              "      <td>436.0</td>\n",
              "      <td>5153.0</td>\n",
              "      <td>429.0</td>\n",
              "      <td>0.0</td>\n",
              "      <td>0.0</td>\n",
              "      <td>0.0</td>\n",
              "      <td>0.0</td>\n",
              "      <td>2564.0</td>\n",
              "      <td>0.0</td>\n",
              "      <td>4083.0</td>\n",
              "    </tr>\n",
              "    <tr>\n",
              "      <th>3271</th>\n",
              "      <td>720.0</td>\n",
              "      <td>1716.0</td>\n",
              "      <td>1113.0</td>\n",
              "      <td>210.0</td>\n",
              "      <td>1802.0</td>\n",
              "      <td>0.0</td>\n",
              "      <td>463.0</td>\n",
              "      <td>168.0</td>\n",
              "      <td>1638.0</td>\n",
              "      <td>0.0</td>\n",
              "      <td>52.0</td>\n",
              "    </tr>\n",
              "    <tr>\n",
              "      <th>3272</th>\n",
              "      <td>3607.0</td>\n",
              "      <td>3187.0</td>\n",
              "      <td>1170.0</td>\n",
              "      <td>2783.0</td>\n",
              "      <td>8518.0</td>\n",
              "      <td>0.0</td>\n",
              "      <td>159.0</td>\n",
              "      <td>231.0</td>\n",
              "      <td>4128.0</td>\n",
              "      <td>32.0</td>\n",
              "      <td>235.0</td>\n",
              "    </tr>\n",
              "    <tr>\n",
              "      <th>3315</th>\n",
              "      <td>367.0</td>\n",
              "      <td>441.0</td>\n",
              "      <td>78.0</td>\n",
              "      <td>75.0</td>\n",
              "      <td>0.0</td>\n",
              "      <td>0.0</td>\n",
              "      <td>0.0</td>\n",
              "      <td>43.0</td>\n",
              "      <td>115.0</td>\n",
              "      <td>0.0</td>\n",
              "      <td>0.0</td>\n",
              "    </tr>\n",
              "    <tr>\n",
              "      <th>3329</th>\n",
              "      <td>2492.0</td>\n",
              "      <td>4970.0</td>\n",
              "      <td>0.0</td>\n",
              "      <td>281.0</td>\n",
              "      <td>651.0</td>\n",
              "      <td>0.0</td>\n",
              "      <td>0.0</td>\n",
              "      <td>188.0</td>\n",
              "      <td>1982.0</td>\n",
              "      <td>0.0</td>\n",
              "      <td>10064.0</td>\n",
              "    </tr>\n",
              "    <tr>\n",
              "      <th>3376</th>\n",
              "      <td>164.0</td>\n",
              "      <td>106.0</td>\n",
              "      <td>9.0</td>\n",
              "      <td>17.0</td>\n",
              "      <td>6.0</td>\n",
              "      <td>14.0</td>\n",
              "      <td>0.0</td>\n",
              "      <td>52.0</td>\n",
              "      <td>412.0</td>\n",
              "      <td>0.0</td>\n",
              "      <td>1523.0</td>\n",
              "    </tr>\n",
              "    <tr>\n",
              "      <th>3674</th>\n",
              "      <td>13.0</td>\n",
              "      <td>99.0</td>\n",
              "      <td>48.0</td>\n",
              "      <td>0.0</td>\n",
              "      <td>20.0</td>\n",
              "      <td>0.0</td>\n",
              "      <td>35.0</td>\n",
              "      <td>67.0</td>\n",
              "      <td>402.0</td>\n",
              "      <td>0.0</td>\n",
              "      <td>20.0</td>\n",
              "    </tr>\n",
              "  </tbody>\n",
              "</table>\n",
              "</div>"
            ],
            "text/plain": [
              "Class_ID     1.0     2.0     3.0     4.0   ...   8.0     9.0   10.0     11.0\n",
              "idkab                                      ...                              \n",
              "3205      21028.0  9224.0  1728.0  6064.0  ...    0.0  4641.0   0.0   6222.0\n",
              "3213       2232.0   436.0  5153.0   429.0  ...    0.0  2564.0   0.0   4083.0\n",
              "3271        720.0  1716.0  1113.0   210.0  ...  168.0  1638.0   0.0     52.0\n",
              "3272       3607.0  3187.0  1170.0  2783.0  ...  231.0  4128.0  32.0    235.0\n",
              "3315        367.0   441.0    78.0    75.0  ...   43.0   115.0   0.0      0.0\n",
              "3329       2492.0  4970.0     0.0   281.0  ...  188.0  1982.0   0.0  10064.0\n",
              "3376        164.0   106.0     9.0    17.0  ...   52.0   412.0   0.0   1523.0\n",
              "3674         13.0    99.0    48.0     0.0  ...   67.0   402.0   0.0     20.0\n",
              "\n",
              "[8 rows x 11 columns]"
            ]
          },
          "metadata": {
            "tags": []
          },
          "execution_count": 6
        }
      ]
    },
    {
      "cell_type": "markdown",
      "metadata": {
        "id": "ozrXgRNuF-BM"
      },
      "source": [
        "## **DATA TRANSFORMATION**\n",
        "- Transform the ALOS landform into PODES landform categoric"
      ],
      "id": "ozrXgRNuF-BM"
    },
    {
      "cell_type": "code",
      "metadata": {
        "id": "_nEq9mo0JHga"
      },
      "source": [
        "dict_data_landform={0:'others',11:'others',12:'others',14:'others',15:'others',21: 'u-slope',22:'u-slope',\n",
        "                   31:'l-slope',32:'l-slope',41:'valley',42:'valley',24:'flat',34:'flat'}\n",
        "all_train['PODES_landform']=all_train['Alos_landform'].apply(lambda y: dict_data_landform[y])\n",
        "cat_data=pd.get_dummies(all_train[['PODES_landform']], columns=['PODES_landform'], prefix=[\"Type_is\"])"
      ],
      "id": "_nEq9mo0JHga",
      "execution_count": null,
      "outputs": []
    },
    {
      "cell_type": "code",
      "metadata": {
        "id": "ziQ8oFJqGaew"
      },
      "source": [
        "all_train=all_train.join(cat_data)"
      ],
      "id": "ziQ8oFJqGaew",
      "execution_count": null,
      "outputs": []
    },
    {
      "cell_type": "markdown",
      "metadata": {
        "id": "opM6Mmy0Kj5x"
      },
      "source": [
        "## **TUNING AND FEATURE SELECTION**"
      ],
      "id": "opM6Mmy0Kj5x"
    },
    {
      "cell_type": "markdown",
      "metadata": {
        "id": "t825e0lfJHge"
      },
      "source": [
        "### Mutual Information"
      ],
      "id": "t825e0lfJHge"
    },
    {
      "cell_type": "code",
      "metadata": {
        "id": "t21abaLHJHge"
      },
      "source": [
        "mi_=mutual_info_classif(all_train[[ 'L8_B2_min', 'L8_B3_min',\n",
        "       'L8_B4_min', 'L8_B5_min', 'L8_B6_min', 'L8_B2_med', 'L8_B3_med',\n",
        "       'L8_B4_med', 'L8_B5_med', 'L8_B6_med', 'L8_B2_mean', 'L8_B3_mean',\n",
        "       'L8_B4_mean', 'L8_B5_mean', 'L8_B6_mean', 'L8_B2_stdev', 'L8_B3_stdev',\n",
        "       'L8_B4_stdev', 'L8_B5_stdev', 'L8_B6_stdev', 'L8_bright_mean',\n",
        "       'L8_green_mean', 'L8_wet_mean', 'L8_bright_med', 'L8_green_med',\n",
        "       'L8_wet_med', 'S2_B2_min', 'S2_B3_min', 'S2_B4_min', 'S2_B8_min',\n",
        "       'S2_B11_min', 'S2_B2_med', 'S2_B3_med', 'S2_B4_med', 'S2_B8_med',\n",
        "       'S2_B11_med', 'S2_B2_mean', 'S2_B3_mean', 'S2_B4_mean', 'S2_B8_mean',\n",
        "       'S2_B11_mean', 'S2_B2_stdev', 'S2_B3_stdev', 'S2_B4_stdev',\n",
        "       'S2_B8_stdev', 'S2_B11_stdev', 'S2_bright_mean', 'S2_green_mean',\n",
        "       'S2_wet_mean', 'S2_bright_med', 'S2_green_med', 'S2_wet_med',\n",
        "       'S1_VV_min', 'S1_VH_min', 'S1_VV_med', 'S1_VH_med', 'S1_VV_mean',\n",
        "       'S1_VH_mean', 'S1_ration_med', 'S1_ratio_mean', 'S1_ratio_min',\n",
        "       'Alos_dsm', 'Alos_slope',\n",
        "       'Type_is_flat', 'Type_is_l-slope', 'Type_is_others', 'Type_is_u-slope',\n",
        "       'Type_is_valley']],all_train['Class_ID'])"
      ],
      "id": "t21abaLHJHge",
      "execution_count": null,
      "outputs": []
    },
    {
      "cell_type": "code",
      "metadata": {
        "id": "y2Yi8lQ2M8dO",
        "colab": {
          "base_uri": "https://localhost:8080/"
        },
        "outputId": "4b2fd52b-89ec-4294-d940-63bc0e15f006"
      },
      "source": [
        "mi_"
      ],
      "id": "y2Yi8lQ2M8dO",
      "execution_count": null,
      "outputs": [
        {
          "output_type": "execute_result",
          "data": {
            "text/plain": [
              "array([0.63768711, 0.59914814, 0.74670432, 0.65976699, 0.83559187,\n",
              "       0.55554876, 0.55775694, 0.67152822, 0.69253676, 0.92300003,\n",
              "       0.36390052, 0.33872573, 0.4307244 , 0.71428539, 0.86841466,\n",
              "       0.33737009, 0.34690172, 0.40046756, 0.44552971, 0.36978081,\n",
              "       0.65288398, 0.65520799, 0.49114441, 0.84383407, 0.71483373,\n",
              "       0.55718173, 0.66772911, 0.64382858, 0.69387634, 0.43978033,\n",
              "       0.42958851, 0.59708328, 0.59104368, 0.58303663, 0.588081  ,\n",
              "       0.36869372, 0.58715748, 0.58559565, 0.61119699, 0.62694955,\n",
              "       0.38531364, 0.5244612 , 0.53780579, 0.60330874, 0.4634114 ,\n",
              "       0.42074463, 0.18663949, 0.14533616, 0.0969143 , 0.23264749,\n",
              "       0.18199357, 0.09837051, 0.61695754, 0.52011621, 0.66881147,\n",
              "       0.59866304, 0.67635717, 0.61155501, 0.22615017, 0.2766502 ,\n",
              "       0.18843576, 0.63095473, 0.29668702, 0.00415814, 0.00262547,\n",
              "       0.00376318, 0.00400273, 0.00249777])"
            ]
          },
          "metadata": {
            "tags": []
          },
          "execution_count": 9
        }
      ]
    },
    {
      "cell_type": "markdown",
      "metadata": {
        "id": "ZW9kwg_VJHgf"
      },
      "source": [
        "From the result, we must set the border value of accepted features. Eg: 0.6 as borderline (Because the problem is multiclass, it's difficult to get mutual information over 0.8)"
      ],
      "id": "ZW9kwg_VJHgf"
    },
    {
      "cell_type": "code",
      "metadata": {
        "id": "mJhrGQfCJHgg",
        "colab": {
          "base_uri": "https://localhost:8080/"
        },
        "outputId": "6ead4322-fd43-4aea-a7d6-980d0e5f858d"
      },
      "source": [
        "data_col=[ 'L8_B2_min', 'L8_B3_min',\n",
        "       'L8_B4_min', 'L8_B5_min', 'L8_B6_min', 'L8_B2_med', 'L8_B3_med',\n",
        "       'L8_B4_med', 'L8_B5_med', 'L8_B6_med', 'L8_B2_mean', 'L8_B3_mean',\n",
        "       'L8_B4_mean', 'L8_B5_mean', 'L8_B6_mean', 'L8_B2_stdev', 'L8_B3_stdev',\n",
        "       'L8_B4_stdev', 'L8_B5_stdev', 'L8_B6_stdev', 'L8_bright_mean',\n",
        "       'L8_green_mean', 'L8_wet_mean', 'L8_bright_med', 'L8_green_med',\n",
        "       'L8_wet_med', 'S2_B2_min', 'S2_B3_min', 'S2_B4_min', 'S2_B8_min',\n",
        "       'S2_B11_min', 'S2_B2_med', 'S2_B3_med', 'S2_B4_med', 'S2_B8_med',\n",
        "       'S2_B11_med', 'S2_B2_mean', 'S2_B3_mean', 'S2_B4_mean', 'S2_B8_mean',\n",
        "       'S2_B11_mean', 'S2_B2_stdev', 'S2_B3_stdev', 'S2_B4_stdev',\n",
        "       'S2_B8_stdev', 'S2_B11_stdev', 'S2_bright_mean', 'S2_green_mean',\n",
        "       'S2_wet_mean', 'S2_bright_med', 'S2_green_med', 'S2_wet_med',\n",
        "       'S1_VV_min', 'S1_VH_min', 'S1_VV_med', 'S1_VH_med', 'S1_VV_mean',\n",
        "       'S1_VH_mean', 'S1_ration_med', 'S1_ratio_mean', 'S1_ratio_min',\n",
        "       'Alos_dsm', 'Alos_slope',\n",
        "       'Type_is_flat', 'Type_is_l-slope', 'Type_is_others', 'Type_is_u-slope',\n",
        "       'Type_is_valley']\n",
        "col_mi=[data_col[i] for i in list(np.where(mi_>.6)[0])]\n",
        "print(len(col_mi))\n",
        "print(col_mi)"
      ],
      "id": "mJhrGQfCJHgg",
      "execution_count": null,
      "outputs": [
        {
          "output_type": "stream",
          "text": [
            "24\n",
            "['L8_B2_min', 'L8_B4_min', 'L8_B5_min', 'L8_B6_min', 'L8_B4_med', 'L8_B5_med', 'L8_B6_med', 'L8_B5_mean', 'L8_B6_mean', 'L8_bright_mean', 'L8_green_mean', 'L8_bright_med', 'L8_green_med', 'S2_B2_min', 'S2_B3_min', 'S2_B4_min', 'S2_B4_mean', 'S2_B8_mean', 'S2_B4_stdev', 'S1_VV_min', 'S1_VV_med', 'S1_VV_mean', 'S1_VH_mean', 'Alos_dsm']\n"
          ],
          "name": "stdout"
        }
      ]
    },
    {
      "cell_type": "markdown",
      "metadata": {
        "id": "kaEi7cO4JHgh"
      },
      "source": [
        "### Tuning standard parameter for Random Forest"
      ],
      "id": "kaEi7cO4JHgh"
    },
    {
      "cell_type": "code",
      "metadata": {
        "colab": {
          "base_uri": "https://localhost:8080/"
        },
        "id": "272fIeTKPQSd",
        "outputId": "838b1210-c40c-40f1-b30e-ffbe933466de"
      },
      "source": [
        "from hyperopt import fmin, tpe, hp, STATUS_OK, Trials\n",
        "from sklearn.model_selection import cross_val_score\n",
        "space4rf_1 = {\n",
        "    'max_features': hp.uniform('max_features', 0.05,1),\n",
        "    'n_estimators': hp.choice('n_estimators', [20,50,100]),\n",
        "    'criterion': hp.choice('criterion', [\"gini\", \"entropy\"]),\n",
        "    'max_depth': hp.choice('max_depth', [5,10,15,20,None]),\n",
        "    'class_weight':hp.choice('class_weight',['balanced','balanced_subsample']),\n",
        "    'min_samples_split':hp.uniform('min_samples_split',0.00002,0.0005),\n",
        "    'min_samples_leaf':hp.uniform('min_samples_leaf',0.00002,0.0005),\n",
        "    'min_impurity_decrease':hp.uniform('min_impurity_decrease',0.0001,0.03)}\n",
        "columns=col_mi\n",
        "X=all_train[col_mi]\n",
        "y=all_train['Class_ID']\n",
        "def hyperopt_train_test(params):\n",
        "    X_ = X[:]\n",
        "    st_kfold=StratifiedKFold(n_splits=10)\n",
        "    clf = RandomForestClassifier(random_state=1234,n_jobs=-1,oob_score = True,bootstrap=True, **params)\n",
        "    return cross_val_score(clf, X_, y,scoring='f1_weighted',cv=st_kfold).mean()\n",
        "best= 0\n",
        "def f(params):\n",
        "    global best\n",
        "    acc = hyperopt_train_test(params)\n",
        "    if acc > best:\n",
        "        best = acc\n",
        "        print('new best:', best, params)\n",
        "    return {'loss': -acc, 'status': STATUS_OK}\n",
        "trials = Trials()\n",
        "best = fmin(f, space4rf_1, algo=tpe.suggest, max_evals=10, trials=trials)\n",
        "print('best:',best)"
      ],
      "id": "272fIeTKPQSd",
      "execution_count": null,
      "outputs": [
        {
          "output_type": "stream",
          "text": [
            "\r  0%|          | 0/10 [00:00<?, ?trial/s, best loss=?]"
          ],
          "name": "stdout"
        },
        {
          "output_type": "stream",
          "text": [
            "/usr/local/lib/python3.7/dist-packages/sklearn/ensemble/_forest.py:541: UserWarning: Some inputs do not have OOB scores. This probably means too few trees were used to compute any reliable oob estimates.\n",
            "  warn(\"Some inputs do not have OOB scores. \"\n",
            "\n",
            "/usr/local/lib/python3.7/dist-packages/sklearn/ensemble/_forest.py:546: RuntimeWarning: invalid value encountered in true_divide\n",
            "  predictions[k].sum(axis=1)[:, np.newaxis])\n",
            "\n",
            "/usr/local/lib/python3.7/dist-packages/sklearn/ensemble/_forest.py:541: UserWarning: Some inputs do not have OOB scores. This probably means too few trees were used to compute any reliable oob estimates.\n",
            "  warn(\"Some inputs do not have OOB scores. \"\n",
            "\n",
            "/usr/local/lib/python3.7/dist-packages/sklearn/ensemble/_forest.py:546: RuntimeWarning: invalid value encountered in true_divide\n",
            "  predictions[k].sum(axis=1)[:, np.newaxis])\n",
            "\n",
            "/usr/local/lib/python3.7/dist-packages/sklearn/ensemble/_forest.py:541: UserWarning: Some inputs do not have OOB scores. This probably means too few trees were used to compute any reliable oob estimates.\n",
            "  warn(\"Some inputs do not have OOB scores. \"\n",
            "\n",
            "/usr/local/lib/python3.7/dist-packages/sklearn/ensemble/_forest.py:546: RuntimeWarning: invalid value encountered in true_divide\n",
            "  predictions[k].sum(axis=1)[:, np.newaxis])\n",
            "\n",
            "/usr/local/lib/python3.7/dist-packages/sklearn/ensemble/_forest.py:541: UserWarning: Some inputs do not have OOB scores. This probably means too few trees were used to compute any reliable oob estimates.\n",
            "  warn(\"Some inputs do not have OOB scores. \"\n",
            "\n",
            "/usr/local/lib/python3.7/dist-packages/sklearn/ensemble/_forest.py:546: RuntimeWarning: invalid value encountered in true_divide\n",
            "  predictions[k].sum(axis=1)[:, np.newaxis])\n",
            "\n",
            "/usr/local/lib/python3.7/dist-packages/sklearn/ensemble/_forest.py:541: UserWarning: Some inputs do not have OOB scores. This probably means too few trees were used to compute any reliable oob estimates.\n",
            "  warn(\"Some inputs do not have OOB scores. \"\n",
            "\n",
            "/usr/local/lib/python3.7/dist-packages/sklearn/ensemble/_forest.py:546: RuntimeWarning: invalid value encountered in true_divide\n",
            "  predictions[k].sum(axis=1)[:, np.newaxis])\n",
            "\n",
            "/usr/local/lib/python3.7/dist-packages/sklearn/ensemble/_forest.py:541: UserWarning: Some inputs do not have OOB scores. This probably means too few trees were used to compute any reliable oob estimates.\n",
            "  warn(\"Some inputs do not have OOB scores. \"\n",
            "\n",
            "/usr/local/lib/python3.7/dist-packages/sklearn/ensemble/_forest.py:546: RuntimeWarning: invalid value encountered in true_divide\n",
            "  predictions[k].sum(axis=1)[:, np.newaxis])\n",
            "\n",
            "/usr/local/lib/python3.7/dist-packages/sklearn/ensemble/_forest.py:541: UserWarning: Some inputs do not have OOB scores. This probably means too few trees were used to compute any reliable oob estimates.\n",
            "  warn(\"Some inputs do not have OOB scores. \"\n",
            "\n",
            "/usr/local/lib/python3.7/dist-packages/sklearn/ensemble/_forest.py:546: RuntimeWarning: invalid value encountered in true_divide\n",
            "  predictions[k].sum(axis=1)[:, np.newaxis])\n",
            "\n",
            "/usr/local/lib/python3.7/dist-packages/sklearn/ensemble/_forest.py:541: UserWarning: Some inputs do not have OOB scores. This probably means too few trees were used to compute any reliable oob estimates.\n",
            "  warn(\"Some inputs do not have OOB scores. \"\n",
            "\n",
            "/usr/local/lib/python3.7/dist-packages/sklearn/ensemble/_forest.py:546: RuntimeWarning: invalid value encountered in true_divide\n",
            "  predictions[k].sum(axis=1)[:, np.newaxis])\n",
            "\n",
            "/usr/local/lib/python3.7/dist-packages/sklearn/ensemble/_forest.py:541: UserWarning: Some inputs do not have OOB scores. This probably means too few trees were used to compute any reliable oob estimates.\n",
            "  warn(\"Some inputs do not have OOB scores. \"\n",
            "\n",
            "/usr/local/lib/python3.7/dist-packages/sklearn/ensemble/_forest.py:546: RuntimeWarning: invalid value encountered in true_divide\n",
            "  predictions[k].sum(axis=1)[:, np.newaxis])\n",
            "\n"
          ],
          "name": "stderr"
        },
        {
          "output_type": "stream",
          "text": [
            "new best:\n",
            "0.8084611853675796\n",
            "{'class_weight': 'balanced_subsample', 'criterion': 'entropy', 'max_depth': 20, 'max_features': 0.14983904451743044, 'min_impurity_decrease': 0.002368351145317672, 'min_samples_leaf': 0.0004554203759603965, 'min_samples_split': 0.0003765323732039089, 'n_estimators': 20}\n",
            " 10%|█         | 1/10 [01:40<15:07, 100.87s/trial, best loss: -0.8084611853675796]"
          ],
          "name": "stdout"
        },
        {
          "output_type": "stream",
          "text": [
            "/usr/local/lib/python3.7/dist-packages/sklearn/ensemble/_forest.py:541: UserWarning: Some inputs do not have OOB scores. This probably means too few trees were used to compute any reliable oob estimates.\n",
            "  warn(\"Some inputs do not have OOB scores. \"\n",
            "\n",
            "/usr/local/lib/python3.7/dist-packages/sklearn/ensemble/_forest.py:546: RuntimeWarning: invalid value encountered in true_divide\n",
            "  predictions[k].sum(axis=1)[:, np.newaxis])\n",
            "\n",
            "/usr/local/lib/python3.7/dist-packages/sklearn/ensemble/_forest.py:541: UserWarning: Some inputs do not have OOB scores. This probably means too few trees were used to compute any reliable oob estimates.\n",
            "  warn(\"Some inputs do not have OOB scores. \"\n",
            "\n",
            "/usr/local/lib/python3.7/dist-packages/sklearn/ensemble/_forest.py:546: RuntimeWarning: invalid value encountered in true_divide\n",
            "  predictions[k].sum(axis=1)[:, np.newaxis])\n",
            "\n",
            "/usr/local/lib/python3.7/dist-packages/sklearn/ensemble/_forest.py:541: UserWarning: Some inputs do not have OOB scores. This probably means too few trees were used to compute any reliable oob estimates.\n",
            "  warn(\"Some inputs do not have OOB scores. \"\n",
            "\n",
            "/usr/local/lib/python3.7/dist-packages/sklearn/ensemble/_forest.py:546: RuntimeWarning: invalid value encountered in true_divide\n",
            "  predictions[k].sum(axis=1)[:, np.newaxis])\n",
            "\n",
            "/usr/local/lib/python3.7/dist-packages/sklearn/ensemble/_forest.py:541: UserWarning: Some inputs do not have OOB scores. This probably means too few trees were used to compute any reliable oob estimates.\n",
            "  warn(\"Some inputs do not have OOB scores. \"\n",
            "\n",
            "/usr/local/lib/python3.7/dist-packages/sklearn/ensemble/_forest.py:546: RuntimeWarning: invalid value encountered in true_divide\n",
            "  predictions[k].sum(axis=1)[:, np.newaxis])\n",
            "\n",
            "/usr/local/lib/python3.7/dist-packages/sklearn/ensemble/_forest.py:541: UserWarning: Some inputs do not have OOB scores. This probably means too few trees were used to compute any reliable oob estimates.\n",
            "  warn(\"Some inputs do not have OOB scores. \"\n",
            "\n",
            "/usr/local/lib/python3.7/dist-packages/sklearn/ensemble/_forest.py:546: RuntimeWarning: invalid value encountered in true_divide\n",
            "  predictions[k].sum(axis=1)[:, np.newaxis])\n",
            "\n",
            "/usr/local/lib/python3.7/dist-packages/sklearn/ensemble/_forest.py:541: UserWarning: Some inputs do not have OOB scores. This probably means too few trees were used to compute any reliable oob estimates.\n",
            "  warn(\"Some inputs do not have OOB scores. \"\n",
            "\n",
            "/usr/local/lib/python3.7/dist-packages/sklearn/ensemble/_forest.py:546: RuntimeWarning: invalid value encountered in true_divide\n",
            "  predictions[k].sum(axis=1)[:, np.newaxis])\n",
            "\n",
            "/usr/local/lib/python3.7/dist-packages/sklearn/ensemble/_forest.py:541: UserWarning: Some inputs do not have OOB scores. This probably means too few trees were used to compute any reliable oob estimates.\n",
            "  warn(\"Some inputs do not have OOB scores. \"\n",
            "\n",
            "/usr/local/lib/python3.7/dist-packages/sklearn/ensemble/_forest.py:546: RuntimeWarning: invalid value encountered in true_divide\n",
            "  predictions[k].sum(axis=1)[:, np.newaxis])\n",
            "\n",
            "/usr/local/lib/python3.7/dist-packages/sklearn/ensemble/_forest.py:541: UserWarning: Some inputs do not have OOB scores. This probably means too few trees were used to compute any reliable oob estimates.\n",
            "  warn(\"Some inputs do not have OOB scores. \"\n",
            "\n",
            "/usr/local/lib/python3.7/dist-packages/sklearn/ensemble/_forest.py:546: RuntimeWarning: invalid value encountered in true_divide\n",
            "  predictions[k].sum(axis=1)[:, np.newaxis])\n",
            "\n",
            "/usr/local/lib/python3.7/dist-packages/sklearn/ensemble/_forest.py:541: UserWarning: Some inputs do not have OOB scores. This probably means too few trees were used to compute any reliable oob estimates.\n",
            "  warn(\"Some inputs do not have OOB scores. \"\n",
            "\n",
            "/usr/local/lib/python3.7/dist-packages/sklearn/ensemble/_forest.py:546: RuntimeWarning: invalid value encountered in true_divide\n",
            "  predictions[k].sum(axis=1)[:, np.newaxis])\n",
            "\n",
            "/usr/local/lib/python3.7/dist-packages/sklearn/ensemble/_forest.py:541: UserWarning: Some inputs do not have OOB scores. This probably means too few trees were used to compute any reliable oob estimates.\n",
            "  warn(\"Some inputs do not have OOB scores. \"\n",
            "\n",
            "/usr/local/lib/python3.7/dist-packages/sklearn/ensemble/_forest.py:546: RuntimeWarning: invalid value encountered in true_divide\n",
            "  predictions[k].sum(axis=1)[:, np.newaxis])\n",
            "\n"
          ],
          "name": "stderr"
        },
        {
          "output_type": "stream",
          "text": [
            "new best:\n",
            "0.8084611853675796\n",
            "{'class_weight': 'balanced_subsample', 'criterion': 'entropy', 'max_depth': 5, 'max_features': 0.8156878638371501, 'min_impurity_decrease': 0.0036813613721687457, 'min_samples_leaf': 0.0002791010973398932, 'min_samples_split': 0.00022209303882654834, 'n_estimators': 20}\n",
            " 20%|██        | 2/10 [05:53<19:30, 146.28s/trial, best loss: -0.8084611853675796]"
          ],
          "name": "stdout"
        },
        {
          "output_type": "stream",
          "text": [
            "/usr/local/lib/python3.7/dist-packages/sklearn/ensemble/_forest.py:541: UserWarning: Some inputs do not have OOB scores. This probably means too few trees were used to compute any reliable oob estimates.\n",
            "  warn(\"Some inputs do not have OOB scores. \"\n",
            "\n",
            "/usr/local/lib/python3.7/dist-packages/sklearn/ensemble/_forest.py:546: RuntimeWarning: invalid value encountered in true_divide\n",
            "  predictions[k].sum(axis=1)[:, np.newaxis])\n",
            "\n",
            "/usr/local/lib/python3.7/dist-packages/sklearn/ensemble/_forest.py:541: UserWarning: Some inputs do not have OOB scores. This probably means too few trees were used to compute any reliable oob estimates.\n",
            "  warn(\"Some inputs do not have OOB scores. \"\n",
            "\n",
            "/usr/local/lib/python3.7/dist-packages/sklearn/ensemble/_forest.py:546: RuntimeWarning: invalid value encountered in true_divide\n",
            "  predictions[k].sum(axis=1)[:, np.newaxis])\n",
            "\n",
            "/usr/local/lib/python3.7/dist-packages/sklearn/ensemble/_forest.py:541: UserWarning: Some inputs do not have OOB scores. This probably means too few trees were used to compute any reliable oob estimates.\n",
            "  warn(\"Some inputs do not have OOB scores. \"\n",
            "\n",
            "/usr/local/lib/python3.7/dist-packages/sklearn/ensemble/_forest.py:546: RuntimeWarning: invalid value encountered in true_divide\n",
            "  predictions[k].sum(axis=1)[:, np.newaxis])\n",
            "\n",
            "/usr/local/lib/python3.7/dist-packages/sklearn/ensemble/_forest.py:541: UserWarning: Some inputs do not have OOB scores. This probably means too few trees were used to compute any reliable oob estimates.\n",
            "  warn(\"Some inputs do not have OOB scores. \"\n",
            "\n",
            "/usr/local/lib/python3.7/dist-packages/sklearn/ensemble/_forest.py:546: RuntimeWarning: invalid value encountered in true_divide\n",
            "  predictions[k].sum(axis=1)[:, np.newaxis])\n",
            "\n",
            "/usr/local/lib/python3.7/dist-packages/sklearn/ensemble/_forest.py:541: UserWarning: Some inputs do not have OOB scores. This probably means too few trees were used to compute any reliable oob estimates.\n",
            "  warn(\"Some inputs do not have OOB scores. \"\n",
            "\n",
            "/usr/local/lib/python3.7/dist-packages/sklearn/ensemble/_forest.py:546: RuntimeWarning: invalid value encountered in true_divide\n",
            "  predictions[k].sum(axis=1)[:, np.newaxis])\n",
            "\n",
            "/usr/local/lib/python3.7/dist-packages/sklearn/ensemble/_forest.py:541: UserWarning: Some inputs do not have OOB scores. This probably means too few trees were used to compute any reliable oob estimates.\n",
            "  warn(\"Some inputs do not have OOB scores. \"\n",
            "\n",
            "/usr/local/lib/python3.7/dist-packages/sklearn/ensemble/_forest.py:546: RuntimeWarning: invalid value encountered in true_divide\n",
            "  predictions[k].sum(axis=1)[:, np.newaxis])\n",
            "\n",
            "/usr/local/lib/python3.7/dist-packages/sklearn/ensemble/_forest.py:541: UserWarning: Some inputs do not have OOB scores. This probably means too few trees were used to compute any reliable oob estimates.\n",
            "  warn(\"Some inputs do not have OOB scores. \"\n",
            "\n",
            "/usr/local/lib/python3.7/dist-packages/sklearn/ensemble/_forest.py:546: RuntimeWarning: invalid value encountered in true_divide\n",
            "  predictions[k].sum(axis=1)[:, np.newaxis])\n",
            "\n",
            "/usr/local/lib/python3.7/dist-packages/sklearn/ensemble/_forest.py:541: UserWarning: Some inputs do not have OOB scores. This probably means too few trees were used to compute any reliable oob estimates.\n",
            "  warn(\"Some inputs do not have OOB scores. \"\n",
            "\n",
            "/usr/local/lib/python3.7/dist-packages/sklearn/ensemble/_forest.py:546: RuntimeWarning: invalid value encountered in true_divide\n",
            "  predictions[k].sum(axis=1)[:, np.newaxis])\n",
            "\n",
            "/usr/local/lib/python3.7/dist-packages/sklearn/ensemble/_forest.py:541: UserWarning: Some inputs do not have OOB scores. This probably means too few trees were used to compute any reliable oob estimates.\n",
            "  warn(\"Some inputs do not have OOB scores. \"\n",
            "\n",
            "/usr/local/lib/python3.7/dist-packages/sklearn/ensemble/_forest.py:546: RuntimeWarning: invalid value encountered in true_divide\n",
            "  predictions[k].sum(axis=1)[:, np.newaxis])\n",
            "\n",
            "/usr/local/lib/python3.7/dist-packages/sklearn/ensemble/_forest.py:541: UserWarning: Some inputs do not have OOB scores. This probably means too few trees were used to compute any reliable oob estimates.\n",
            "  warn(\"Some inputs do not have OOB scores. \"\n",
            "\n",
            "/usr/local/lib/python3.7/dist-packages/sklearn/ensemble/_forest.py:546: RuntimeWarning: invalid value encountered in true_divide\n",
            "  predictions[k].sum(axis=1)[:, np.newaxis])\n",
            "\n"
          ],
          "name": "stderr"
        },
        {
          "output_type": "stream",
          "text": [
            "new best:\n",
            "0.8084611853675796\n",
            "{'class_weight': 'balanced_subsample', 'criterion': 'gini', 'max_depth': 5, 'max_features': 0.8850985198610224, 'min_impurity_decrease': 0.01079788464864933, 'min_samples_leaf': 0.0003375087905947727, 'min_samples_split': 0.00040763748971031605, 'n_estimators': 20}\n",
            " 30%|███       | 3/10 [10:07<20:50, 178.66s/trial, best loss: -0.8084611853675796]"
          ],
          "name": "stdout"
        },
        {
          "output_type": "stream",
          "text": [
            "/usr/local/lib/python3.7/dist-packages/sklearn/ensemble/_forest.py:541: UserWarning: Some inputs do not have OOB scores. This probably means too few trees were used to compute any reliable oob estimates.\n",
            "  warn(\"Some inputs do not have OOB scores. \"\n",
            "\n",
            "/usr/local/lib/python3.7/dist-packages/sklearn/ensemble/_forest.py:546: RuntimeWarning: invalid value encountered in true_divide\n",
            "  predictions[k].sum(axis=1)[:, np.newaxis])\n",
            "\n"
          ],
          "name": "stderr"
        },
        {
          "output_type": "stream",
          "text": [
            "new best:\n",
            "0.8084611853675796\n",
            "{'class_weight': 'balanced_subsample', 'criterion': 'entropy', 'max_depth': 20, 'max_features': 0.5200555717195199, 'min_impurity_decrease': 0.0031258325707957534, 'min_samples_leaf': 0.0003472187894010576, 'min_samples_split': 0.00021795757075654065, 'n_estimators': 100}\n",
            "new best:\n",
            "0.8084611853675796\n",
            "{'class_weight': 'balanced_subsample', 'criterion': 'entropy', 'max_depth': 20, 'max_features': 0.7861591482686721, 'min_impurity_decrease': 0.006482536136620683, 'min_samples_leaf': 0.00030528300764044546, 'min_samples_split': 0.0003817452553702897, 'n_estimators': 100}\n",
            "new best:\n",
            "0.8084611853675796\n",
            "{'class_weight': 'balanced', 'criterion': 'entropy', 'max_depth': None, 'max_features': 0.3055913595038959, 'min_impurity_decrease': 0.025448029691475593, 'min_samples_leaf': 0.00021404380825617526, 'min_samples_split': 0.0004150020536544327, 'n_estimators': 100}\n",
            "new best:\n",
            "0.8084611853675796\n",
            "{'class_weight': 'balanced_subsample', 'criterion': 'entropy', 'max_depth': 10, 'max_features': 0.4831747377257453, 'min_impurity_decrease': 0.013852541969338678, 'min_samples_leaf': 0.0002773812325631162, 'min_samples_split': 0.00032831366541344304, 'n_estimators': 50}\n",
            "new best:\n",
            "0.8084611853675796\n",
            "{'class_weight': 'balanced', 'criterion': 'entropy', 'max_depth': 15, 'max_features': 0.6261812878874228, 'min_impurity_decrease': 0.011606524165146044, 'min_samples_leaf': 0.0002684181390221345, 'min_samples_split': 6.536109429915243e-05, 'n_estimators': 100}\n",
            "new best:\n",
            "0.8084611853675796\n",
            "{'class_weight': 'balanced_subsample', 'criterion': 'entropy', 'max_depth': None, 'max_features': 0.15999173518142684, 'min_impurity_decrease': 0.02880447519550981, 'min_samples_leaf': 0.0003217148533854182, 'min_samples_split': 0.00030160000812801997, 'n_estimators': 50}\n",
            "new best:\n",
            "0.8084611853675796\n",
            "{'class_weight': 'balanced', 'criterion': 'gini', 'max_depth': 15, 'max_features': 0.5900236170986425, 'min_impurity_decrease': 0.008474016047385492, 'min_samples_leaf': 0.0001501044373744759, 'min_samples_split': 0.00037765076977152613, 'n_estimators': 50}\n",
            "100%|██████████| 10/10 [1:38:03<00:00, 588.40s/trial, best loss: -0.8084611853675796]\n",
            "best: {'class_weight': 1, 'criterion': 1, 'max_depth': 3, 'max_features': 0.14983904451743044, 'min_impurity_decrease': 0.002368351145317672, 'min_samples_leaf': 0.0004554203759603965, 'min_samples_split': 0.0003765323732039089, 'n_estimators': 0}\n"
          ],
          "name": "stdout"
        }
      ]
    },
    {
      "cell_type": "code",
      "metadata": {
        "colab": {
          "base_uri": "https://localhost:8080/"
        },
        "id": "zqUwcXdBQd71",
        "outputId": "c150aa56-174b-450d-c786-86fd26cf14e8"
      },
      "source": [
        "best"
      ],
      "id": "zqUwcXdBQd71",
      "execution_count": null,
      "outputs": [
        {
          "output_type": "execute_result",
          "data": {
            "text/plain": [
              "{'class_weight': 1,\n",
              " 'criterion': 1,\n",
              " 'max_depth': 3,\n",
              " 'max_features': 0.14983904451743044,\n",
              " 'min_impurity_decrease': 0.002368351145317672,\n",
              " 'min_samples_leaf': 0.0004554203759603965,\n",
              " 'min_samples_split': 0.0003765323732039089,\n",
              " 'n_estimators': 0}"
            ]
          },
          "metadata": {
            "tags": []
          },
          "execution_count": 20
        }
      ]
    },
    {
      "cell_type": "markdown",
      "metadata": {
        "id": "9eMMX77ZXS2C"
      },
      "source": [
        "Result of tuning parameter\n",
        "- class weight : balanced_subsample\n",
        "- criterion: entropy-\n",
        "- max_depth: 20\n",
        "- max_features: 0.14983904451743044\n",
        "- min_impurity_decrease: 0.002368351145317672,\n",
        "- min_samples_leaf: 0.0004554203759603965,\n",
        "- min_samples_split: 0.0003765323732039089,\n",
        "- n_estimators: 20\n",
        "- oobs: True\n",
        "- n_jobs: -1\n",
        "- bootstrap: True\n",
        "- random_state=1234"
      ],
      "id": "9eMMX77ZXS2C"
    },
    {
      "cell_type": "markdown",
      "metadata": {
        "id": "Fky-Ys7j_wW9"
      },
      "source": [
        ""
      ],
      "id": "Fky-Ys7j_wW9"
    },
    {
      "cell_type": "markdown",
      "metadata": {
        "id": "xI_53HhQZw-o"
      },
      "source": [
        "## **EVALUASI**"
      ],
      "id": "xI_53HhQZw-o"
    },
    {
      "cell_type": "code",
      "metadata": {
        "id": "YGCNXZGDJHgl"
      },
      "source": [
        "bst_classifier=RandomForestClassifier(class_weight= 'balanced_subsample',criterion='entropy',max_depth=20,\n",
        "                                      max_features= 0.14983904451743044,min_impurity_decrease=0.002368351145317672,\n",
        "                                      min_samples_leaf=0.0004554203759603965,min_samples_split=0.0003765323732039089,\n",
        "                                      n_estimators= 20,oob_score=True,n_jobs=-1,bootstrap=True,random_state=1234)"
      ],
      "id": "YGCNXZGDJHgl",
      "execution_count": null,
      "outputs": []
    },
    {
      "cell_type": "code",
      "metadata": {
        "id": "L5i4Uw3-DFnf"
      },
      "source": [
        "all_train=all_train.reset_index()\n",
        "X_train, X_test, y_train, y_test = train_test_split(all_train[col_mi], all_train[['Class_ID']],\n",
        "                                                    stratify=all_train[['Class_ID','idkab']],\n",
        "                                                   test_size=0.2,random_state=1234,)"
      ],
      "id": "L5i4Uw3-DFnf",
      "execution_count": null,
      "outputs": []
    },
    {
      "cell_type": "code",
      "metadata": {
        "colab": {
          "base_uri": "https://localhost:8080/"
        },
        "id": "g8E5MJZ0E6GK",
        "outputId": "19106e03-ca5c-4a2e-a634-9e2c82616214"
      },
      "source": [
        "bst_classifier.fit(X_train,y_train)\n",
        "bst_classifier.fit(X_train,y_train)\n",
        "prediction=bst_classifier.predict(X_test)\n",
        "y_test['Class_pred']=prediction"
      ],
      "id": "g8E5MJZ0E6GK",
      "execution_count": null,
      "outputs": [
        {
          "output_type": "stream",
          "text": [
            "/usr/local/lib/python3.7/dist-packages/ipykernel_launcher.py:1: DataConversionWarning: A column-vector y was passed when a 1d array was expected. Please change the shape of y to (n_samples,), for example using ravel().\n",
            "  \"\"\"Entry point for launching an IPython kernel.\n",
            "/usr/local/lib/python3.7/dist-packages/sklearn/ensemble/_forest.py:541: UserWarning: Some inputs do not have OOB scores. This probably means too few trees were used to compute any reliable oob estimates.\n",
            "  warn(\"Some inputs do not have OOB scores. \"\n",
            "/usr/local/lib/python3.7/dist-packages/sklearn/ensemble/_forest.py:546: RuntimeWarning: invalid value encountered in true_divide\n",
            "  predictions[k].sum(axis=1)[:, np.newaxis])\n",
            "/usr/local/lib/python3.7/dist-packages/ipykernel_launcher.py:2: DataConversionWarning: A column-vector y was passed when a 1d array was expected. Please change the shape of y to (n_samples,), for example using ravel().\n",
            "  \n",
            "/usr/local/lib/python3.7/dist-packages/sklearn/ensemble/_forest.py:541: UserWarning: Some inputs do not have OOB scores. This probably means too few trees were used to compute any reliable oob estimates.\n",
            "  warn(\"Some inputs do not have OOB scores. \"\n",
            "/usr/local/lib/python3.7/dist-packages/sklearn/ensemble/_forest.py:546: RuntimeWarning: invalid value encountered in true_divide\n",
            "  predictions[k].sum(axis=1)[:, np.newaxis])\n"
          ],
          "name": "stderr"
        }
      ]
    },
    {
      "cell_type": "code",
      "metadata": {
        "colab": {
          "base_uri": "https://localhost:8080/",
          "height": 420
        },
        "id": "aKN9yp2QFGjg",
        "outputId": "01732d02-e623-4515-8e96-661908e6c551"
      },
      "source": [
        "confusion_matrix=y_test.reset_index().pivot_table(columns='Class_ID',index='Class_pred',values='index',aggfunc='count').fillna(0)\n",
        "confusion_matrix"
      ],
      "id": "aKN9yp2QFGjg",
      "execution_count": null,
      "outputs": [
        {
          "output_type": "execute_result",
          "data": {
            "text/html": [
              "<div>\n",
              "<style scoped>\n",
              "    .dataframe tbody tr th:only-of-type {\n",
              "        vertical-align: middle;\n",
              "    }\n",
              "\n",
              "    .dataframe tbody tr th {\n",
              "        vertical-align: top;\n",
              "    }\n",
              "\n",
              "    .dataframe thead th {\n",
              "        text-align: right;\n",
              "    }\n",
              "</style>\n",
              "<table border=\"1\" class=\"dataframe\">\n",
              "  <thead>\n",
              "    <tr style=\"text-align: right;\">\n",
              "      <th>Class_ID</th>\n",
              "      <th>1.0</th>\n",
              "      <th>2.0</th>\n",
              "      <th>3.0</th>\n",
              "      <th>4.0</th>\n",
              "      <th>5.0</th>\n",
              "      <th>6.0</th>\n",
              "      <th>7.0</th>\n",
              "      <th>8.0</th>\n",
              "      <th>9.0</th>\n",
              "      <th>10.0</th>\n",
              "      <th>11.0</th>\n",
              "    </tr>\n",
              "    <tr>\n",
              "      <th>Class_pred</th>\n",
              "      <th></th>\n",
              "      <th></th>\n",
              "      <th></th>\n",
              "      <th></th>\n",
              "      <th></th>\n",
              "      <th></th>\n",
              "      <th></th>\n",
              "      <th></th>\n",
              "      <th></th>\n",
              "      <th></th>\n",
              "      <th></th>\n",
              "    </tr>\n",
              "  </thead>\n",
              "  <tbody>\n",
              "    <tr>\n",
              "      <th>1.0</th>\n",
              "      <td>14757.0</td>\n",
              "      <td>2438.0</td>\n",
              "      <td>60.0</td>\n",
              "      <td>89.0</td>\n",
              "      <td>137.0</td>\n",
              "      <td>0.0</td>\n",
              "      <td>10.0</td>\n",
              "      <td>3.0</td>\n",
              "      <td>52.0</td>\n",
              "      <td>0.0</td>\n",
              "      <td>43.0</td>\n",
              "    </tr>\n",
              "    <tr>\n",
              "      <th>2.0</th>\n",
              "      <td>1244.0</td>\n",
              "      <td>7835.0</td>\n",
              "      <td>232.0</td>\n",
              "      <td>243.0</td>\n",
              "      <td>105.0</td>\n",
              "      <td>0.0</td>\n",
              "      <td>65.0</td>\n",
              "      <td>5.0</td>\n",
              "      <td>288.0</td>\n",
              "      <td>0.0</td>\n",
              "      <td>73.0</td>\n",
              "    </tr>\n",
              "    <tr>\n",
              "      <th>3.0</th>\n",
              "      <td>180.0</td>\n",
              "      <td>174.0</td>\n",
              "      <td>5292.0</td>\n",
              "      <td>32.0</td>\n",
              "      <td>84.0</td>\n",
              "      <td>0.0</td>\n",
              "      <td>0.0</td>\n",
              "      <td>5.0</td>\n",
              "      <td>130.0</td>\n",
              "      <td>0.0</td>\n",
              "      <td>0.0</td>\n",
              "    </tr>\n",
              "    <tr>\n",
              "      <th>4.0</th>\n",
              "      <td>251.0</td>\n",
              "      <td>1057.0</td>\n",
              "      <td>1019.0</td>\n",
              "      <td>4468.0</td>\n",
              "      <td>1276.0</td>\n",
              "      <td>0.0</td>\n",
              "      <td>48.0</td>\n",
              "      <td>0.0</td>\n",
              "      <td>9.0</td>\n",
              "      <td>0.0</td>\n",
              "      <td>6.0</td>\n",
              "    </tr>\n",
              "    <tr>\n",
              "      <th>5.0</th>\n",
              "      <td>133.0</td>\n",
              "      <td>146.0</td>\n",
              "      <td>515.0</td>\n",
              "      <td>340.0</td>\n",
              "      <td>11721.0</td>\n",
              "      <td>0.0</td>\n",
              "      <td>4.0</td>\n",
              "      <td>0.0</td>\n",
              "      <td>1.0</td>\n",
              "      <td>0.0</td>\n",
              "      <td>6.0</td>\n",
              "    </tr>\n",
              "    <tr>\n",
              "      <th>6.0</th>\n",
              "      <td>0.0</td>\n",
              "      <td>3.0</td>\n",
              "      <td>0.0</td>\n",
              "      <td>0.0</td>\n",
              "      <td>0.0</td>\n",
              "      <td>22.0</td>\n",
              "      <td>0.0</td>\n",
              "      <td>0.0</td>\n",
              "      <td>1.0</td>\n",
              "      <td>0.0</td>\n",
              "      <td>51.0</td>\n",
              "    </tr>\n",
              "    <tr>\n",
              "      <th>7.0</th>\n",
              "      <td>55.0</td>\n",
              "      <td>635.0</td>\n",
              "      <td>283.0</td>\n",
              "      <td>45.0</td>\n",
              "      <td>12.0</td>\n",
              "      <td>0.0</td>\n",
              "      <td>659.0</td>\n",
              "      <td>1.0</td>\n",
              "      <td>100.0</td>\n",
              "      <td>0.0</td>\n",
              "      <td>0.0</td>\n",
              "    </tr>\n",
              "    <tr>\n",
              "      <th>8.0</th>\n",
              "      <td>39.0</td>\n",
              "      <td>123.0</td>\n",
              "      <td>45.0</td>\n",
              "      <td>5.0</td>\n",
              "      <td>0.0</td>\n",
              "      <td>0.0</td>\n",
              "      <td>7.0</td>\n",
              "      <td>893.0</td>\n",
              "      <td>185.0</td>\n",
              "      <td>0.0</td>\n",
              "      <td>30.0</td>\n",
              "    </tr>\n",
              "    <tr>\n",
              "      <th>9.0</th>\n",
              "      <td>36.0</td>\n",
              "      <td>138.0</td>\n",
              "      <td>92.0</td>\n",
              "      <td>6.0</td>\n",
              "      <td>2.0</td>\n",
              "      <td>0.0</td>\n",
              "      <td>17.0</td>\n",
              "      <td>18.0</td>\n",
              "      <td>10835.0</td>\n",
              "      <td>0.0</td>\n",
              "      <td>0.0</td>\n",
              "    </tr>\n",
              "    <tr>\n",
              "      <th>10.0</th>\n",
              "      <td>2.0</td>\n",
              "      <td>2.0</td>\n",
              "      <td>55.0</td>\n",
              "      <td>3.0</td>\n",
              "      <td>0.0</td>\n",
              "      <td>0.0</td>\n",
              "      <td>0.0</td>\n",
              "      <td>0.0</td>\n",
              "      <td>51.0</td>\n",
              "      <td>13.0</td>\n",
              "      <td>0.0</td>\n",
              "    </tr>\n",
              "    <tr>\n",
              "      <th>11.0</th>\n",
              "      <td>12.0</td>\n",
              "      <td>53.0</td>\n",
              "      <td>0.0</td>\n",
              "      <td>0.0</td>\n",
              "      <td>0.0</td>\n",
              "      <td>0.0</td>\n",
              "      <td>0.0</td>\n",
              "      <td>0.0</td>\n",
              "      <td>0.0</td>\n",
              "      <td>0.0</td>\n",
              "      <td>22401.0</td>\n",
              "    </tr>\n",
              "  </tbody>\n",
              "</table>\n",
              "</div>"
            ],
            "text/plain": [
              "Class_ID       1.0     2.0     3.0     4.0   ...   8.0      9.0   10.0     11.0\n",
              "Class_pred                                   ...                               \n",
              "1.0         14757.0  2438.0    60.0    89.0  ...    3.0     52.0   0.0     43.0\n",
              "2.0          1244.0  7835.0   232.0   243.0  ...    5.0    288.0   0.0     73.0\n",
              "3.0           180.0   174.0  5292.0    32.0  ...    5.0    130.0   0.0      0.0\n",
              "4.0           251.0  1057.0  1019.0  4468.0  ...    0.0      9.0   0.0      6.0\n",
              "5.0           133.0   146.0   515.0   340.0  ...    0.0      1.0   0.0      6.0\n",
              "6.0             0.0     3.0     0.0     0.0  ...    0.0      1.0   0.0     51.0\n",
              "7.0            55.0   635.0   283.0    45.0  ...    1.0    100.0   0.0      0.0\n",
              "8.0            39.0   123.0    45.0     5.0  ...  893.0    185.0   0.0     30.0\n",
              "9.0            36.0   138.0    92.0     6.0  ...   18.0  10835.0   0.0      0.0\n",
              "10.0            2.0     2.0    55.0     3.0  ...    0.0     51.0  13.0      0.0\n",
              "11.0           12.0    53.0     0.0     0.0  ...    0.0      0.0   0.0  22401.0\n",
              "\n",
              "[11 rows x 11 columns]"
            ]
          },
          "metadata": {
            "tags": []
          },
          "execution_count": 45
        }
      ]
    },
    {
      "cell_type": "code",
      "metadata": {
        "colab": {
          "base_uri": "https://localhost:8080/"
        },
        "id": "zhYEMs4UJI-E",
        "outputId": "23750084-a8f2-4313-fac5-7442f53413c6"
      },
      "source": [
        "reported_1=y_test.merge(all_train[['idkab']],left_index=True,right_index=True)\n",
        "pd.set_option('display.max_rows', 500)\n",
        "pd.set_option('display.max_columns', 500)\n",
        "pd.set_option('display.width', 150)\n",
        "report_file='...'##report file\n",
        "for i in reported_1.idkab.unique():\n",
        "  temp_=reported_1.query('idkab==@i')\n",
        "  print('-------------------------')\n",
        "  print('CONFUSION MATRIX FOR:', i)\n",
        "  print(temp_.reset_index().pivot_table(columns='Class_ID',index='Class_pred',values='index',aggfunc='count').fillna(0))\n",
        "  print('-------------------------', file=open(report_file, \"a\"))\n",
        "  print('CONFUSION MATRIX FOR:', i,file=open(report_file, \"a\"))\n",
        "  print(temp_.reset_index().pivot_table(columns='Class_ID',index='Class_pred',values='index',aggfunc='count').fillna(0),file=open(report_file, \"a\"))"
      ],
      "id": "zhYEMs4UJI-E",
      "execution_count": null,
      "outputs": [
        {
          "output_type": "stream",
          "text": [
            "-------------------------\n",
            "CONFUSION MATRIX FOR: 3329\n",
            "Class_ID      1.0     2.0   4.0    5.0    8.0     9.0      11.0\n",
            "Class_pred                                                     \n",
            "1.0         1585.0   444.0   9.0   75.0    2.0     0.0     11.0\n",
            "2.0           62.0  2882.0  55.0    0.0    0.0    43.0      9.0\n",
            "3.0           45.0     9.0   2.0    0.0    0.0     0.0      0.0\n",
            "4.0           15.0    22.0  99.0  107.0    0.0     0.0      0.0\n",
            "5.0            0.0     0.0   4.0  209.0    0.0     0.0      0.0\n",
            "6.0            0.0     0.0   0.0    0.0    0.0     1.0     48.0\n",
            "7.0            1.0     0.0   4.0    0.0    0.0     0.0      0.0\n",
            "8.0            0.0    35.0   2.0    0.0  148.0    10.0      2.0\n",
            "9.0            0.0    34.0   1.0    0.0    0.0  1524.0      0.0\n",
            "11.0           0.0     3.0   0.0    0.0    0.0     0.0  10257.0\n",
            "-------------------------\n",
            "CONFUSION MATRIX FOR: 3213\n",
            "Class_ID      1.0    2.0     3.0    4.0     9.0     11.0\n",
            "Class_pred                                              \n",
            "1.0         2162.0  431.0    48.0    7.0     1.0     0.0\n",
            "2.0            0.0    0.0     3.0   15.0     9.0     0.0\n",
            "3.0            1.0    0.0  4040.0    0.0     3.0     0.0\n",
            "4.0            0.0    0.0     0.0  361.0     0.0     0.0\n",
            "8.0            0.0    0.0    32.0    2.0     4.0     0.0\n",
            "9.0            0.0    0.0     0.0    0.0  2323.0     0.0\n",
            "10.0           0.0    0.0     0.0    0.0    17.0     0.0\n",
            "11.0           0.0    0.0     0.0    0.0     0.0  4861.0\n",
            "-------------------------\n",
            "CONFUSION MATRIX FOR: 3272\n",
            "Class_ID      1.0     2.0    3.0     4.0     5.0   7.0    8.0     9.0   10.0   11.0\n",
            "Class_pred                                                                         \n",
            "1.0         1738.0   326.0   10.0    29.0     0.0   0.0    0.0    24.0   0.0   10.0\n",
            "2.0           70.0  1339.0    7.0    41.0     0.0   3.0    0.0    97.0   0.0   49.0\n",
            "3.0            2.0    27.0  489.0    30.0    84.0   0.0    0.0    37.0   0.0    0.0\n",
            "4.0           34.0   149.0  455.0  1527.0    88.0  23.0    0.0     6.0   0.0    0.0\n",
            "5.0           21.0    36.0  137.0    86.0  8464.0   0.0    0.0     0.0   0.0    1.0\n",
            "6.0            0.0     3.0    0.0     0.0     0.0   0.0    0.0     0.0   0.0    2.0\n",
            "7.0            1.0   208.0   14.0    17.0     1.0  39.0    0.0    68.0   0.0    0.0\n",
            "8.0            3.0    51.0    5.0     0.0     0.0   0.0  370.0    97.0   0.0    8.0\n",
            "9.0           11.0    14.0   75.0     1.0     0.0   0.0    0.0  2444.0   0.0    0.0\n",
            "10.0           2.0     0.0   49.0     0.0     0.0   0.0    0.0    27.0  13.0    0.0\n",
            "11.0           0.0    50.0    0.0     0.0     0.0   0.0    0.0     0.0   0.0  115.0\n",
            "-------------------------\n",
            "CONFUSION MATRIX FOR: 3271\n",
            "Class_ID     1.0     2.0    3.0    4.0     5.0    7.0    8.0     9.0   11.0\n",
            "Class_pred                                                                 \n",
            "1.0         590.0     3.0    0.0    3.0    15.0    0.0    0.0    18.0  16.0\n",
            "2.0          84.0  1508.0  163.0   28.0    60.0    6.0    4.0     7.0   5.0\n",
            "3.0           2.0     4.0  391.0    0.0     0.0    0.0    0.0    86.0   0.0\n",
            "4.0          48.0   310.0  279.0  154.0    31.0    1.0    0.0     0.0   1.0\n",
            "5.0          13.0    10.0    0.0   25.0  1800.0    0.0    0.0     0.0   2.0\n",
            "6.0           0.0     0.0    0.0    0.0     0.0    0.0    0.0     0.0   1.0\n",
            "7.0           1.0   277.0  267.0    0.0     0.0  473.0    0.0    28.0   0.0\n",
            "8.0           2.0     0.0    0.0    0.0     0.0    0.0  164.0    29.0  20.0\n",
            "9.0           2.0     0.0   10.0    2.0     2.0    5.0    0.0  1730.0   0.0\n",
            "10.0          0.0     0.0    6.0    3.0     0.0    0.0    0.0     5.0   0.0\n",
            "11.0          0.0     0.0    0.0    0.0     0.0    0.0    0.0     0.0  12.0\n",
            "-------------------------\n",
            "CONFUSION MATRIX FOR: 3205\n",
            "Class_ID      1.0     2.0    3.0     4.0     5.0    7.0     9.0     11.0\n",
            "Class_pred                                                              \n",
            "1.0         8149.0  1105.0    1.0    39.0    45.0   10.0     9.0     6.0\n",
            "2.0          860.0  1467.0    1.0    72.0    10.0   39.0   119.0    10.0\n",
            "3.0          120.0    22.0  333.0     0.0     0.0    0.0     0.0     0.0\n",
            "4.0          151.0   555.0  185.0  2235.0  1048.0   24.0     3.0     5.0\n",
            "5.0           99.0   100.0  378.0   224.0  1248.0    4.0     1.0     3.0\n",
            "7.0           39.0   150.0    2.0    23.0    11.0  119.0     4.0     0.0\n",
            "8.0           17.0     5.0    0.0     0.0     0.0    5.0     5.0     0.0\n",
            "9.0           21.0    20.0    0.0     0.0     0.0    3.0  1522.0     0.0\n",
            "10.0           0.0     2.0    0.0     0.0     0.0    0.0     2.0     0.0\n",
            "11.0           4.0     0.0    0.0     0.0     0.0    0.0     0.0  5000.0\n",
            "-------------------------\n",
            "CONFUSION MATRIX FOR: 3674\n",
            "Class_ID    1.0   2.0   3.0   5.0   7.0   8.0    9.0   11.0\n",
            "Class_pred                                                 \n",
            "1.0         14.0  17.0   1.0   2.0   0.0   0.0    0.0   0.0\n",
            "2.0          7.0  65.0  42.0  30.0  17.0   0.0   11.0   0.0\n",
            "3.0          0.0   7.0   0.0   0.0   0.0   4.0    0.0   0.0\n",
            "4.0          0.0  10.0  19.0   0.0   0.0   0.0    0.0   0.0\n",
            "7.0          0.0   0.0   0.0   0.0  28.0   0.0    0.0   0.0\n",
            "8.0          0.0  21.0   8.0   0.0   2.0  95.0   26.0   0.0\n",
            "9.0          0.0  38.0   7.0   0.0   9.0   8.0  606.0   0.0\n",
            "11.0         0.0   0.0   0.0   0.0   0.0   0.0    0.0  32.0\n",
            "-------------------------\n",
            "CONFUSION MATRIX FOR: 3376\n",
            "Class_ID     1.0    2.0   3.0   4.0   5.0   6.0   8.0    9.0     11.0\n",
            "Class_pred                                                           \n",
            "1.0         164.0    2.0   0.0   0.0   0.0   0.0   1.0    0.0     0.0\n",
            "2.0          23.0  138.0   3.0  17.0   5.0   0.0   1.0    0.0     0.0\n",
            "3.0           0.0    0.0   0.0   0.0   0.0   0.0   1.0    4.0     0.0\n",
            "4.0           0.0    5.0   8.0   0.0   2.0   0.0   0.0    0.0     0.0\n",
            "6.0           0.0    0.0   0.0   0.0   0.0  22.0   0.0    0.0     0.0\n",
            "8.0           2.0    4.0   0.0   1.0   0.0   0.0  64.0   14.0     0.0\n",
            "9.0           0.0    3.0   0.0   2.0   0.0   0.0   3.0  507.0     0.0\n",
            "11.0          8.0    0.0   0.0   0.0   0.0   0.0   0.0    0.0  2124.0\n",
            "-------------------------\n",
            "CONFUSION MATRIX FOR: 3315\n",
            "Class_ID      1.0    2.0   3.0   4.0   8.0    9.0\n",
            "Class_pred                                       \n",
            "1.0         355.0  110.0   0.0   2.0   0.0    0.0\n",
            "2.0         138.0  436.0  13.0  15.0   0.0    2.0\n",
            "3.0          10.0  105.0  39.0   0.0   0.0    0.0\n",
            "4.0           3.0    6.0  73.0  92.0   0.0    0.0\n",
            "5.0           0.0    0.0   0.0   1.0   0.0    0.0\n",
            "7.0          13.0    0.0   0.0   1.0   1.0    0.0\n",
            "8.0          15.0    7.0   0.0   0.0  52.0    0.0\n",
            "9.0           2.0   29.0   0.0   0.0   7.0  179.0\n"
          ],
          "name": "stdout"
        }
      ]
    },
    {
      "cell_type": "code",
      "metadata": {
        "colab": {
          "base_uri": "https://localhost:8080/"
        },
        "id": "Hr2ACCyNFmFx",
        "outputId": "4c8f361f-42b5-43c7-93c7-5c7de5a99c53"
      },
      "source": [
        "print('F1-SCORE FOR TEST [MACRO]: ',f1_score(y_test.Class_ID,prediction,average='macro'))\n",
        "print('F1-SCORE FOR TEST [MICRO]: ',f1_score(y_test.Class_ID,prediction,average='micro'))\n",
        "print('F1-SCORE FOR TEST [WEIGHTED]: ',f1_score(y_test.Class_ID,prediction,average='weighted'))\n",
        "print('ACCURACY SCORE FOR TEST: ',accuracy_score(y_test.Class_ID,prediction))"
      ],
      "id": "Hr2ACCyNFmFx",
      "execution_count": null,
      "outputs": [
        {
          "output_type": "stream",
          "text": [
            "F1-SCORE FOR TEST [MACRO]:  0.7068044165579574\n",
            "F1-SCORE FOR TEST [MICRO]:  0.8621948287543986\n",
            "F1-SCORE FOR TEST [WEIGHTED]:  0.8652248508630453\n",
            "ACCURACY SCORE FOR TEST:  0.8621948287543986\n"
          ],
          "name": "stdout"
        }
      ]
    },
    {
      "cell_type": "code",
      "metadata": {
        "colab": {
          "base_uri": "https://localhost:8080/"
        },
        "id": "hXGgEwzSFjDx",
        "outputId": "acebbdc8-69be-476a-8515-ec2a0aa415e2"
      },
      "source": [
        "print(classification_report(y_test.Class_ID,prediction))"
      ],
      "id": "hXGgEwzSFjDx",
      "execution_count": null,
      "outputs": [
        {
          "output_type": "stream",
          "text": [
            "              precision    recall  f1-score   support\n",
            "\n",
            "         1.0       0.84      0.88      0.86     16709\n",
            "         2.0       0.78      0.62      0.69     12604\n",
            "         3.0       0.90      0.70      0.78      7593\n",
            "         4.0       0.55      0.85      0.67      5231\n",
            "         5.0       0.91      0.88      0.89     13337\n",
            "         6.0       0.29      1.00      0.44        22\n",
            "         7.0       0.37      0.81      0.51       810\n",
            "         8.0       0.67      0.97      0.79       925\n",
            "         9.0       0.97      0.93      0.95     11652\n",
            "        10.0       0.10      1.00      0.19        13\n",
            "        11.0       1.00      0.99      0.99     22610\n",
            "\n",
            "    accuracy                           0.86     91506\n",
            "   macro avg       0.67      0.88      0.71     91506\n",
            "weighted avg       0.88      0.86      0.87     91506\n",
            "\n"
          ],
          "name": "stdout"
        }
      ]
    },
    {
      "cell_type": "code",
      "metadata": {
        "colab": {
          "base_uri": "https://localhost:8080/"
        },
        "id": "74IBBsPVNEbv",
        "outputId": "bdfc33e9-9d18-4821-bcc5-84832ccf8fbb"
      },
      "source": [
        "for i in reported_1.idkab.unique():\n",
        "  temp_=reported_1.query('idkab==@i')\n",
        "  print('-------------------------')\n",
        "  print('CLASSIFICATION REPORT  FOR:', i)\n",
        "  print(classification_report(temp_.Class_ID,temp_.Class_pred))\n",
        "  print('-------------------------', file=open(report_file, \"a\"))\n",
        "  print('CLASSIFICATION REPORT  FOR:', i,file=open(report_file, \"a\"))\n",
        "  print(classification_report(temp_.Class_ID,temp_.Class_pred),file=open(report_file, \"a\"))"
      ],
      "id": "74IBBsPVNEbv",
      "execution_count": null,
      "outputs": [
        {
          "output_type": "stream",
          "text": [
            "-------------------------\n",
            "CLASSIFICATION REPORT  FOR: 3329\n",
            "              precision    recall  f1-score   support\n",
            "\n",
            "         1.0       0.75      0.93      0.83      1708\n",
            "         2.0       0.94      0.84      0.89      3429\n",
            "         3.0       0.00      0.00      0.00         0\n",
            "         4.0       0.41      0.56      0.47       176\n",
            "         5.0       0.98      0.53      0.69       391\n",
            "         6.0       0.00      0.00      0.00         0\n",
            "         7.0       0.00      0.00      0.00         0\n",
            "         8.0       0.75      0.99      0.85       150\n",
            "         9.0       0.98      0.97      0.97      1578\n",
            "        11.0       1.00      0.99      1.00     10327\n",
            "\n",
            "    accuracy                           0.94     17759\n",
            "   macro avg       0.58      0.58      0.57     17759\n",
            "weighted avg       0.95      0.94      0.94     17759\n",
            "\n",
            "-------------------------\n",
            "CLASSIFICATION REPORT  FOR: 3213\n",
            "              precision    recall  f1-score   support\n",
            "\n",
            "         1.0       0.82      1.00      0.90      2163\n",
            "         2.0       0.00      0.00      0.00       431\n",
            "         3.0       1.00      0.98      0.99      4123\n",
            "         4.0       1.00      0.94      0.97       385\n",
            "         8.0       0.00      0.00      0.00         0\n",
            "         9.0       1.00      0.99      0.99      2357\n",
            "        10.0       0.00      0.00      0.00         0\n",
            "        11.0       1.00      1.00      1.00      4861\n",
            "\n",
            "    accuracy                           0.96     14320\n",
            "   macro avg       0.60      0.61      0.61     14320\n",
            "weighted avg       0.94      0.96      0.95     14320\n",
            "\n"
          ],
          "name": "stdout"
        },
        {
          "output_type": "stream",
          "text": [
            "/usr/local/lib/python3.7/dist-packages/sklearn/metrics/_classification.py:1248: UndefinedMetricWarning: Recall and F-score are ill-defined and being set to 0.0 in labels with no true samples. Use `zero_division` parameter to control this behavior.\n",
            "  _warn_prf(average, modifier, msg_start, len(result))\n",
            "/usr/local/lib/python3.7/dist-packages/sklearn/metrics/_classification.py:1248: UndefinedMetricWarning: Recall and F-score are ill-defined and being set to 0.0 in labels with no true samples. Use `zero_division` parameter to control this behavior.\n",
            "  _warn_prf(average, modifier, msg_start, len(result))\n",
            "/usr/local/lib/python3.7/dist-packages/sklearn/metrics/_classification.py:1248: UndefinedMetricWarning: Recall and F-score are ill-defined and being set to 0.0 in labels with no true samples. Use `zero_division` parameter to control this behavior.\n",
            "  _warn_prf(average, modifier, msg_start, len(result))\n",
            "/usr/local/lib/python3.7/dist-packages/sklearn/metrics/_classification.py:1248: UndefinedMetricWarning: Recall and F-score are ill-defined and being set to 0.0 in labels with no true samples. Use `zero_division` parameter to control this behavior.\n",
            "  _warn_prf(average, modifier, msg_start, len(result))\n",
            "/usr/local/lib/python3.7/dist-packages/sklearn/metrics/_classification.py:1248: UndefinedMetricWarning: Recall and F-score are ill-defined and being set to 0.0 in labels with no true samples. Use `zero_division` parameter to control this behavior.\n",
            "  _warn_prf(average, modifier, msg_start, len(result))\n",
            "/usr/local/lib/python3.7/dist-packages/sklearn/metrics/_classification.py:1248: UndefinedMetricWarning: Recall and F-score are ill-defined and being set to 0.0 in labels with no true samples. Use `zero_division` parameter to control this behavior.\n",
            "  _warn_prf(average, modifier, msg_start, len(result))\n",
            "/usr/local/lib/python3.7/dist-packages/sklearn/metrics/_classification.py:1248: UndefinedMetricWarning: Recall and F-score are ill-defined and being set to 0.0 in labels with no true samples. Use `zero_division` parameter to control this behavior.\n",
            "  _warn_prf(average, modifier, msg_start, len(result))\n",
            "/usr/local/lib/python3.7/dist-packages/sklearn/metrics/_classification.py:1248: UndefinedMetricWarning: Recall and F-score are ill-defined and being set to 0.0 in labels with no true samples. Use `zero_division` parameter to control this behavior.\n",
            "  _warn_prf(average, modifier, msg_start, len(result))\n",
            "/usr/local/lib/python3.7/dist-packages/sklearn/metrics/_classification.py:1248: UndefinedMetricWarning: Recall and F-score are ill-defined and being set to 0.0 in labels with no true samples. Use `zero_division` parameter to control this behavior.\n",
            "  _warn_prf(average, modifier, msg_start, len(result))\n",
            "/usr/local/lib/python3.7/dist-packages/sklearn/metrics/_classification.py:1248: UndefinedMetricWarning: Recall and F-score are ill-defined and being set to 0.0 in labels with no true samples. Use `zero_division` parameter to control this behavior.\n",
            "  _warn_prf(average, modifier, msg_start, len(result))\n",
            "/usr/local/lib/python3.7/dist-packages/sklearn/metrics/_classification.py:1248: UndefinedMetricWarning: Recall and F-score are ill-defined and being set to 0.0 in labels with no true samples. Use `zero_division` parameter to control this behavior.\n",
            "  _warn_prf(average, modifier, msg_start, len(result))\n",
            "/usr/local/lib/python3.7/dist-packages/sklearn/metrics/_classification.py:1248: UndefinedMetricWarning: Recall and F-score are ill-defined and being set to 0.0 in labels with no true samples. Use `zero_division` parameter to control this behavior.\n",
            "  _warn_prf(average, modifier, msg_start, len(result))\n",
            "/usr/local/lib/python3.7/dist-packages/sklearn/metrics/_classification.py:1248: UndefinedMetricWarning: Recall and F-score are ill-defined and being set to 0.0 in labels with no true samples. Use `zero_division` parameter to control this behavior.\n",
            "  _warn_prf(average, modifier, msg_start, len(result))\n",
            "/usr/local/lib/python3.7/dist-packages/sklearn/metrics/_classification.py:1248: UndefinedMetricWarning: Recall and F-score are ill-defined and being set to 0.0 in labels with no true samples. Use `zero_division` parameter to control this behavior.\n",
            "  _warn_prf(average, modifier, msg_start, len(result))\n",
            "/usr/local/lib/python3.7/dist-packages/sklearn/metrics/_classification.py:1248: UndefinedMetricWarning: Recall and F-score are ill-defined and being set to 0.0 in labels with no true samples. Use `zero_division` parameter to control this behavior.\n",
            "  _warn_prf(average, modifier, msg_start, len(result))\n",
            "/usr/local/lib/python3.7/dist-packages/sklearn/metrics/_classification.py:1248: UndefinedMetricWarning: Recall and F-score are ill-defined and being set to 0.0 in labels with no true samples. Use `zero_division` parameter to control this behavior.\n",
            "  _warn_prf(average, modifier, msg_start, len(result))\n",
            "/usr/local/lib/python3.7/dist-packages/sklearn/metrics/_classification.py:1248: UndefinedMetricWarning: Recall and F-score are ill-defined and being set to 0.0 in labels with no true samples. Use `zero_division` parameter to control this behavior.\n",
            "  _warn_prf(average, modifier, msg_start, len(result))\n",
            "/usr/local/lib/python3.7/dist-packages/sklearn/metrics/_classification.py:1248: UndefinedMetricWarning: Recall and F-score are ill-defined and being set to 0.0 in labels with no true samples. Use `zero_division` parameter to control this behavior.\n",
            "  _warn_prf(average, modifier, msg_start, len(result))\n",
            "/usr/local/lib/python3.7/dist-packages/sklearn/metrics/_classification.py:1248: UndefinedMetricWarning: Recall and F-score are ill-defined and being set to 0.0 in labels with no true samples. Use `zero_division` parameter to control this behavior.\n",
            "  _warn_prf(average, modifier, msg_start, len(result))\n",
            "/usr/local/lib/python3.7/dist-packages/sklearn/metrics/_classification.py:1248: UndefinedMetricWarning: Recall and F-score are ill-defined and being set to 0.0 in labels with no true samples. Use `zero_division` parameter to control this behavior.\n",
            "  _warn_prf(average, modifier, msg_start, len(result))\n",
            "/usr/local/lib/python3.7/dist-packages/sklearn/metrics/_classification.py:1248: UndefinedMetricWarning: Recall and F-score are ill-defined and being set to 0.0 in labels with no true samples. Use `zero_division` parameter to control this behavior.\n",
            "  _warn_prf(average, modifier, msg_start, len(result))\n",
            "/usr/local/lib/python3.7/dist-packages/sklearn/metrics/_classification.py:1248: UndefinedMetricWarning: Recall and F-score are ill-defined and being set to 0.0 in labels with no true samples. Use `zero_division` parameter to control this behavior.\n",
            "  _warn_prf(average, modifier, msg_start, len(result))\n",
            "/usr/local/lib/python3.7/dist-packages/sklearn/metrics/_classification.py:1248: UndefinedMetricWarning: Recall and F-score are ill-defined and being set to 0.0 in labels with no true samples. Use `zero_division` parameter to control this behavior.\n",
            "  _warn_prf(average, modifier, msg_start, len(result))\n",
            "/usr/local/lib/python3.7/dist-packages/sklearn/metrics/_classification.py:1248: UndefinedMetricWarning: Recall and F-score are ill-defined and being set to 0.0 in labels with no true samples. Use `zero_division` parameter to control this behavior.\n",
            "  _warn_prf(average, modifier, msg_start, len(result))\n"
          ],
          "name": "stderr"
        },
        {
          "output_type": "stream",
          "text": [
            "-------------------------\n",
            "CLASSIFICATION REPORT  FOR: 3272\n",
            "              precision    recall  f1-score   support\n",
            "\n",
            "         1.0       0.81      0.92      0.86      1882\n",
            "         2.0       0.83      0.61      0.70      2203\n",
            "         3.0       0.73      0.39      0.51      1241\n",
            "         4.0       0.67      0.88      0.76      1731\n",
            "         5.0       0.97      0.98      0.97      8637\n",
            "         6.0       0.00      0.00      0.00         0\n",
            "         7.0       0.11      0.60      0.19        65\n",
            "         8.0       0.69      1.00      0.82       370\n",
            "         9.0       0.96      0.87      0.91      2800\n",
            "        10.0       0.14      1.00      0.25        13\n",
            "        11.0       0.70      0.62      0.66       185\n",
            "\n",
            "    accuracy                           0.86     19127\n",
            "   macro avg       0.60      0.72      0.60     19127\n",
            "weighted avg       0.88      0.86      0.86     19127\n",
            "\n",
            "-------------------------\n",
            "CLASSIFICATION REPORT  FOR: 3271\n",
            "              precision    recall  f1-score   support\n",
            "\n",
            "         1.0       0.91      0.80      0.85       742\n",
            "         2.0       0.81      0.71      0.76      2112\n",
            "         3.0       0.81      0.35      0.49      1116\n",
            "         4.0       0.19      0.72      0.30       215\n",
            "         5.0       0.97      0.94      0.96      1908\n",
            "         6.0       0.00      0.00      0.00         0\n",
            "         7.0       0.45      0.98      0.62       485\n",
            "         8.0       0.76      0.98      0.86       168\n",
            "         9.0       0.99      0.91      0.95      1903\n",
            "        10.0       0.00      0.00      0.00         0\n",
            "        11.0       1.00      0.21      0.35        57\n",
            "\n",
            "    accuracy                           0.78      8706\n",
            "   macro avg       0.63      0.60      0.56      8706\n",
            "weighted avg       0.86      0.78      0.80      8706\n",
            "\n",
            "-------------------------\n",
            "CLASSIFICATION REPORT  FOR: 3205\n"
          ],
          "name": "stdout"
        },
        {
          "output_type": "stream",
          "text": [
            "/usr/local/lib/python3.7/dist-packages/sklearn/metrics/_classification.py:1248: UndefinedMetricWarning: Recall and F-score are ill-defined and being set to 0.0 in labels with no true samples. Use `zero_division` parameter to control this behavior.\n",
            "  _warn_prf(average, modifier, msg_start, len(result))\n",
            "/usr/local/lib/python3.7/dist-packages/sklearn/metrics/_classification.py:1248: UndefinedMetricWarning: Recall and F-score are ill-defined and being set to 0.0 in labels with no true samples. Use `zero_division` parameter to control this behavior.\n",
            "  _warn_prf(average, modifier, msg_start, len(result))\n",
            "/usr/local/lib/python3.7/dist-packages/sklearn/metrics/_classification.py:1248: UndefinedMetricWarning: Recall and F-score are ill-defined and being set to 0.0 in labels with no true samples. Use `zero_division` parameter to control this behavior.\n",
            "  _warn_prf(average, modifier, msg_start, len(result))\n",
            "/usr/local/lib/python3.7/dist-packages/sklearn/metrics/_classification.py:1248: UndefinedMetricWarning: Recall and F-score are ill-defined and being set to 0.0 in labels with no true samples. Use `zero_division` parameter to control this behavior.\n",
            "  _warn_prf(average, modifier, msg_start, len(result))\n",
            "/usr/local/lib/python3.7/dist-packages/sklearn/metrics/_classification.py:1248: UndefinedMetricWarning: Recall and F-score are ill-defined and being set to 0.0 in labels with no true samples. Use `zero_division` parameter to control this behavior.\n",
            "  _warn_prf(average, modifier, msg_start, len(result))\n",
            "/usr/local/lib/python3.7/dist-packages/sklearn/metrics/_classification.py:1248: UndefinedMetricWarning: Recall and F-score are ill-defined and being set to 0.0 in labels with no true samples. Use `zero_division` parameter to control this behavior.\n",
            "  _warn_prf(average, modifier, msg_start, len(result))\n",
            "/usr/local/lib/python3.7/dist-packages/sklearn/metrics/_classification.py:1248: UndefinedMetricWarning: Precision and F-score are ill-defined and being set to 0.0 in labels with no predicted samples. Use `zero_division` parameter to control this behavior.\n",
            "  _warn_prf(average, modifier, msg_start, len(result))\n",
            "/usr/local/lib/python3.7/dist-packages/sklearn/metrics/_classification.py:1248: UndefinedMetricWarning: Recall and F-score are ill-defined and being set to 0.0 in labels with no true samples. Use `zero_division` parameter to control this behavior.\n",
            "  _warn_prf(average, modifier, msg_start, len(result))\n",
            "/usr/local/lib/python3.7/dist-packages/sklearn/metrics/_classification.py:1248: UndefinedMetricWarning: Precision and F-score are ill-defined and being set to 0.0 in labels with no predicted samples. Use `zero_division` parameter to control this behavior.\n",
            "  _warn_prf(average, modifier, msg_start, len(result))\n",
            "/usr/local/lib/python3.7/dist-packages/sklearn/metrics/_classification.py:1248: UndefinedMetricWarning: Recall and F-score are ill-defined and being set to 0.0 in labels with no true samples. Use `zero_division` parameter to control this behavior.\n",
            "  _warn_prf(average, modifier, msg_start, len(result))\n",
            "/usr/local/lib/python3.7/dist-packages/sklearn/metrics/_classification.py:1248: UndefinedMetricWarning: Precision and F-score are ill-defined and being set to 0.0 in labels with no predicted samples. Use `zero_division` parameter to control this behavior.\n",
            "  _warn_prf(average, modifier, msg_start, len(result))\n",
            "/usr/local/lib/python3.7/dist-packages/sklearn/metrics/_classification.py:1248: UndefinedMetricWarning: Recall and F-score are ill-defined and being set to 0.0 in labels with no true samples. Use `zero_division` parameter to control this behavior.\n",
            "  _warn_prf(average, modifier, msg_start, len(result))\n",
            "/usr/local/lib/python3.7/dist-packages/sklearn/metrics/_classification.py:1248: UndefinedMetricWarning: Precision and F-score are ill-defined and being set to 0.0 in labels with no predicted samples. Use `zero_division` parameter to control this behavior.\n",
            "  _warn_prf(average, modifier, msg_start, len(result))\n",
            "/usr/local/lib/python3.7/dist-packages/sklearn/metrics/_classification.py:1248: UndefinedMetricWarning: Recall and F-score are ill-defined and being set to 0.0 in labels with no true samples. Use `zero_division` parameter to control this behavior.\n",
            "  _warn_prf(average, modifier, msg_start, len(result))\n",
            "/usr/local/lib/python3.7/dist-packages/sklearn/metrics/_classification.py:1248: UndefinedMetricWarning: Precision and F-score are ill-defined and being set to 0.0 in labels with no predicted samples. Use `zero_division` parameter to control this behavior.\n",
            "  _warn_prf(average, modifier, msg_start, len(result))\n",
            "/usr/local/lib/python3.7/dist-packages/sklearn/metrics/_classification.py:1248: UndefinedMetricWarning: Recall and F-score are ill-defined and being set to 0.0 in labels with no true samples. Use `zero_division` parameter to control this behavior.\n",
            "  _warn_prf(average, modifier, msg_start, len(result))\n",
            "/usr/local/lib/python3.7/dist-packages/sklearn/metrics/_classification.py:1248: UndefinedMetricWarning: Precision and F-score are ill-defined and being set to 0.0 in labels with no predicted samples. Use `zero_division` parameter to control this behavior.\n",
            "  _warn_prf(average, modifier, msg_start, len(result))\n",
            "/usr/local/lib/python3.7/dist-packages/sklearn/metrics/_classification.py:1248: UndefinedMetricWarning: Recall and F-score are ill-defined and being set to 0.0 in labels with no true samples. Use `zero_division` parameter to control this behavior.\n",
            "  _warn_prf(average, modifier, msg_start, len(result))\n",
            "/usr/local/lib/python3.7/dist-packages/sklearn/metrics/_classification.py:1248: UndefinedMetricWarning: Precision and F-score are ill-defined and being set to 0.0 in labels with no predicted samples. Use `zero_division` parameter to control this behavior.\n",
            "  _warn_prf(average, modifier, msg_start, len(result))\n",
            "/usr/local/lib/python3.7/dist-packages/sklearn/metrics/_classification.py:1248: UndefinedMetricWarning: Precision and F-score are ill-defined and being set to 0.0 in labels with no predicted samples. Use `zero_division` parameter to control this behavior.\n",
            "  _warn_prf(average, modifier, msg_start, len(result))\n",
            "/usr/local/lib/python3.7/dist-packages/sklearn/metrics/_classification.py:1248: UndefinedMetricWarning: Precision and F-score are ill-defined and being set to 0.0 in labels with no predicted samples. Use `zero_division` parameter to control this behavior.\n",
            "  _warn_prf(average, modifier, msg_start, len(result))\n",
            "/usr/local/lib/python3.7/dist-packages/sklearn/metrics/_classification.py:1248: UndefinedMetricWarning: Precision and F-score are ill-defined and being set to 0.0 in labels with no predicted samples. Use `zero_division` parameter to control this behavior.\n",
            "  _warn_prf(average, modifier, msg_start, len(result))\n"
          ],
          "name": "stderr"
        },
        {
          "output_type": "stream",
          "text": [
            "              precision    recall  f1-score   support\n",
            "\n",
            "         1.0       0.87      0.86      0.87      9460\n",
            "         2.0       0.57      0.43      0.49      3426\n",
            "         3.0       0.70      0.37      0.48       900\n",
            "         4.0       0.53      0.86      0.66      2593\n",
            "         5.0       0.61      0.53      0.56      2362\n",
            "         7.0       0.34      0.58      0.43       204\n",
            "         8.0       0.00      0.00      0.00         0\n",
            "         9.0       0.97      0.91      0.94      1665\n",
            "        10.0       0.00      0.00      0.00         0\n",
            "        11.0       1.00      1.00      1.00      5024\n",
            "\n",
            "    accuracy                           0.78     25634\n",
            "   macro avg       0.56      0.55      0.54     25634\n",
            "weighted avg       0.79      0.78      0.78     25634\n",
            "\n",
            "-------------------------\n",
            "CLASSIFICATION REPORT  FOR: 3674\n",
            "              precision    recall  f1-score   support\n",
            "\n",
            "         1.0       0.41      0.67      0.51        21\n",
            "         2.0       0.38      0.41      0.39       158\n",
            "         3.0       0.00      0.00      0.00        77\n",
            "         4.0       0.00      0.00      0.00         0\n",
            "         5.0       0.00      0.00      0.00        32\n",
            "         7.0       1.00      0.50      0.67        56\n",
            "         8.0       0.62      0.89      0.73       107\n",
            "         9.0       0.91      0.94      0.92       643\n",
            "        11.0       1.00      1.00      1.00        32\n",
            "\n",
            "    accuracy                           0.75      1126\n",
            "   macro avg       0.48      0.49      0.47      1126\n",
            "weighted avg       0.72      0.75      0.72      1126\n",
            "\n",
            "-------------------------\n",
            "CLASSIFICATION REPORT  FOR: 3376\n",
            "              precision    recall  f1-score   support\n",
            "\n",
            "         1.0       0.98      0.83      0.90       197\n",
            "         2.0       0.74      0.91      0.81       152\n",
            "         3.0       0.00      0.00      0.00        11\n",
            "         4.0       0.00      0.00      0.00        20\n",
            "         5.0       0.00      0.00      0.00         7\n",
            "         6.0       1.00      1.00      1.00        22\n",
            "         8.0       0.75      0.91      0.83        70\n",
            "         9.0       0.98      0.97      0.97       525\n",
            "        11.0       1.00      1.00      1.00      2124\n",
            "\n",
            "    accuracy                           0.97      3128\n",
            "   macro avg       0.61      0.62      0.61      3128\n",
            "weighted avg       0.96      0.97      0.96      3128\n",
            "\n",
            "-------------------------\n",
            "CLASSIFICATION REPORT  FOR: 3315\n",
            "              precision    recall  f1-score   support\n",
            "\n",
            "         1.0       0.76      0.66      0.71       536\n",
            "         2.0       0.72      0.63      0.67       693\n",
            "         3.0       0.25      0.31      0.28       125\n",
            "         4.0       0.53      0.83      0.65       111\n",
            "         5.0       0.00      0.00      0.00         0\n",
            "         7.0       0.00      0.00      0.00         0\n",
            "         8.0       0.70      0.87      0.78        60\n",
            "         9.0       0.82      0.99      0.90       181\n",
            "\n",
            "    accuracy                           0.68      1706\n",
            "   macro avg       0.47      0.54      0.50      1706\n",
            "weighted avg       0.70      0.68      0.68      1706\n",
            "\n"
          ],
          "name": "stdout"
        },
        {
          "output_type": "stream",
          "text": [
            "/usr/local/lib/python3.7/dist-packages/sklearn/metrics/_classification.py:1248: UndefinedMetricWarning: Precision and F-score are ill-defined and being set to 0.0 in labels with no predicted samples. Use `zero_division` parameter to control this behavior.\n",
            "  _warn_prf(average, modifier, msg_start, len(result))\n",
            "/usr/local/lib/python3.7/dist-packages/sklearn/metrics/_classification.py:1248: UndefinedMetricWarning: Precision and F-score are ill-defined and being set to 0.0 in labels with no predicted samples. Use `zero_division` parameter to control this behavior.\n",
            "  _warn_prf(average, modifier, msg_start, len(result))\n",
            "/usr/local/lib/python3.7/dist-packages/sklearn/metrics/_classification.py:1248: UndefinedMetricWarning: Recall and F-score are ill-defined and being set to 0.0 in labels with no true samples. Use `zero_division` parameter to control this behavior.\n",
            "  _warn_prf(average, modifier, msg_start, len(result))\n",
            "/usr/local/lib/python3.7/dist-packages/sklearn/metrics/_classification.py:1248: UndefinedMetricWarning: Recall and F-score are ill-defined and being set to 0.0 in labels with no true samples. Use `zero_division` parameter to control this behavior.\n",
            "  _warn_prf(average, modifier, msg_start, len(result))\n",
            "/usr/local/lib/python3.7/dist-packages/sklearn/metrics/_classification.py:1248: UndefinedMetricWarning: Recall and F-score are ill-defined and being set to 0.0 in labels with no true samples. Use `zero_division` parameter to control this behavior.\n",
            "  _warn_prf(average, modifier, msg_start, len(result))\n",
            "/usr/local/lib/python3.7/dist-packages/sklearn/metrics/_classification.py:1248: UndefinedMetricWarning: Recall and F-score are ill-defined and being set to 0.0 in labels with no true samples. Use `zero_division` parameter to control this behavior.\n",
            "  _warn_prf(average, modifier, msg_start, len(result))\n",
            "/usr/local/lib/python3.7/dist-packages/sklearn/metrics/_classification.py:1248: UndefinedMetricWarning: Recall and F-score are ill-defined and being set to 0.0 in labels with no true samples. Use `zero_division` parameter to control this behavior.\n",
            "  _warn_prf(average, modifier, msg_start, len(result))\n",
            "/usr/local/lib/python3.7/dist-packages/sklearn/metrics/_classification.py:1248: UndefinedMetricWarning: Recall and F-score are ill-defined and being set to 0.0 in labels with no true samples. Use `zero_division` parameter to control this behavior.\n",
            "  _warn_prf(average, modifier, msg_start, len(result))\n"
          ],
          "name": "stderr"
        }
      ]
    },
    {
      "cell_type": "code",
      "metadata": {
        "colab": {
          "base_uri": "https://localhost:8080/",
          "height": 696
        },
        "id": "XykEiDsVC_z3",
        "outputId": "50df6dd9-d16f-4157-fb1f-4b44794418a6"
      },
      "source": [
        "importance = bst_classifier.feature_importances_\n",
        "for i,v in enumerate(importance):\n",
        "  print('Feature: %0d [%s], Score: %.5f' % (i,col_mi[i],v))\n",
        "plt.bar([x for x in range(len(importance))], importance)\n",
        "plt.show()"
      ],
      "id": "XykEiDsVC_z3",
      "execution_count": null,
      "outputs": [
        {
          "output_type": "stream",
          "text": [
            "Feature: 0 [L8_B2_min], Score: 0.03256\n",
            "Feature: 1 [L8_B4_min], Score: 0.03932\n",
            "Feature: 2 [L8_B5_min], Score: 0.02296\n",
            "Feature: 3 [L8_B6_min], Score: 0.05609\n",
            "Feature: 4 [L8_B4_med], Score: 0.05307\n",
            "Feature: 5 [L8_B5_med], Score: 0.03073\n",
            "Feature: 6 [L8_B6_med], Score: 0.10003\n",
            "Feature: 7 [L8_B5_mean], Score: 0.04415\n",
            "Feature: 8 [L8_B6_mean], Score: 0.03258\n",
            "Feature: 9 [L8_bright_mean], Score: 0.08658\n",
            "Feature: 10 [L8_green_mean], Score: 0.02461\n",
            "Feature: 11 [L8_bright_med], Score: 0.06104\n",
            "Feature: 12 [L8_green_med], Score: 0.05714\n",
            "Feature: 13 [S2_B2_min], Score: 0.03613\n",
            "Feature: 14 [S2_B3_min], Score: 0.01979\n",
            "Feature: 15 [S2_B4_min], Score: 0.02244\n",
            "Feature: 16 [S2_B4_mean], Score: 0.01989\n",
            "Feature: 17 [S2_B8_mean], Score: 0.05066\n",
            "Feature: 18 [S2_B4_stdev], Score: 0.09515\n",
            "Feature: 19 [S1_VV_min], Score: 0.01343\n",
            "Feature: 20 [S1_VV_med], Score: 0.02778\n",
            "Feature: 21 [S1_VV_mean], Score: 0.01524\n",
            "Feature: 22 [S1_VH_mean], Score: 0.01688\n",
            "Feature: 23 [Alos_dsm], Score: 0.04172\n"
          ],
          "name": "stdout"
        },
        {
          "output_type": "display_data",
          "data": {
            "image/png": "[encoded data removed]",
            "text/plain": [
              "<Figure size 432x288 with 1 Axes>"
            ]
          },
          "metadata": {
            "tags": [],
            "needs_background": "light"
          }
        }
      ]
    },
    {
      "cell_type": "code",
      "metadata": {
        "id": "w2XqajWIIu7g"
      },
      "source": [
        " with open('...', 'wb') as f: ##pickle file\n",
        "        pickle.dump(bst_classifier, f)"
      ],
      "id": "w2XqajWIIu7g",
      "execution_count": null,
      "outputs": []
    }
  ]
}