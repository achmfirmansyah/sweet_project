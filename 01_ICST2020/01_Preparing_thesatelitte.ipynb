{
  "nbformat": 4,
  "nbformat_minor": 0,
  "metadata": {
    "colab": {
      "name": "Preparing_thesatelitte.ipynb",
      "provenance": [],
      "collapsed_sections": [],
      "include_colab_link": true
    },
    "kernelspec": {
      "name": "python3",
      "display_name": "Python 3"
    }
  },
  "cells": [
    {
      "cell_type": "markdown",
      "metadata": {
        "id": "view-in-github",
        "colab_type": "text"
      },
      "source": [
        "<a href=\"https://colab.research.google.com/github/achmfirmansyah/sweet_project/blob/master/ICST2020/01_Preparing_thesatelitte.ipynb\" target=\"_parent\"><img src=\"https://colab.research.google.com/assets/colab-badge.svg\" alt=\"Open In Colab\"/></a>"
      ]
    },
    {
      "cell_type": "code",
      "metadata": {
        "id": "BGsRl0DgQsjq",
        "colab_type": "code",
        "colab": {
          "base_uri": "https://localhost:8080/",
          "height": 267
        },
        "outputId": "6f58b5bc-82e3-4f7b-d574-a2ef06f25c61"
      },
      "source": [
        "import ee\n",
        "!earthengine authenticate"
      ],
      "execution_count": null,
      "outputs": [
        {
          "output_type": "stream",
          "text": [
            "WARNING:tensorflow:From /usr/local/lib/python3.6/dist-packages/tensorflow/python/compat/v2_compat.py:96: disable_resource_variables (from tensorflow.python.ops.variable_scope) is deprecated and will be removed in a future version.\n",
            "Instructions for updating:\n",
            "non-resource variables are not supported in the long term\n",
            "Running command using Cloud API.  Set --no-use_cloud_api to go back to using the API\n",
            "\n",
            "To authorize access needed by Earth Engine, open the following URL in a web browser and follow the instructions. If the web browser does not start automatically, please manually browse the URL below.\n",
            "\n",
            "    https://accounts.google.com/o/oauth2/auth?client_id=517222506229-vsmmajv00ul0bs7p89v5m89qs8eb9359.apps.googleusercontent.com&scope=https%3A%2F%2Fwww.googleapis.com%2Fauth%2Fearthengine+https%3A%2F%2Fwww.googleapis.com%2Fauth%2Fdevstorage.full_control&redirect_uri=urn%3Aietf%3Awg%3Aoauth%3A2.0%3Aoob&response_type=code&code_challenge=1CZFZTMJ-814gbPR1TzX8jgsrUduxcsG45N8c6LyAjo&code_challenge_method=S256\n",
            "\n",
            "The authorization workflow will generate a code, which you should paste in the box below. \n",
            "Enter verification code: 4/1QEq3N-xayDcKmys7-JNa-K0DyZnkl7qzv7OyQcp7dtJfEhY9LB_O3o\n",
            "\n",
            "Successfully saved authorization token.\n"
          ],
          "name": "stdout"
        }
      ]
    },
    {
      "cell_type": "code",
      "metadata": {
        "id": "aZlJmsCXScTy",
        "colab_type": "code",
        "colab": {}
      },
      "source": [
        "ee.Initialize()"
      ],
      "execution_count": null,
      "outputs": []
    },
    {
      "cell_type": "code",
      "metadata": {
        "id": "jf6P1S33pAOp",
        "colab_type": "code",
        "colab": {}
      },
      "source": [
        "image1=ee.Image('users/achmfirmansyah/GHS_BUILT_LDSMT_GLOBE_R2018A_3857_30_V2_0_20_11')\n",
        "image2=ee.Image('users/achmfirmansyah/GHS_BUILT_LDSMT_GLOBE_R2018A_3857_30_V2_0_21_11')\n",
        "image3=ee.Image('users/achmfirmansyah/GHS_BUILT_LDSMT_GLOBE_R2018A_3857_30_V2_0_21_12')\n",
        "image4=ee.Image('users/achmfirmansyah/GHS_BUILT_LDSMT_GLOBE_R2018A_3857_30_V2_0_22_11')\n",
        "image5=ee.Image('users/achmfirmansyah/GHS_BUILT_LDSMT_GLOBE_R2018A_3857_30_V2_0_22_11')\n",
        "\n",
        "GHSL_mosaic=ee.ImageCollection([image1,image2,image3,image4,image5]).mosaic().select('b1').rename('BU_class')"
      ],
      "execution_count": null,
      "outputs": []
    },
    {
      "cell_type": "code",
      "metadata": {
        "id": "wL1FUo5L5v5U",
        "colab_type": "code",
        "colab": {}
      },
      "source": [
        "jabodetabek=[[106.347,-5.906],[107.300,-6.823]]\n",
        "gerbangkertasusila=[[112.355,-6.874],[113.163,-7.820]]\n",
        "mebidangro=[[97.939,2.849],[98.932,3.897]]\n",
        "sarbagita=[[114.926,-8.249],[115.379,-8.843]]\n",
        "maminasata=[[119.196,-4.732],[120.034,-5.613]]\n",
        "kedungsepur=[[109.962,-6.754],[111.264,-7.534]]\n",
        "bandungraya=[[107.182,-6.691],[107.944,-7.314]]\n",
        "data_name=['jabodetabek','gerbangkertasusila','mebidangro','sarbagita','maminasata','kedungsepur','bandungraya']\n",
        "data_bound=[jabodetabek,gerbangkertasusila,mebidangro,sarbagita,maminasata,kedungsepur,bandungraya]\n",
        "data_=[0,1,2,3,4,5,6]"
      ],
      "execution_count": null,
      "outputs": []
    },
    {
      "cell_type": "code",
      "metadata": {
        "id": "2j2-onFnpcxw",
        "colab_type": "code",
        "colab": {}
      },
      "source": [
        "# LANDSAT 7 \n",
        "landsat_7_2015=ee.ImageCollection('LANDSAT/LC08/C01/T1_TOA').filterDate('2019-01-01', '2019-12-31').select(['B4','B5','B6','B3']).reduce(ee.Reducer.median())\n",
        "ndvi_landsat_7=landsat_7_2015.normalizedDifference(['B5_median','B4_median']).rename('NDVI_landsat_8')\n",
        "ndbi_landsat_7=landsat_7_2015.normalizedDifference(['B6_median','B5_median']).rename('NDBI_landsat_8')\n",
        "mndwi_landsat_7=landsat_7_2015.normalizedDifference(['B3_median','B6_median']).rename('MNDWI_landsat_8')\n",
        "savi_landsat_7=landsat_7_2015.select('B5_median').subtract(landsat_7_2015.select('B4_median')).divide(landsat_7_2015.select('B5_median').add(landsat_7_2015.select('B4_median')).add(0.5)).multiply(1.5).rename('SAVI_landsat_8')\n",
        "lse_landsat_7=landsat_7_2015.normalizedDifference(['B5_median','B4_median']).log().multiply(0.047).add(1.0094).rename('LSE_landsat_8')\n",
        "landsat_7_oke=ee.Image.cat(ndvi_landsat_7,ndbi_landsat_7,mndwi_landsat_7,savi_landsat_7,lse_landsat_7).toDouble()"
      ],
      "execution_count": null,
      "outputs": []
    },
    {
      "cell_type": "code",
      "metadata": {
        "id": "7bzFyDGypwZk",
        "colab_type": "code",
        "colab": {}
      },
      "source": [
        "#VIIRS\n",
        "viirs_2015=ee.ImageCollection(\"NOAA/VIIRS/DNB/MONTHLY_V1/VCMSLCFG\").filterDate('2019'+'-01-01','2019'+'-12-31')\n",
        "viirs_2015=viirs_2015.select('avg_rad')\n",
        "median_viirs_2015=viirs_2015.reduce(ee.Reducer.median())"
      ],
      "execution_count": null,
      "outputs": []
    },
    {
      "cell_type": "code",
      "metadata": {
        "id": "SOaXgQ0-pz65",
        "colab_type": "code",
        "colab": {}
      },
      "source": [
        "project1=median_viirs_2015.projection();\n",
        "GHSL_mosaic=GHSL_mosaic.reproject(crs=project1,scale=50).reduceResolution(reducer= ee.Reducer.mean(),maxPixels= 1024)\n",
        "landsat_7_oke_mosaic=landsat_7_oke.reproject(crs=project1,scale=50).reduceResolution(reducer= ee.Reducer.mean(),maxPixels= 1024)\n",
        "image_compiled=ee.Image.cat(GHSL_mosaic,landsat_7_oke_mosaic,median_viirs_2015).toDouble()\n",
        "for i in data_:\n",
        "  ee.batch.Export.image.toDrive(\n",
        "      image=image_compiled,\n",
        "      description='compiled_GHSL_30_train_2019_'+data_name[i],\n",
        "      folder= 'Urban_',\n",
        "      scale=30,\n",
        "      crs='EPSG:4326',\n",
        "      region=data_bound[i],\n",
        "      fileFormat='GEO_TIFF').start()"
      ],
      "execution_count": null,
      "outputs": []
    },
    {
      "cell_type": "code",
      "metadata": {
        "id": "SZZgUNHsNP-n",
        "colab_type": "code",
        "colab": {
          "base_uri": "https://localhost:8080/",
          "height": 297
        },
        "outputId": "02f8386f-a674-4f87-9c99-b802713809c8"
      },
      "source": [
        "period_=[2014,2019]\n",
        "for time_ in period_:\n",
        "  print(time_)\n",
        "  # LANDSAT 7 \n",
        "  landsat_7_2015=ee.ImageCollection('LANDSAT/LC08/C01/T1_TOA').filterDate(str(time_)+'-01-01', str(time_)+'-12-31').select(['B4','B5','B6','B3']).reduce(ee.Reducer.median())\n",
        "  ndvi_landsat_7=landsat_7_2015.normalizedDifference(['B5_median','B4_median']).rename('NDVI_landsat_8')\n",
        "  ndbi_landsat_7=landsat_7_2015.normalizedDifference(['B6_median','B5_median']).rename('NDBI_landsat_8')\n",
        "  mndwi_landsat_7=landsat_7_2015.normalizedDifference(['B3_median','B6_median']).rename('MNDWI_landsat_8')\n",
        "  savi_landsat_7=landsat_7_2015.select('B5_median').subtract(landsat_7_2015.select('B4_median')).divide(landsat_7_2015.select('B5_median').add(landsat_7_2015.select('B4_median')).add(0.5)).multiply(1.5).rename('SAVI_landsat_8')\n",
        "  lse_landsat_7=landsat_7_2015.normalizedDifference(['B5_median','B4_median']).log().multiply(0.047).add(1.0094).rename('LSE_landsat_8')\n",
        "  landsat_7_oke=ee.Image.cat(ndvi_landsat_7,ndbi_landsat_7,mndwi_landsat_7,savi_landsat_7,lse_landsat_7).toDouble()\n",
        "  #VIIRS\n",
        "  viirs_2015=ee.ImageCollection(\"NOAA/VIIRS/DNB/MONTHLY_V1/VCMSLCFG\").filterDate(str(time_)+'-01-01',str(time_)+'-12-31')\n",
        "  viirs_2015=viirs_2015.select('avg_rad')\n",
        "  median_viirs_2015=viirs_2015.reduce(ee.Reducer.median())\n",
        "  project1=median_viirs_2015.projection();\n",
        "  GHSL_mosaic=GHSL_mosaic.reproject(crs=project1,scale=50).reduceResolution(reducer= ee.Reducer.mean(),maxPixels= 1024)\n",
        "  landsat_7_oke_mosaic=landsat_7_oke.reproject(crs=project1,scale=50).reduceResolution(reducer= ee.Reducer.mean(),maxPixels= 1024)\n",
        "  image_compiled=ee.Image.cat(GHSL_mosaic,landsat_7_oke_mosaic,median_viirs_2015).toDouble()\n",
        "  for i in data_:\n",
        "    print(data_name[i])\n",
        "    ee.batch.Export.image.toDrive(\n",
        "        image=image_compiled,\n",
        "        description='compiled_GHSL_30_train_'+str(time_)+'_'+data_name[i],\n",
        "        folder= 'Urban_',\n",
        "        scale=30,\n",
        "        crs='EPSG:4326',\n",
        "        region=data_bound[i],\n",
        "        fileFormat='GEO_TIFF').start()"
      ],
      "execution_count": null,
      "outputs": [
        {
          "output_type": "stream",
          "text": [
            "2013\n",
            "jabodetabek\n",
            "gerbangkertasusila\n",
            "mebidangro\n",
            "sarbagita\n",
            "maminasata\n",
            "kedungsepur\n",
            "bandungraya\n",
            "2019\n",
            "jabodetabek\n",
            "gerbangkertasusila\n",
            "mebidangro\n",
            "sarbagita\n",
            "maminasata\n",
            "kedungsepur\n",
            "bandungraya\n"
          ],
          "name": "stdout"
        }
      ]
    },
    {
      "cell_type": "code",
      "metadata": {
        "id": "VR9foKLRVHOu",
        "colab_type": "code",
        "colab": {}
      },
      "source": [
        "# LANDSAT 7 \n",
        "landsat_7_2015=ee.ImageCollection('LANDSAT/LC08/C01/T1_TOA').filterDate('2015-01-01', '2015-12-31').select(['B4','B5','B3','B2']).reduce(ee.Reducer.median())\n",
        "ndvi_landsat_7=landsat_7_2015.normalizedDifference(['B4_median','B3_median']).rename('NDVI_landsat_7')\n",
        "ndbi_landsat_7=landsat_7_2015.normalizedDifference(['B5_median','B4_median']).rename('NDBI_landsat_7')\n",
        "mndwi_landsat_7=landsat_7_2015.normalizedDifference(['B2_median','B5_median']).rename('MNDWI_landsat_7')\n",
        "savi_landsat_7=landsat_7_2015.select('B4_median').subtract(landsat_7_2015.select('B3_median')).divide(landsat_7_2015.select('B4_median').add(landsat_7_2015.select('B3_median')).add(0.5)).multiply(1.5).rename('SAVI_landsat_7')\n",
        "lse_landsat_7=ndvi_landsat_7.select('NDVI_landsat_7').log().multiply(0.047).add(1.0094).rename('LSE_landsat_7')\n",
        "landsat_7_oke=ee.Image.cat(ndvi_landsat_7,ndbi_landsat_7,mndwi_landsat_7,savi_landsat_7,lse_landsat_7).toDouble()\n",
        "ee.batch.Export.image.toDrive(\n",
        "    image=landsat_7_oke,\n",
        "    description='landsat_7_calc',\n",
        "    folder= 'Urban_',\n",
        "    scale=1000,\n",
        "    crs='EPSG:4326',\n",
        "    region=[[106.314,-5.926],[107.300,-6.823]],\n",
        "    fileFormat='GEO_TIFF').start()"
      ],
      "execution_count": null,
      "outputs": []
    },
    {
      "cell_type": "code",
      "metadata": {
        "id": "kPEkHN5jPIqH",
        "colab_type": "code",
        "colab": {}
      },
      "source": [
        "# VIIRS LST NDVI\n",
        "## VIIRS\n",
        "viirs_2015=ee.ImageCollection(\"NOAA/VIIRS/DNB/MONTHLY_V1/VCMSLCFG\").filterDate('2015'+'-01-01','2015'+'-12-31')\n",
        "viirs_2015=viirs_2015.select('avg_rad')\n",
        "median_viirs_2015=viirs_2015.reduce(ee.Reducer.median())\n",
        "## LST\n",
        "lst_2015=ee.ImageCollection(\"MODIS/006/MOD11A2\").filterDate('2015'+'-01-01','2015'+'-12-31')\n",
        "median_lst_2015=lst_2015.select('LST_Day_1km').reduce(ee.Reducer.median())\n",
        "## NDVI\n",
        "ndvi_2015=ee.ImageCollection(\"MODIS/006/MOD13A2\").filterDate('2015'+'-01-01','2015'+'-12-31')\n",
        "median_ndvi_2015=ndvi_2015.select('NDVI').reduce(ee.Reducer.median())\n",
        "project1=median_ndvi_2015.projection();\n",
        "median_viirs_2015 = viirs_2015.reduce(ee.Reducer.median()).reproject(crs=project1,scale=30).reduceResolution(reducer= ee.Reducer.mean(),maxPixels= 1112)\n",
        "image_viirs_lst_ndvi=ee.Image.cat(median_ndvi_2015,median_lst_2015,median_viirs_2015).toDouble()\n",
        "ee.batch.Export.image.toDrive(\n",
        "    image=image_viirs_lst_ndvi,\n",
        "    description='ndvi_lst_viirs_calc',\n",
        "    folder= 'Urban_',\n",
        "    scale=1000,\n",
        "    crs='EPSG:4326',\n",
        "    region=[[106.314,-5.926],[107.300,-6.823]],\n",
        "    fileFormat='GEO_TIFF').start()"
      ],
      "execution_count": null,
      "outputs": []
    },
    {
      "cell_type": "code",
      "metadata": {
        "id": "1V2eavbwWP5S",
        "colab_type": "code",
        "colab": {}
      },
      "source": [
        "#compiling_Landsat_MODIS_VIIRS\n",
        "landsat_compiled=landsat_7_oke.reproject(crs=project1,scale=50).reduceResolution(reducer= ee.Reducer.mean(),maxPixels= 1024)\n",
        "compiled=ee.Image.cat(landsat_compiled,image_viirs_lst_ndvi).toDouble()\n",
        "ee.batch.Export.image.toDrive(\n",
        "    image=compiled,\n",
        "    description='compiled_calc_',\n",
        "    folder= 'Urban_',\n",
        "    scale=1000,\n",
        "    crs='EPSG:4326',\n",
        "    region=[[106.314,-5.926],[107.300,-6.823]],\n",
        "    fileFormat='GEO_TIFF').start()"
      ],
      "execution_count": null,
      "outputs": []
    },
    {
      "cell_type": "code",
      "metadata": {
        "id": "dtQTEEp_0TXU",
        "colab_type": "code",
        "colab": {}
      },
      "source": [
        "#compiling_with_GHSL_combined\n",
        "GHSL=ee.Image(\"users/achmfirmansyah/combined_GHSL\").select('b1').rename('BU_density')\n",
        "GHSL=GHSL.reproject(crs=project1,scale=50).reduceResolution(reducer= ee.Reducer.mean(),maxPixels= 1024)\n",
        "compiled=ee.Image.cat(landsat_compiled,image_viirs_lst_ndvi,GHSL).toDouble()\n",
        "ee.batch.Export.image.toDrive(\n",
        "    image=compiled,\n",
        "    description='ghsl_compiled_calc_',\n",
        "    folder= 'Urban_',\n",
        "    scale=1000,\n",
        "    crs='EPSG:4326',\n",
        "    region=[[106.314,-5.926],[107.300,-6.823]],\n",
        "    fileFormat='GEO_TIFF').start()"
      ],
      "execution_count": null,
      "outputs": []
    },
    {
      "cell_type": "code",
      "metadata": {
        "id": "j0tB4HwtSV62",
        "colab_type": "code",
        "colab": {}
      },
      "source": [
        "#compiling VIIRS with GHSL and Landsat Only\n",
        "viirs_2015=ee.ImageCollection(\"NOAA/VIIRS/DNB/MONTHLY_V1/VCMSLCFG\").filterDate('2015'+'-01-01','2015'+'-12-31')\n",
        "viirs_2015=viirs_2015.select('avg_rad')\n",
        "median_viirs_2015=viirs_2015.reduce(ee.Reducer.median())\n",
        "project_2=median_viirs_2015"
      ],
      "execution_count": null,
      "outputs": []
    }
  ]
}