{
  "nbformat": 4,
  "nbformat_minor": 0,
  "metadata": {
    "colab": {
      "name": "BUildup transformation.ipynb",
      "provenance": [],
      "collapsed_sections": [],
      "authorship_tag": "ABX9TyMdF7hgCotoKsy3VehLnyBh",
      "include_colab_link": true
    },
    "kernelspec": {
      "name": "python3",
      "display_name": "Python 3"
    }
  },
  "cells": [
    {
      "cell_type": "markdown",
      "metadata": {
        "id": "view-in-github",
        "colab_type": "text"
      },
      "source": [
        "<a href=\"https://colab.research.google.com/github/achmfirmansyah/sweet_project/blob/master/ICST2020/03_BUildup_transformation.ipynb\" target=\"_parent\"><img src=\"https://colab.research.google.com/assets/colab-badge.svg\" alt=\"Open In Colab\"/></a>"
      ]
    },
    {
      "cell_type": "code",
      "metadata": {
        "id": "0g_8ggSIuKlL",
        "colab_type": "code",
        "colab": {
          "base_uri": "https://localhost:8080/",
          "height": 890
        },
        "outputId": "2adaa201-a88c-4b97-9cb2-974aa5f102e8"
      },
      "source": [
        "import pandas as pd\n",
        "!pip install rasterio\n",
        "import rasterio\n",
        "!pip install geopandas\n",
        "import geopandas as gpd\n",
        "import numpy as np\n",
        "from google.colab import drive\n",
        "drive.mount('/content/gdrive')\n",
        "import numpy as np\n",
        "from sklearn.model_selection import train_test_split\n",
        "!pip install xgboost\n",
        "from xgboost import XGBClassifier\n",
        "from sklearn.metrics import classification_report, confusion_matrix"
      ],
      "execution_count": null,
      "outputs": [
        {
          "output_type": "stream",
          "text": [
            "Collecting rasterio\n",
            "\u001b[?25l  Downloading https://files.pythonhosted.org/packages/02/7e/eed7dfd109fc89ed3cf8b5ed3f26f841b03b92f6ca1c31c4745f938a081b/rasterio-1.1.5-cp36-cp36m-manylinux1_x86_64.whl (18.2MB)\n",
            "\u001b[K     |████████████████████████████████| 18.2MB 1.3MB/s \n",
            "\u001b[?25hCollecting affine\n",
            "  Downloading https://files.pythonhosted.org/packages/ac/a6/1a39a1ede71210e3ddaf623982b06ecfc5c5c03741ae659073159184cd3e/affine-2.3.0-py2.py3-none-any.whl\n",
            "Requirement already satisfied: numpy in /usr/local/lib/python3.6/dist-packages (from rasterio) (1.18.5)\n",
            "Requirement already satisfied: click<8,>=4.0 in /usr/local/lib/python3.6/dist-packages (from rasterio) (7.1.2)\n",
            "Requirement already satisfied: attrs in /usr/local/lib/python3.6/dist-packages (from rasterio) (19.3.0)\n",
            "Collecting snuggs>=1.4.1\n",
            "  Downloading https://files.pythonhosted.org/packages/cc/0e/d27d6e806d6c0d1a2cfdc5d1f088e42339a0a54a09c3343f7f81ec8947ea/snuggs-1.4.7-py3-none-any.whl\n",
            "Collecting cligj>=0.5\n",
            "  Downloading https://files.pythonhosted.org/packages/e4/be/30a58b4b0733850280d01f8bd132591b4668ed5c7046761098d665ac2174/cligj-0.5.0-py3-none-any.whl\n",
            "Collecting click-plugins\n",
            "  Downloading https://files.pythonhosted.org/packages/e9/da/824b92d9942f4e472702488857914bdd50f73021efea15b4cad9aca8ecef/click_plugins-1.1.1-py2.py3-none-any.whl\n",
            "Requirement already satisfied: pyparsing>=2.1.6 in /usr/local/lib/python3.6/dist-packages (from snuggs>=1.4.1->rasterio) (2.4.7)\n",
            "Installing collected packages: affine, snuggs, cligj, click-plugins, rasterio\n",
            "Successfully installed affine-2.3.0 click-plugins-1.1.1 cligj-0.5.0 rasterio-1.1.5 snuggs-1.4.7\n",
            "Collecting geopandas\n",
            "\u001b[?25l  Downloading https://files.pythonhosted.org/packages/f8/dd/c0a6429cc7692efd5c99420c9df525c40f472b50705871a770449027e244/geopandas-0.8.0-py2.py3-none-any.whl (962kB)\n",
            "\u001b[K     |████████████████████████████████| 962kB 2.8MB/s \n",
            "\u001b[?25hCollecting pyproj>=2.2.0\n",
            "\u001b[?25l  Downloading https://files.pythonhosted.org/packages/e5/c3/071e080230ac4b6c64f1a2e2f9161c9737a2bc7b683d2c90b024825000c0/pyproj-2.6.1.post1-cp36-cp36m-manylinux2010_x86_64.whl (10.9MB)\n",
            "\u001b[K     |████████████████████████████████| 10.9MB 197kB/s \n",
            "\u001b[?25hCollecting fiona\n",
            "\u001b[?25l  Downloading https://files.pythonhosted.org/packages/ec/20/4e63bc5c6e62df889297b382c3ccd4a7a488b00946aaaf81a118158c6f09/Fiona-1.8.13.post1-cp36-cp36m-manylinux1_x86_64.whl (14.7MB)\n",
            "\u001b[K     |████████████████████████████████| 14.7MB 299kB/s \n",
            "\u001b[?25hRequirement already satisfied: shapely in /usr/local/lib/python3.6/dist-packages (from geopandas) (1.7.0)\n",
            "Requirement already satisfied: pandas>=0.23.0 in /usr/local/lib/python3.6/dist-packages (from geopandas) (1.0.5)\n",
            "Collecting munch\n",
            "  Downloading https://files.pythonhosted.org/packages/cc/ab/85d8da5c9a45e072301beb37ad7f833cd344e04c817d97e0cc75681d248f/munch-2.5.0-py2.py3-none-any.whl\n",
            "Requirement already satisfied: click<8,>=4.0 in /usr/local/lib/python3.6/dist-packages (from fiona->geopandas) (7.1.2)\n",
            "Requirement already satisfied: cligj>=0.5 in /usr/local/lib/python3.6/dist-packages (from fiona->geopandas) (0.5.0)\n",
            "Requirement already satisfied: click-plugins>=1.0 in /usr/local/lib/python3.6/dist-packages (from fiona->geopandas) (1.1.1)\n",
            "Requirement already satisfied: six>=1.7 in /usr/local/lib/python3.6/dist-packages (from fiona->geopandas) (1.12.0)\n",
            "Requirement already satisfied: attrs>=17 in /usr/local/lib/python3.6/dist-packages (from fiona->geopandas) (19.3.0)\n",
            "Requirement already satisfied: numpy>=1.13.3 in /usr/local/lib/python3.6/dist-packages (from pandas>=0.23.0->geopandas) (1.18.5)\n",
            "Requirement already satisfied: pytz>=2017.2 in /usr/local/lib/python3.6/dist-packages (from pandas>=0.23.0->geopandas) (2018.9)\n",
            "Requirement already satisfied: python-dateutil>=2.6.1 in /usr/local/lib/python3.6/dist-packages (from pandas>=0.23.0->geopandas) (2.8.1)\n",
            "Installing collected packages: pyproj, munch, fiona, geopandas\n",
            "Successfully installed fiona-1.8.13.post1 geopandas-0.8.0 munch-2.5.0 pyproj-2.6.1.post1\n",
            "Go to this URL in a browser: https://accounts.google.com/o/oauth2/auth?client_id=947318989803-6bn6qk8qdgf4n4g3pfee6491hc0brc4i.apps.googleusercontent.com&redirect_uri=urn%3aietf%3awg%3aoauth%3a2.0%3aoob&response_type=code&scope=email%20https%3a%2f%2fwww.googleapis.com%2fauth%2fdocs.test%20https%3a%2f%2fwww.googleapis.com%2fauth%2fdrive%20https%3a%2f%2fwww.googleapis.com%2fauth%2fdrive.photos.readonly%20https%3a%2f%2fwww.googleapis.com%2fauth%2fpeopleapi.readonly\n",
            "\n",
            "Enter your authorization code:\n",
            "··········\n",
            "Mounted at /content/gdrive\n",
            "Requirement already satisfied: xgboost in /usr/local/lib/python3.6/dist-packages (0.90)\n",
            "Requirement already satisfied: numpy in /usr/local/lib/python3.6/dist-packages (from xgboost) (1.18.5)\n",
            "Requirement already satisfied: scipy in /usr/local/lib/python3.6/dist-packages (from xgboost) (1.4.1)\n"
          ],
          "name": "stdout"
        }
      ]
    },
    {
      "cell_type": "code",
      "metadata": {
        "id": "Ex6VoygXuls4",
        "colab_type": "code",
        "colab": {}
      },
      "source": [
        "lokus=['jabodetabek','mebidangro','maminasata','kedungsepur']\n",
        "confussion_matrix_list=[]\n",
        "classification_report_list=[]"
      ],
      "execution_count": null,
      "outputs": []
    },
    {
      "cell_type": "code",
      "metadata": {
        "id": "3dXhLJD7m2kW",
        "colab_type": "code",
        "colab": {
          "base_uri": "https://localhost:8080/",
          "height": 158
        },
        "outputId": "a8379f76-e496-4c1c-9581-e7d6b08e421c"
      },
      "source": [
        "#Create model\n",
        "for lokasi in lokus:\n",
        "  print(lokasi)\n",
        "  dataset = rasterio.open('/content/gdrive/My Drive/Urban_monitoring/Urban_/compiled_GHSL_30_train_2014_'+lokasi+'.tif')\n",
        "  dataset_bands=pd.DataFrame()\n",
        "  for i in dataset.indexes:\n",
        "    temp=dataset.read(i)\n",
        "    temp=pd.DataFrame(data=np.array(temp).flatten()).rename(columns={0:i})\n",
        "    dataset_bands=temp.join(dataset_bands)\n",
        "  dataset_bands.rename(columns={1:'BU_class',2:'NDVI_landsat7',3:'NDBI_landsat7',4:'MNDWI_landsat7',\n",
        "                            5:'SAVI_landsat7',6:'LSE_landsat7',7:'rad_VIIRS'},inplace=True)\n",
        "  dataset_bands['U_class']=dataset_bands.BU_class.apply(lambda y: 1 if y>=3 else 0)\n",
        "  dataset_bands['LSE_der_landsat7']=dataset_bands.NDVI_landsat7.apply(lambda y: 0.995 if y < -0.185 else (\n",
        "    0.970 if y< 0.157 else (1.0098+0.047*np.log(y) if y<0.727 else 0.990)))\n",
        "  dataset=dataset_bands.query('U_class==0').sample(10000).append(dataset_bands.query('U_class==1').sample(10000))\n",
        "  dataset=dataset.reset_index()[['rad_VIIRS','SAVI_landsat7','MNDWI_landsat7','NDBI_landsat7','NDVI_landsat7','LSE_der_landsat7','U_class']]\n",
        "  X_train, X_test, y_train, y_test = train_test_split(dataset[['rad_VIIRS','SAVI_landsat7','MNDWI_landsat7','NDVI_landsat7','NDBI_landsat7','LSE_der_landsat7']],\n",
        "                                                    dataset[['U_class']], test_size = 0.20)\n",
        "  xgclassifier = XGBClassifier(random_state=123,colsample_bytree= 0.7, \n",
        "                               learning_rate=0.05, max_depth= 4, \n",
        "                             min_child_weight=11, n_estimators= 500, nthread= 4, objective= 'binary:logistic', \n",
        "                             seed= 123, silent=1, subsample= 0.8)\n",
        "  xgclassifier.fit(X_train.values,y_train.values)\n",
        "  y_pred=xgclassifier.predict(X_test.values)\n",
        "  #confussion_matrix_list.append(confusion_matrix(y_test, y_pred))\n",
        "  classification_report_list.append(classification_report(y_test, y_pred))\n",
        "  dataset=dataset_bands.reset_index()[['rad_VIIRS','SAVI_landsat7','MNDWI_landsat7','NDBI_landsat7','NDVI_landsat7','LSE_der_landsat7']]\n",
        "  class_2014_=xgclassifier.predict(dataset.values)\n",
        "  confussion_matrix_list.append(confusion_matrix(dataset_bands[['U_class']],class_2014_))\n",
        "  temp_ = rasterio.open('/content/gdrive/My Drive/Urban_monitoring/Urban_/compiled_GHSL_30_train_2014_'+lokasi+'.tif')\n",
        "  temp = temp_.read(1)\n",
        "  \n",
        "  array_class_2014=class_2014_.reshape(temp.shape[0],temp.shape[1]).astype(np.uint8)\n",
        "  \n",
        "  profile = temp_.profile\n",
        "  profile.update(\n",
        "        dtype=array_class_2014.dtype,\n",
        "        count=1,\n",
        "        compress='lzw')\n",
        "  with rasterio.open(\n",
        "    '/content/gdrive/My Drive/Urban_monitoring/Urban_/GHSL_/GHSL_rev/rev_class_2014_'+lokasi+'.tif','w',**profile) as dst2:\n",
        "    dst2.write(array_class_2014,1)\n",
        "    dst2.close()"
      ],
      "execution_count": null,
      "outputs": [
        {
          "output_type": "stream",
          "text": [
            "jabodetabek\n"
          ],
          "name": "stdout"
        },
        {
          "output_type": "stream",
          "text": [
            "/usr/local/lib/python3.6/dist-packages/sklearn/preprocessing/_label.py:235: DataConversionWarning: A column-vector y was passed when a 1d array was expected. Please change the shape of y to (n_samples, ), for example using ravel().\n",
            "  y = column_or_1d(y, warn=True)\n",
            "/usr/local/lib/python3.6/dist-packages/sklearn/preprocessing/_label.py:268: DataConversionWarning: A column-vector y was passed when a 1d array was expected. Please change the shape of y to (n_samples, ), for example using ravel().\n",
            "  y = column_or_1d(y, warn=True)\n"
          ],
          "name": "stderr"
        },
        {
          "output_type": "stream",
          "text": [
            "mebidangro\n",
            "maminasata\n",
            "kedungsepur\n"
          ],
          "name": "stdout"
        }
      ]
    },
    {
      "cell_type": "code",
      "metadata": {
        "id": "SgXHeet0HANt",
        "colab_type": "code",
        "colab": {
          "base_uri": "https://localhost:8080/",
          "height": 52
        },
        "outputId": "4873f215-70f7-495a-f8b3-abc1a413717c"
      },
      "source": [
        "confussion_matrix_list[3]"
      ],
      "execution_count": null,
      "outputs": [
        {
          "output_type": "execute_result",
          "data": {
            "text/plain": [
              "array([[6239065, 6616121],\n",
              "       [  39957, 1098329]])"
            ]
          },
          "metadata": {
            "tags": []
          },
          "execution_count": 7
        }
      ]
    },
    {
      "cell_type": "code",
      "metadata": {
        "id": "yiJybOUGvHDP",
        "colab_type": "code",
        "colab": {
          "base_uri": "https://localhost:8080/",
          "height": 177
        },
        "outputId": "fa8a1aa2-8022-4911-96ce-f6387616a8d7"
      },
      "source": [
        "#Create model\n",
        "for lokasi in lokus:\n",
        "  print(lokasi)\n",
        "  dataset = rasterio.open('/content/gdrive/My Drive/Urban_monitoring/Urban_/compiled_GHSL_30_train_2014_'+lokasi+'.tif')\n",
        "  dataset_bands=pd.DataFrame()\n",
        "  for i in dataset.indexes:\n",
        "    temp=dataset.read(i)\n",
        "    temp=pd.DataFrame(data=np.array(temp).flatten()).rename(columns={0:i})\n",
        "    dataset_bands=temp.join(dataset_bands)\n",
        "  dataset_bands.rename(columns={1:'BU_class',2:'NDVI_landsat7',3:'NDBI_landsat7',4:'MNDWI_landsat7',\n",
        "                            5:'SAVI_landsat7',6:'LSE_landsat7',7:'rad_VIIRS'},inplace=True)\n",
        "  dataset_bands['U_class']=dataset_bands.BU_class.apply(lambda y: 1 if y>=3 else 0)\n",
        "  dataset_bands['LSE_der_landsat7']=dataset_bands.NDVI_landsat7.apply(lambda y: 0.995 if y < -0.185 else (\n",
        "    0.970 if y< 0.157 else (1.0098+0.047*np.log(y) if y<0.727 else 0.990)))\n",
        "  dataset=dataset_bands.query('U_class==0').sample(10000).append(dataset_bands.query('U_class==1').sample(10000))\n",
        "  dataset=dataset.reset_index()[['rad_VIIRS','SAVI_landsat7','MNDWI_landsat7','NDBI_landsat7','NDVI_landsat7','LSE_der_landsat7','U_class']]\n",
        "  X_train, X_test, y_train, y_test = train_test_split(dataset[['rad_VIIRS','SAVI_landsat7','MNDWI_landsat7','NDVI_landsat7','NDBI_landsat7','LSE_der_landsat7']],\n",
        "                                                    dataset[['U_class']], test_size = 0.20)\n",
        "  xgclassifier = XGBClassifier(random_state=123,colsample_bytree= 0.7, \n",
        "                               learning_rate=0.05, max_depth= 4, \n",
        "                             min_child_weight=11, n_estimators= 500, nthread= 4, objective= 'binary:logistic', \n",
        "                             seed= 123, silent=1, subsample= 0.8)\n",
        "  xgclassifier.fit(X_train.values,y_train.values)\n",
        "  y_pred=xgclassifier.predict(X_test.values)\n",
        "  confussion_matrix_list.append(confusion_matrix(y_test, y_pred))\n",
        "  classification_report_list.append(classification_report(y_test, y_pred))\n",
        "\n",
        "  #classification_2019:\n",
        "  #dataset = rasterio.open('/content/gdrive/My Drive/Urban_monitoring/Urban_/compiled_GHSL_30_train_2019_'+lokasi+'.tif')\n",
        "  #dataset_bands=pd.DataFrame()\n",
        "  #for i in dataset.indexes:\n",
        "  #  temp=dataset.read(i)\n",
        "  #  temp=pd.DataFrame(data=np.array(temp).flatten()).rename(columns={0:i})\n",
        "  #  dataset_bands=temp.join(dataset_bands)\n",
        "  #dataset_bands.rename(columns={1:'BU_class',2:'NDVI_landsat7',3:'NDBI_landsat7',4:'MNDWI_landsat7',\n",
        "  #                          5:'SAVI_landsat7',6:'LSE_landsat7',7:'rad_VIIRS'},inplace=True)\n",
        "  #dataset_bands['U_class']=dataset_bands.BU_class.apply(lambda y: 1 if y>=3 else 0)\n",
        "  #dataset_bands['LSE_der_landsat7']=dataset_bands.NDVI_landsat7.apply(lambda y: 0.995 if y < -0.185 else (\n",
        "  #  0.970 if y< 0.157 else (1.0098+0.047*np.log(y) if y<0.727 else 0.990)))\n",
        "  #dataset=dataset_bands.reset_index()[['rad_VIIRS','SAVI_landsat7','MNDWI_landsat7','NDBI_landsat7','NDVI_landsat7','LSE_der_landsat7']]\n",
        "  #class_2019_=xgclassifier.predict(dataset.values)\n",
        "  #temp_ = rasterio.open('/content/gdrive/My Drive/Urban_monitoring/Urban_/compiled_GHSL_30_train_2019_'+lokasi+'.tif')\n",
        "  #temp = temp_.read(1)\n",
        "  #array_class_2019=class_2019_.reshape(temp.shape[0],temp.shape[1]).astype(np.uint8)\n",
        "  #profile = temp_.profile\n",
        "  #profile.update(\n",
        "  #      dtype=array_class_2019.dtype,\n",
        "  #      count=1,\n",
        "  #      compress='lzw')\n",
        "  #with rasterio.open(\n",
        "  #  '/content/gdrive/My Drive/Urban_monitoring/Urban_/GHSL_/GHSL_rev/rev_class_2019_'+lokasi+'.tif','w',**profile) as dst2:\n",
        "  #  dst2.write(array_class_2019,1)\n",
        "  #  dst2.close()"
      ],
      "execution_count": null,
      "outputs": [
        {
          "output_type": "stream",
          "text": [
            "jabodetabek\n"
          ],
          "name": "stdout"
        },
        {
          "output_type": "stream",
          "text": [
            "/usr/local/lib/python3.6/dist-packages/sklearn/preprocessing/_label.py:235: DataConversionWarning: A column-vector y was passed when a 1d array was expected. Please change the shape of y to (n_samples, ), for example using ravel().\n",
            "  y = column_or_1d(y, warn=True)\n",
            "/usr/local/lib/python3.6/dist-packages/sklearn/preprocessing/_label.py:268: DataConversionWarning: A column-vector y was passed when a 1d array was expected. Please change the shape of y to (n_samples, ), for example using ravel().\n",
            "  y = column_or_1d(y, warn=True)\n"
          ],
          "name": "stderr"
        },
        {
          "output_type": "stream",
          "text": [
            "mebidangro\n",
            "maminasata\n",
            "kedungsepur\n"
          ],
          "name": "stdout"
        }
      ]
    },
    {
      "cell_type": "code",
      "metadata": {
        "id": "Fv9_HKNFvSpO",
        "colab_type": "code",
        "colab": {
          "base_uri": "https://localhost:8080/",
          "height": 177
        },
        "outputId": "088853c2-708c-4845-c450-f582b1ef8644"
      },
      "source": [
        "#Create model\n",
        "for lokasi in lokus:\n",
        "  #print(lokasi)\n",
        "  #dataset = rasterio.open('/content/gdrive/My Drive/Urban_monitoring/Urban_/compiled_GHSL_30_train_2014_'+lokasi+'.tif')\n",
        "  #dataset_bands=pd.DataFrame()\n",
        "  #for i in dataset.indexes:\n",
        "  #  temp=dataset.read(i)\n",
        "  #  temp=pd.DataFrame(data=np.array(temp).flatten()).rename(columns={0:i})\n",
        "  #  dataset_bands=temp.join(dataset_bands)\n",
        "  #dataset_bands.rename(columns={1:'BU_class',2:'NDVI_landsat7',3:'NDBI_landsat7',4:'MNDWI_landsat7',\n",
        "  #                          5:'SAVI_landsat7',6:'LSE_landsat7',7:'rad_VIIRS'},inplace=True)\n",
        "  #dataset_bands['U_class']=dataset_bands.BU_class.apply(lambda y: 1 if y>=3 else 0)\n",
        "  #dataset_bands['LSE_der_landsat7']=dataset_bands.NDVI_landsat7.apply(lambda y: 0.995 if y < -0.185 else (\n",
        "  #  0.970 if y< 0.157 else (1.0098+0.047*np.log(y) if y<0.727 else 0.990)))\n",
        "  #dataset=dataset_bands.query('U_class==0').sample(10000).append(dataset_bands.query('U_class==1').sample(10000))\n",
        "  #dataset=dataset.reset_index()[['rad_VIIRS','SAVI_landsat7','MNDWI_landsat7','NDBI_landsat7','NDVI_landsat7','LSE_der_landsat7','U_class']]\n",
        "  #X_train, X_test, y_train, y_test = train_test_split(dataset[['rad_VIIRS','SAVI_landsat7','MNDWI_landsat7','NDVI_landsat7','NDBI_landsat7','LSE_der_landsat7']],\n",
        "  #                                                  dataset[['U_class']], test_size = 0.20)\n",
        "  #xgclassifier = XGBClassifier(random_state=123,colsample_bytree= 0.7, \n",
        "  #                             learning_rate=0.05, max_depth= 4, \n",
        "  #                           min_child_weight=11, n_estimators= 500, nthread= 4, objective= 'binary:logistic', \n",
        "  #                           seed= 123, silent=1, subsample= 0.8)\n",
        "  #xgclassifier.fit(X_train.values,y_train.values)\n",
        "  #y_pred=xgclassifier.predict(X_test.values)\n",
        "\n",
        "  #classification_2015:\n",
        "  #dataset = rasterio.open('/content/gdrive/My Drive/Urban_monitoring/Urban_/compiled_GHSL_30_train_2015_'+lokasi+'.tif')\n",
        "  #dataset_bands=pd.DataFrame()\n",
        "  #for i in dataset.indexes:\n",
        "  #  temp=dataset.read(i)\n",
        "  #  temp=pd.DataFrame(data=np.array(temp).flatten()).rename(columns={0:i})\n",
        "  #  dataset_bands=temp.join(dataset_bands)\n",
        "  #dataset_bands.rename(columns={1:'BU_class',2:'NDVI_landsat7',3:'NDBI_landsat7',4:'MNDWI_landsat7',\n",
        "  #                          5:'SAVI_landsat7',6:'LSE_landsat7',7:'rad_VIIRS'},inplace=True)\n",
        "  #dataset_bands['U_class']=dataset_bands.BU_class.apply(lambda y: 1 if y>=3 else 0)\n",
        "  #dataset_bands['LSE_der_landsat7']=dataset_bands.NDVI_landsat7.apply(lambda y: 0.995 if y < -0.185 else (\n",
        "  #  0.970 if y< 0.157 else (1.0098+0.047*np.log(y) if y<0.727 else 0.990)))\n",
        "  #dataset=dataset_bands.reset_index()[['rad_VIIRS','SAVI_landsat7','MNDWI_landsat7','NDBI_landsat7','NDVI_landsat7','LSE_der_landsat7']]\n",
        "  #class_2015_=xgclassifier.predict(dataset.values)\n",
        "  #temp_ = rasterio.open('/content/gdrive/My Drive/Urban_monitoring/Urban_/compiled_GHSL_30_train_2015_'+lokasi+'.tif')\n",
        "  #temp = temp_.read(1)\n",
        "  #array_class_2015=class_2015_.reshape(temp.shape[0],temp.shape[1]).astype(np.uint8)\n",
        "  #profile = temp_.profile\n",
        "  #profile.update(\n",
        "  #      dtype=array_class_2015.dtype,\n",
        "  #      count=1,\n",
        "  #      compress='lzw')\n",
        "  #with rasterio.open(\n",
        "  #  '/content/gdrive/My Drive/Urban_monitoring/Urban_/GHSL_/GHSL_rev/rev_class_2015_'+lokasi+'.tif','w',**profile) as dst2:\n",
        "  #  dst2.write(array_class_2015,1)\n",
        "  #  dst2.close()"
      ],
      "execution_count": null,
      "outputs": [
        {
          "output_type": "stream",
          "text": [
            "jabodetabek\n"
          ],
          "name": "stdout"
        },
        {
          "output_type": "stream",
          "text": [
            "/usr/local/lib/python3.6/dist-packages/sklearn/preprocessing/_label.py:235: DataConversionWarning: A column-vector y was passed when a 1d array was expected. Please change the shape of y to (n_samples, ), for example using ravel().\n",
            "  y = column_or_1d(y, warn=True)\n",
            "/usr/local/lib/python3.6/dist-packages/sklearn/preprocessing/_label.py:268: DataConversionWarning: A column-vector y was passed when a 1d array was expected. Please change the shape of y to (n_samples, ), for example using ravel().\n",
            "  y = column_or_1d(y, warn=True)\n"
          ],
          "name": "stderr"
        },
        {
          "output_type": "stream",
          "text": [
            "mebidangro\n",
            "maminasata\n",
            "kedungsepur\n"
          ],
          "name": "stdout"
        }
      ]
    },
    {
      "cell_type": "code",
      "metadata": {
        "id": "CWlkJm9N1zxw",
        "colab_type": "code",
        "colab": {
          "base_uri": "https://localhost:8080/",
          "height": 105
        },
        "outputId": "bea0ceb2-9967-4371-995e-b2c02325fe94"
      },
      "source": [
        "lokus=['gerbangkertasusila']\n",
        "#Create model\n",
        "for lokasi in lokus:\n",
        "  print(lokasi)\n",
        "  dataset = rasterio.open('/content/gdrive/My Drive/Urban_monitoring/Urban_/compiled_GHSL_30_train_2014_'+lokasi+'.tif')\n",
        "  dataset_bands=pd.DataFrame()\n",
        "  for i in dataset.indexes:\n",
        "    temp=dataset.read(i)\n",
        "    temp=pd.DataFrame(data=np.array(temp).flatten()).rename(columns={0:i})\n",
        "    dataset_bands=temp.join(dataset_bands)\n",
        "  dataset_bands.rename(columns={1:'BU_class',2:'NDVI_landsat7',3:'NDBI_landsat7',4:'MNDWI_landsat7',\n",
        "                            5:'SAVI_landsat7',6:'LSE_landsat7',7:'rad_VIIRS'},inplace=True)\n",
        "  dataset_bands['U_class']=dataset_bands.BU_class.apply(lambda y: 1 if y>=3 else 0)\n",
        "  dataset_bands['LSE_der_landsat7']=dataset_bands.NDVI_landsat7.apply(lambda y: 0.995 if y < -0.185 else (\n",
        "    0.970 if y< 0.157 else (1.0098+0.047*np.log(y) if y<0.727 else 0.990)))\n",
        "  dataset=dataset_bands.query('U_class==0').sample(10000).append(dataset_bands.query('U_class==1').sample(10000))\n",
        "  dataset=dataset.reset_index()[['rad_VIIRS','SAVI_landsat7','MNDWI_landsat7','NDBI_landsat7','NDVI_landsat7','LSE_der_landsat7','U_class']]\n",
        "  X_train, X_test, y_train, y_test = train_test_split(dataset[['rad_VIIRS','SAVI_landsat7','MNDWI_landsat7','NDVI_landsat7','NDBI_landsat7','LSE_der_landsat7']],\n",
        "                                                    dataset[['U_class']], test_size = 0.20)\n",
        "  xgclassifier = XGBClassifier(random_state=123,colsample_bytree= 0.7, \n",
        "                               learning_rate=0.05, max_depth= 5, \n",
        "                             min_child_weight=11, n_estimators= 500, nthread= 4, objective= 'binary:logistic', \n",
        "                             seed= 123, silent=1, subsample= 0.8)\n",
        "  xgclassifier.fit(X_train.values,y_train.values)\n",
        "  #y_pred=xgclassifier.predict(X_test.values)\n",
        "  y_pred=xgclassifier.predict(dataset_bands[['rad_VIIRS','SAVI_landsat7','MNDWI_landsat7','NDVI_landsat7','NDBI_landsat7','LSE_der_landsat7']].values)\n",
        "  confussion_matrix_list.append(confusion_matrix(dataset_bands[['U_class']],y_pred))\n",
        "  #confussion_matrix_list.append(confusion_matrix(y_test, y_pred))\n",
        "  #classification_report_list.append(classification_report(y_test, y_pred))\n",
        "\n",
        "  #classification_2015:\n",
        "  #dataset = rasterio.open('/content/gdrive/My Drive/Urban_monitoring/Urban_/compiled_GHSL_30_train_2015_'+lokasi+'.tif')\n",
        "  #dataset_bands=pd.DataFrame()\n",
        "  #for i in dataset.indexes:\n",
        "  #  temp=dataset.read(i)\n",
        "  #  temp=pd.DataFrame(data=np.array(temp).flatten()).rename(columns={0:i})\n",
        "  #  dataset_bands=temp.join(dataset_bands)\n",
        "  #dataset_bands.rename(columns={1:'BU_class',2:'NDVI_landsat7',3:'NDBI_landsat7',4:'MNDWI_landsat7',\n",
        "  #                          5:'SAVI_landsat7',6:'LSE_landsat7',7:'rad_VIIRS'},inplace=True)\n",
        "  #dataset_bands['U_class']=dataset_bands.BU_class.apply(lambda y: 1 if y>=3 else 0)\n",
        "  #dataset_bands['LSE_der_landsat7']=dataset_bands.NDVI_landsat7.apply(lambda y: 0.995 if y < -0.185 else (\n",
        "  #  0.970 if y< 0.157 else (1.0098+0.047*np.log(y) if y<0.727 else 0.990)))\n",
        "  #dataset=dataset_bands.reset_index()[['rad_VIIRS','SAVI_landsat7','MNDWI_landsat7','NDBI_landsat7','NDVI_landsat7','LSE_der_landsat7']]\n",
        "  #class_2015_=xgclassifier.predict(dataset.values)\n",
        "  #temp_ = rasterio.open('/content/gdrive/My Drive/Urban_monitoring/Urban_/compiled_GHSL_30_train_2015_'+lokasi+'.tif')\n",
        "  #temp = temp_.read(1)\n",
        "  #array_class_2015=class_2015_.reshape(temp.shape[0],temp.shape[1]).astype(np.uint8)\n",
        "  #profile = temp_.profile\n",
        "  #profile.update(\n",
        "  #      dtype=array_class_2015.dtype,\n",
        "  #      count=1,\n",
        "  #      compress='lzw')\n",
        "  #with rasterio.open(\n",
        "  #  '/content/gdrive/My Drive/Urban_monitoring/Urban_/GHSL_/GHSL_rev/rev_class_2015_'+lokasi+'.tif','w',**profile) as dst2:\n",
        "  #  dst2.write(array_class_2015,1)\n",
        "  #  dst2.close()\n",
        "#Create model\n",
        "#for lokasi in lokus:\n",
        " # print(lokasi)\n",
        "  #dataset = rasterio.open('/content/gdrive/My Drive/Urban_monitoring/Urban_/compiled_GHSL_30_train_2014_'+lokasi+'.tif')\n",
        "  #dataset_bands=pd.DataFrame()\n",
        "  #for i in dataset.indexes:\n",
        "  #  temp=dataset.read(i)\n",
        "   # temp=pd.DataFrame(data=np.array(temp).flatten()).rename(columns={0:i})\n",
        "   # dataset_bands=temp.join(dataset_bands)\n",
        "  #dataset_bands.rename(columns={1:'BU_class',2:'NDVI_landsat7',3:'NDBI_landsat7',4:'MNDWI_landsat7',\n",
        "   #                         5:'SAVI_landsat7',6:'LSE_landsat7',7:'rad_VIIRS'},inplace=True)\n",
        "  #dataset_bands['U_class']=dataset_bands.BU_class.apply(lambda y: 1 if y>=3 else 0)\n",
        "  #dataset_bands['LSE_der_landsat7']=dataset_bands.NDVI_landsat7.apply(lambda y: 0.995 if y < -0.185 else (\n",
        "  #  0.970 if y< 0.157 else (1.0098+0.047*np.log(y) if y<0.727 else 0.990)))\n",
        "  #dataset=dataset_bands.query('U_class==0').sample(10000).append(dataset_bands.query('U_class==1').sample(10000))\n",
        "  #dataset=dataset.reset_index()[['rad_VIIRS','SAVI_landsat7','MNDWI_landsat7','NDBI_landsat7','NDVI_landsat7','LSE_der_landsat7','U_class']]\n",
        "  #X_train, X_test, y_train, y_test = train_test_split(dataset[['rad_VIIRS','SAVI_landsat7','MNDWI_landsat7','NDVI_landsat7','NDBI_landsat7','LSE_der_landsat7']],\n",
        "  #                                                  dataset[['U_class']], test_size = 0.20)\n",
        "  #xgclassifier = XGBClassifier(random_state=123,colsample_bytree= 0.7, \n",
        "  #                             learning_rate=0.05, max_depth= 5, \n",
        "  #                           min_child_weight=11, n_estimators= 500, nthread= 4, objective= 'binary:logistic', \n",
        "  #                           seed= 123, silent=1, subsample= 0.8)\n",
        "  #xgclassifier.fit(X_train.values,y_train.values)\n",
        "  #y_pred=xgclassifier.predict(X_test.values)\n",
        "  #confussion_matrix_list.append(confusion_matrix(y_test, y_pred))\n",
        "  #classification_report_list.append(classification_report(y_test, y_pred))\n",
        "\n",
        "  #classification_2019:\n",
        "  #dataset = rasterio.open('/content/gdrive/My Drive/Urban_monitoring/Urban_/compiled_GHSL_30_train_2019_'+lokasi+'.tif')\n",
        "  #dataset_bands=pd.DataFrame()\n",
        "  #for i in dataset.indexes:\n",
        "  #  temp=dataset.read(i)\n",
        "  #  temp=pd.DataFrame(data=np.array(temp).flatten()).rename(columns={0:i})\n",
        "  #  dataset_bands=temp.join(dataset_bands)\n",
        "  #dataset_bands.rename(columns={1:'BU_class',2:'NDVI_landsat7',3:'NDBI_landsat7',4:'MNDWI_landsat7',\n",
        "  #                          5:'SAVI_landsat7',6:'LSE_landsat7',7:'rad_VIIRS'},inplace=True)\n",
        "  #dataset_bands['U_class']=dataset_bands.BU_class.apply(lambda y: 1 if y>=3 else 0)\n",
        "  #dataset_bands['LSE_der_landsat7']=dataset_bands.NDVI_landsat7.apply(lambda y: 0.995 if y < -0.185 else (\n",
        "  #  0.970 if y< 0.157 else (1.0098+0.047*np.log(y) if y<0.727 else 0.990)))\n",
        "  #dataset=dataset_bands.reset_index()[['rad_VIIRS','SAVI_landsat7','MNDWI_landsat7','NDBI_landsat7','NDVI_landsat7','LSE_der_landsat7']]\n",
        "  #class_2019_=xgclassifier.predict(dataset.values)\n",
        "  #temp_ = rasterio.open('/content/gdrive/My Drive/Urban_monitoring/Urban_/compiled_GHSL_30_train_2019_'+lokasi+'.tif')\n",
        "  #temp = temp_.read(1)\n",
        "  #array_class_2019=class_2019_.reshape(temp.shape[0],temp.shape[1]).astype(np.uint8)\n",
        "  #profile = temp_.profile\n",
        "  #profile.update(\n",
        "  #      dtype=array_class_2019.dtype,\n",
        "  #      count=1,\n",
        "  #      compress='lzw')\n",
        "  #with rasterio.open(\n",
        "  #  '/content/gdrive/My Drive/Urban_monitoring/Urban_/GHSL_/GHSL_rev/rev_class_2019_'+lokasi+'.tif','w',**profile) as dst2:\n",
        "  #  dst2.write(array_class_2019,1)\n",
        "  #  dst2.close()\n",
        "\n",
        "#Create model\n",
        "#for lokasi in lokus:\n",
        "  #print(lokasi)\n",
        "  #dataset = rasterio.open('/content/gdrive/My Drive/Urban_monitoring/Urban_/compiled_GHSL_30_train_2014_'+lokasi+'.tif')\n",
        "  #dataset_bands=pd.DataFrame()\n",
        "  #for i in dataset.indexes:\n",
        "  #  temp=dataset.read(i)\n",
        "  #  temp=pd.DataFrame(data=np.array(temp).flatten()).rename(columns={0:i})\n",
        "  #  dataset_bands=temp.join(dataset_bands)\n",
        "  #dataset_bands.rename(columns={1:'BU_class',2:'NDVI_landsat7',3:'NDBI_landsat7',4:'MNDWI_landsat7',\n",
        "  #                          5:'SAVI_landsat7',6:'LSE_landsat7',7:'rad_VIIRS'},inplace=True)\n",
        "  #dataset_bands['U_class']=dataset_bands.BU_class.apply(lambda y: 1 if y>=3 else 0)\n",
        "  #dataset_bands['LSE_der_landsat7']=dataset_bands.NDVI_landsat7.apply(lambda y: 0.995 if y < -0.185 else (\n",
        "  #  0.970 if y< 0.157 else (1.0098+0.047*np.log(y) if y<0.727 else 0.990)))\n",
        "  #dataset=dataset_bands.query('U_class==0').sample(10000).append(dataset_bands.query('U_class==1').sample(10000))\n",
        "  #dataset=dataset.reset_index()[['rad_VIIRS','SAVI_landsat7','MNDWI_landsat7','NDBI_landsat7','NDVI_landsat7','LSE_der_landsat7','U_class']]\n",
        "  #X_train, X_test, y_train, y_test = train_test_split(dataset[['rad_VIIRS','SAVI_landsat7','MNDWI_landsat7','NDVI_landsat7','NDBI_landsat7','LSE_der_landsat7']],\n",
        "  #                                                  dataset[['U_class']], test_size = 0.20)\n",
        "  #xgclassifier = XGBClassifier(random_state=123,colsample_bytree= 0.7, \n",
        "  #                             learning_rate=0.05, max_depth= 5, \n",
        "  #                           min_child_weight=11, n_estimators= 500, nthread= 4, objective= 'binary:logistic', \n",
        "  #                           seed= 123, silent=1, subsample= 0.8)\n",
        "  #xgclassifier.fit(X_train.values,y_train.values)\n",
        "  #y_pred=xgclassifier.predict(X_test.values)\n",
        "  #confussion_matrix_list.append(confusion_matrix(y_test, y_pred))\n",
        "  #classification_report_list.append(classification_report(y_test, y_pred))\n",
        "\n",
        "  #classification_2019:\n",
        "  #dataset = rasterio.open('/content/gdrive/My Drive/Urban_monitoring/Urban_/compiled_GHSL_30_train_2014_'+lokasi+'.tif')\n",
        "  #dataset_bands=pd.DataFrame()\n",
        "  #for i in dataset.indexes:\n",
        "  #  temp=dataset.read(i)\n",
        "  #  temp=pd.DataFrame(data=np.array(temp).flatten()).rename(columns={0:i})\n",
        "  #  dataset_bands=temp.join(dataset_bands)\n",
        "  #dataset_bands.rename(columns={1:'BU_class',2:'NDVI_landsat7',3:'NDBI_landsat7',4:'MNDWI_landsat7',\n",
        "  #                          5:'SAVI_landsat7',6:'LSE_landsat7',7:'rad_VIIRS'},inplace=True)\n",
        "  #dataset_bands['U_class']=dataset_bands.BU_class.apply(lambda y: 1 if y>=3 else 0)\n",
        "  #dataset_bands['LSE_der_landsat7']=dataset_bands.NDVI_landsat7.apply(lambda y: 0.995 if y < -0.185 else (\n",
        "  #  0.970 if y< 0.157 else (1.0098+0.047*np.log(y) if y<0.727 else 0.990)))\n",
        "  #dataset=dataset_bands.reset_index()[['rad_VIIRS','SAVI_landsat7','MNDWI_landsat7','NDBI_landsat7','NDVI_landsat7','LSE_der_landsat7']]\n",
        "  #class_2014_=xgclassifier.predict(dataset.values)\n",
        "  #temp_ = rasterio.open('/content/gdrive/My Drive/Urban_monitoring/Urban_/compiled_GHSL_30_train_2014_'+lokasi+'.tif')\n",
        "  #temp = temp_.read(1)\n",
        "  #array_class_2014=class_2014_.reshape(temp.shape[0],temp.shape[1]).astype(np.uint8)\n",
        "  #profile = temp_.profile\n",
        "  #profile.update(\n",
        "  #      dtype=array_class_2014.dtype,\n",
        "  #      count=1,\n",
        "  #      compress='lzw')\n",
        "  #with rasterio.open(\n",
        "  #  '/content/gdrive/My Drive/Urban_monitoring/Urban_/GHSL_/GHSL_rev/rev_class_2014_'+lokasi+'.tif','w',**profile) as dst2:\n",
        "  #  dst2.write(array_class_2014,1)\n",
        "  #  dst2.close()"
      ],
      "execution_count": null,
      "outputs": [
        {
          "output_type": "stream",
          "text": [
            "gerbangkertasusila\n"
          ],
          "name": "stdout"
        },
        {
          "output_type": "stream",
          "text": [
            "/usr/local/lib/python3.6/dist-packages/sklearn/preprocessing/_label.py:235: DataConversionWarning: A column-vector y was passed when a 1d array was expected. Please change the shape of y to (n_samples, ), for example using ravel().\n",
            "  y = column_or_1d(y, warn=True)\n",
            "/usr/local/lib/python3.6/dist-packages/sklearn/preprocessing/_label.py:268: DataConversionWarning: A column-vector y was passed when a 1d array was expected. Please change the shape of y to (n_samples, ), for example using ravel().\n",
            "  y = column_or_1d(y, warn=True)\n"
          ],
          "name": "stderr"
        }
      ]
    },
    {
      "cell_type": "code",
      "metadata": {
        "id": "-iMR_vUbRGIy",
        "colab_type": "code",
        "colab": {
          "base_uri": "https://localhost:8080/",
          "height": 52
        },
        "outputId": "2252c4d7-282f-452c-a1a3-7046f4bc5646"
      },
      "source": [
        "confussion_matrix_list[4]"
      ],
      "execution_count": null,
      "outputs": [
        {
          "output_type": "execute_result",
          "data": {
            "text/plain": [
              "array([[8910520,  891343],\n",
              "       [  55632,  671994]])"
            ]
          },
          "metadata": {
            "tags": []
          },
          "execution_count": 5
        }
      ]
    },
    {
      "cell_type": "code",
      "metadata": {
        "id": "pKiNQds72PMn",
        "colab_type": "code",
        "colab": {
          "base_uri": "https://localhost:8080/",
          "height": 52
        },
        "outputId": "9045b48c-5ed1-48e2-b108-8baa1e1debd4"
      },
      "source": [
        "lokus=['bandungraya']\n",
        "from sklearn.ensemble import RandomForestClassifier\n",
        "#Create model\n",
        "for lokasi in lokus:\n",
        "  print(lokasi)\n",
        "  dataset = rasterio.open('/content/gdrive/My Drive/Urban_monitoring/Urban_/compiled_GHSL_30_train_2014_'+lokasi+'.tif')\n",
        "  dataset_bands=pd.DataFrame()\n",
        "  for i in dataset.indexes:\n",
        "    temp=dataset.read(i)\n",
        "    temp=pd.DataFrame(data=np.array(temp).flatten()).rename(columns={0:i})\n",
        "    dataset_bands=temp.join(dataset_bands)\n",
        "  dataset_bands.rename(columns={1:'BU_class',2:'NDVI_landsat7',3:'NDBI_landsat7',4:'MNDWI_landsat7',\n",
        "                            5:'SAVI_landsat7',6:'LSE_landsat7',7:'rad_VIIRS'},inplace=True)\n",
        "  dataset_bands['U_class']=dataset_bands.BU_class.apply(lambda y: 1 if y>=3 else 0)\n",
        "  dataset_bands['LSE_der_landsat7']=dataset_bands.NDVI_landsat7.apply(lambda y: 0.995 if y < -0.185 else (\n",
        "    0.970 if y< 0.157 else (1.0098+0.047*np.log(y) if y<0.727 else 0.990)))\n",
        "  dataset=dataset_bands.query('U_class==0').sample(10000).append(dataset_bands.query('U_class==1').sample(10000))\n",
        "  dataset=dataset.reset_index()[['rad_VIIRS','SAVI_landsat7','MNDWI_landsat7','NDBI_landsat7','NDVI_landsat7','LSE_der_landsat7','U_class']]\n",
        "  X_train, X_test, y_train, y_test = train_test_split(dataset[['rad_VIIRS','SAVI_landsat7','MNDWI_landsat7','NDVI_landsat7','NDBI_landsat7','LSE_der_landsat7']],\n",
        "                                                    dataset[['U_class']], test_size = 0.20)\n",
        "  rfclassifier = RandomForestClassifier(random_state=123,max_depth=6,n_estimators=500,criterion='entropy')\n",
        "  rfclassifier.fit(X_train.values,y_train.values)\n",
        "  y_pred=rfclassifier.predict(dataset_bands[['rad_VIIRS','SAVI_landsat7','MNDWI_landsat7','NDBI_landsat7','NDVI_landsat7','LSE_der_landsat7']].values)\n",
        "  confussion_matrix_list.append(confusion_matrix(dataset_bands['U_class'],y_pred))\n",
        "  #y_pred=rfclassifier.predict(X_test.values)\n",
        "\n",
        "  #classification_2014:\n",
        "  #dataset = rasterio.open('/content/gdrive/My Drive/Urban_monitoring/Urban_/compiled_GHSL_30_train_2015_'+lokasi+'.tif')\n",
        "  #dataset_bands=pd.DataFrame()\n",
        "  #for i in dataset.indexes:\n",
        "  #  temp=dataset.read(i)\n",
        "  #  temp=pd.DataFrame(data=np.array(temp).flatten()).rename(columns={0:i})\n",
        "  # dataset_bands=temp.join(dataset_bands)\n",
        "  #dataset_bands.rename(columns={1:'BU_class',2:'NDVI_landsat7',3:'NDBI_landsat7',4:'MNDWI_landsat7',\n",
        "  #                          5:'SAVI_landsat7',6:'LSE_landsat7',7:'rad_VIIRS'},inplace=True)\n",
        "  #dataset_bands['U_class']=dataset_bands.BU_class.apply(lambda y: 1 if y>=3 else 0)\n",
        "  ##dataset_bands['LSE_der_landsat7']=dataset_bands.NDVI_landsat7.apply(lambda y: 0.995 if y < -0.185 else (\n",
        "  #  0.970 if y< 0.157 else (1.0098+0.047*np.log(y) if y<0.727 else 0.990)))\n",
        "  #dataset=dataset_bands.reset_index()[['rad_VIIRS','SAVI_landsat7','MNDWI_landsat7','NDBI_landsat7','NDVI_landsat7','LSE_der_landsat7']]\n",
        "  #class_2015_=rfclassifier.predict(dataset.values)\n",
        "  #dataset_bands['U_class']\n",
        "  #temp_ = rasterio.open('/content/gdrive/My Drive/Urban_monitoring/Urban_/compiled_GHSL_30_train_2015_'+lokasi+'.tif')\n",
        "  #temp = temp_.read(1)\n",
        "  #array_class_2015=class_2015_.reshape(temp.shape[0],temp.shape[1]).astype(np.uint8)\n",
        "  #profile = temp_.profile\n",
        "  #profile.update(\n",
        "  #      dtype=array_class_2015.dtype,\n",
        "   #     count=1,\n",
        "   #     compress='lzw')\n",
        "  #with rasterio.open(\n",
        "  #  '/content/gdrive/My Drive/Urban_monitoring/Urban_/GHSL_/GHSL_rev/rev_class_2015_'+lokasi+'_2.tif','w',**profile) as dst2:\n",
        "   # dst2.write(array_class_2015,1)\n",
        "   # dst2.close()\n",
        "#Create model\n",
        "#for lokasi in lokus:\n",
        " # print(lokasi)\n",
        " # dataset = rasterio.open('/content/gdrive/My Drive/Urban_monitoring/Urban_/compiled_GHSL_30_train_2014_'+lokasi+'.tif')\n",
        " # dataset_bands=pd.DataFrame()\n",
        " # for i in dataset.indexes:\n",
        " #   temp=dataset.read(i)\n",
        " #   temp=pd.DataFrame(data=np.array(temp).flatten()).rename(columns={0:i})\n",
        " #   dataset_bands=temp.join(dataset_bands)\n",
        " # dataset_bands.rename(columns={1:'BU_class',2:'NDVI_landsat7',3:'NDBI_landsat7',4:'MNDWI_landsat7',\n",
        "  #                          5:'SAVI_landsat7',6:'LSE_landsat7',7:'rad_VIIRS'},inplace=True)\n",
        "  #dataset_bands['U_class']=dataset_bands.BU_class.apply(lambda y: 1 if y>=3 else 0)\n",
        "  #dataset_bands['LSE_der_landsat7']=dataset_bands.NDVI_landsat7.apply(lambda y: 0.995 if y < -0.185 else (\n",
        "  #  0.970 if y< 0.157 else (1.0098+0.047*np.log(y) if y<0.727 else 0.990)))\n",
        "  #dataset=dataset_bands.query('U_class==0').sample(10000).append(dataset_bands.query('U_class==1').sample(10000))\n",
        "  #dataset=dataset.reset_index()[['rad_VIIRS','SAVI_landsat7','MNDWI_landsat7','NDBI_landsat7','NDVI_landsat7','LSE_der_landsat7','U_class']]\n",
        "  #X_train, X_test, y_train, y_test = train_test_split(dataset[['rad_VIIRS','SAVI_landsat7','MNDWI_landsat7','NDVI_landsat7','NDBI_landsat7','LSE_der_landsat7']],\n",
        "  #                                                  dataset[['U_class']], test_size = 0.20)\n",
        "  #rfclassifier = RandomForestClassifier(random_state=123,max_depth=6,n_estimators=500,criterion='entropy')\n",
        "  #rfclassifier.fit(X_train.values,y_train.values)\n",
        "  #y_pred=rfclassifier.predict(X_test.values)\n",
        "  #confussion_matrix_list.append(confusion_matrix(y_test, y_pred))\n",
        "  #classification_report_list.append(classification_report(y_test, y_pred))\n",
        "\n",
        "  #classification_2019:\n",
        "  #dataset = rasterio.open('/content/gdrive/My Drive/Urban_monitoring/Urban_/compiled_GHSL_30_train_2019_'+lokasi+'.tif')\n",
        "  #dataset_bands=pd.DataFrame()\n",
        "  #for i in dataset.indexes:\n",
        "  #  temp=dataset.read(i)\n",
        "  #  temp=pd.DataFrame(data=np.array(temp).flatten()).rename(columns={0:i})\n",
        "  #  dataset_bands=temp.join(dataset_bands)\n",
        "  #dataset_bands.rename(columns={1:'BU_class',2:'NDVI_landsat7',3:'NDBI_landsat7',4:'MNDWI_landsat7',\n",
        "  #                          5:'SAVI_landsat7',6:'LSE_landsat7',7:'rad_VIIRS'},inplace=True)\n",
        "  #dataset_bands['U_class']=dataset_bands.BU_class.apply(lambda y: 1 if y>=3 else 0)\n",
        "  #dataset_bands['LSE_der_landsat7']=dataset_bands.NDVI_landsat7.apply(lambda y: 0.995 if y < -0.185 else (\n",
        "  #  0.970 if y< 0.157 else (1.0098+0.047*np.log(y) if y<0.727 else 0.990)))\n",
        "  #dataset=dataset_bands.reset_index()[['rad_VIIRS','SAVI_landsat7','MNDWI_landsat7','NDBI_landsat7','NDVI_landsat7','LSE_der_landsat7']]\n",
        "  #class_2019_=rfclassifier.predict(dataset.values)\n",
        "  #temp_ = rasterio.open('/content/gdrive/My Drive/Urban_monitoring/Urban_/compiled_GHSL_30_train_2019_'+lokasi+'.tif')\n",
        "  #temp = temp_.read(1)\n",
        "  #array_class_2019=class_2019_.reshape(temp.shape[0],temp.shape[1]).astype(np.uint8)\n",
        "  #profile = temp_.profile\n",
        "  #profile.update(\n",
        "  #      dtype=array_class_2019.dtype,\n",
        "  #      count=1,\n",
        "  #      compress='lzw')\n",
        "  #with rasterio.open(\n",
        "  #  '/content/gdrive/My Drive/Urban_monitoring/Urban_/GHSL_/GHSL_rev/rev_class_2019_'+lokasi+'.tif','w',**profile) as dst2:\n",
        "  #  dst2.write(array_class_2019,1)\n",
        "  #  dst2.close()\n",
        "\n",
        "#Create model\n",
        "#for lokasi in lokus:\n",
        "#  print(lokasi)\n",
        "#  dataset = rasterio.open('/content/gdrive/My Drive/Urban_monitoring/Urban_/compiled_GHSL_30_train_2014_'+lokasi+'.tif')\n",
        "#  dataset_bands=pd.DataFrame()\n",
        "#  for i in dataset.indexes:\n",
        "#    temp=dataset.read(i)\n",
        "#    temp=pd.DataFrame(data=np.array(temp).flatten()).rename(columns={0:i})\n",
        "#    dataset_bands=temp.join(dataset_bands)\n",
        "#  dataset_bands.rename(columns={1:'BU_class',2:'NDVI_landsat7',3:'NDBI_landsat7',4:'MNDWI_landsat7',\n",
        "#                            5:'SAVI_landsat7',6:'LSE_landsat7',7:'rad_VIIRS'},inplace=True)\n",
        "#  dataset_bands['U_class']=dataset_bands.BU_class.apply(lambda y: 1 if y>=3 else 0)\n",
        "#  dataset_bands['LSE_der_landsat7']=dataset_bands.NDVI_landsat7.apply(lambda y: 0.995 if y < -0.185 else (\n",
        "#    0.970 if y< 0.157 else (1.0098+0.047*np.log(y) if y<0.727 else 0.990)))\n",
        "#  dataset=dataset_bands.query('U_class==0').sample(10000).append(dataset_bands.query('U_class==1').sample(10000))\n",
        "#  dataset=dataset.reset_index()[['rad_VIIRS','SAVI_landsat7','MNDWI_landsat7','NDBI_landsat7','NDVI_landsat7','LSE_der_landsat7','U_class']]\n",
        "#  X_train, X_test, y_train, y_test = train_test_split(dataset[['rad_VIIRS','SAVI_landsat7','MNDWI_landsat7','NDVI_landsat7','NDBI_landsat7','LSE_der_landsat7']],\n",
        "#                                                    dataset[['U_class']], test_size = 0.20)\n",
        "#  rfclassifier = RandomForestClassifier(random_state=123,max_depth=6,n_estimators=500,criterion='entropy')\n",
        "#  rfclassifier.fit(X_train.values,y_train.values)\n",
        "#  y_pred=rfclassifier.predict(X_test.values)\n",
        "#  confussion_matrix_list.append(confusion_matrix(y_test, y_pred))\n",
        "#  classification_report_list.append(classification_report(y_test, y_pred))\n",
        "\n",
        "  #classification_2019:\n",
        "# dataset = rasterio.open('/content/gdrive/My Drive/Urban_monitoring/Urban_/compiled_GHSL_30_train_2014_'+lokasi+'.tif')\n",
        "#  dataset_bands=pd.DataFrame()\n",
        "#  for i in dataset.indexes:\n",
        "#    temp=dataset.read(i)\n",
        "#    temp=pd.DataFrame(data=np.array(temp).flatten()).rename(columns={0:i})\n",
        "#    dataset_bands=temp.join(dataset_bands)\n",
        "#  dataset_bands.rename(columns={1:'BU_class',2:'NDVI_landsat7',3:'NDBI_landsat7',4:'MNDWI_landsat7',\n",
        "#                            5:'SAVI_landsat7',6:'LSE_landsat7',7:'rad_VIIRS'},inplace=True)\n",
        "#  dataset_bands['U_class']=dataset_bands.BU_class.apply(lambda y: 1 if y>=3 else 0)\n",
        "#  dataset_bands['LSE_der_landsat7']=dataset_bands.NDVI_landsat7.apply(lambda y: 0.995 if y < -0.185 else (\n",
        "#    0.970 if y< 0.157 else (1.0098+0.047*np.log(y) if y<0.727 else 0.990)))\n",
        "#  dataset=dataset_bands.reset_index()[['rad_VIIRS','SAVI_landsat7','MNDWI_landsat7','NDBI_landsat7','NDVI_landsat7','LSE_der_landsat7']]\n",
        "#  class_2014_=rfclassifier.predict(dataset.values)\n",
        "#  temp_ = rasterio.open('/content/gdrive/My Drive/Urban_monitoring/Urban_/compiled_GHSL_30_train_2014_'+lokasi+'.tif')\n",
        "#  temp = temp_.read(1)\n",
        "#  array_class_2014=class_2014_.reshape(temp.shape[0],temp.shape[1]).astype(np.uint8)\n",
        "#  profile = temp_.profile\n",
        "#  profile.update(\n",
        "#        dtype=array_class_2014.dtype,\n",
        "#        count=1,\n",
        "#        compress='lzw')\n",
        "#  with rasterio.open(\n",
        "#    '/content/gdrive/My Drive/Urban_monitoring/Urban_/GHSL_/GHSL_rev/rev_class_2014_'+lokasi+'.tif','w',**profile) as dst2:\n",
        "#    dst2.write(array_class_2014,1)\n",
        "#    dst2.close()"
      ],
      "execution_count": null,
      "outputs": [
        {
          "output_type": "stream",
          "text": [
            "bandungraya\n"
          ],
          "name": "stdout"
        },
        {
          "output_type": "stream",
          "text": [
            "/usr/local/lib/python3.6/dist-packages/ipykernel_launcher.py:22: DataConversionWarning: A column-vector y was passed when a 1d array was expected. Please change the shape of y to (n_samples,), for example using ravel().\n"
          ],
          "name": "stderr"
        }
      ]
    },
    {
      "cell_type": "code",
      "metadata": {
        "id": "ihFedJkZpLmJ",
        "colab_type": "code",
        "colab": {
          "base_uri": "https://localhost:8080/",
          "height": 52
        },
        "outputId": "c3eab8f3-f281-4827-abe0-0fc2ff1585f4"
      },
      "source": [
        "confussion_matrix_list[5]"
      ],
      "execution_count": null,
      "outputs": [
        {
          "output_type": "execute_result",
          "data": {
            "text/plain": [
              "array([[4034753, 1953292],\n",
              "       [   5903,  549529]])"
            ]
          },
          "metadata": {
            "tags": []
          },
          "execution_count": 13
        }
      ]
    }
  ]
}