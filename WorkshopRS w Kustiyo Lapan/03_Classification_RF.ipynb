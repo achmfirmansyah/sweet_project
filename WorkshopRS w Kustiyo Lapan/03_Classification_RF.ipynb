{
 "cells": [
  {
   "cell_type": "code",
   "execution_count": 1,
   "metadata": {},
   "outputs": [],
   "source": [
    "import pandas as pd"
   ]
  },
  {
   "cell_type": "code",
   "execution_count": 2,
   "metadata": {},
   "outputs": [],
   "source": [
    "data_=pd.read_csv('Mandiri/data_latihan_train.csv')"
   ]
  },
  {
   "cell_type": "code",
   "execution_count": 81,
   "metadata": {},
   "outputs": [],
   "source": [
    "##Skenario 1 100 data per kelas\n",
    "dataset1=data_.query('Class_ID==1').sample(100).append(data_.query('Class_ID==2').sample(100)).append(data_.query('Class_ID==3').sample(100)).append(data_.query('Class_ID==4').sample(100))"
   ]
  },
  {
   "cell_type": "code",
   "execution_count": 82,
   "metadata": {},
   "outputs": [
    {
     "data": {
      "text/plain": [
       "Index(['id', 'Class_ID', 'xcoord', 'ycoord', 'S1_VVmin', 'S1_VHmin',\n",
       "       'S1_VVmed', 'S1_VHmed', 'S1_VVmax', 'S1_VHmax', 'l8_B2min', 'l8_B2med',\n",
       "       'l8_B2max', 'l8_B2mean', 'l8_B2stddev', 'l8_B3min', 'l8_B3med',\n",
       "       'l8_B3max', 'l8_B3mean', 'l8_B3stddev', 'l8_B4min', 'l8_B4med',\n",
       "       'l8_B4max', 'l8_B4mean', 'l8_B4stddev', 'l8_B5min', 'l8_B5med',\n",
       "       'l8_B5max', 'l8_B5mean', 'l8_B5stddev', 'l8_B6min', 'l8_B6med',\n",
       "       'l8_B6max', 'l8_B6mean', 'l8_B6stddev', 's2_B2min', 's2_B2med',\n",
       "       's2_B2max', 's2_B2mean', 's2_B2stddev', 's2_B3min', 's2_B3med',\n",
       "       's2_B3max', 's2_B3mean', 's2_B3stddev', 's2_B4min', 's2_B4med',\n",
       "       's2_B4max', 's2_B4mean', 's2_B4stddev', 's2_B8min', 's2_B8med',\n",
       "       's2_B8max', 's2_B8mean', 's2_B8stddev', 's2_B11min', 's2_B11med',\n",
       "       's2_B11max', 's2_B11mean', 's2_B11stddev'],\n",
       "      dtype='object')"
      ]
     },
     "execution_count": 82,
     "metadata": {},
     "output_type": "execute_result"
    }
   ],
   "source": [
    "dataset1.columns"
   ]
  },
  {
   "cell_type": "code",
   "execution_count": 83,
   "metadata": {},
   "outputs": [],
   "source": [
    "y1=dataset1[['Class_ID']]\n",
    "X1=dataset1[['S1_VVmin', 'S1_VHmin',\n",
    "       'S1_VVmed', 'S1_VHmed', 'S1_VVmax', 'S1_VHmax', 'l8_B2min', 'l8_B2med',\n",
    "       'l8_B2max', 'l8_B2mean', 'l8_B2stddev', 'l8_B3min', 'l8_B3med',\n",
    "       'l8_B3max', 'l8_B3mean', 'l8_B3stddev', 'l8_B4min', 'l8_B4med',\n",
    "       'l8_B4max', 'l8_B4mean', 'l8_B4stddev', 'l8_B5min', 'l8_B5med',\n",
    "       'l8_B5max', 'l8_B5mean', 'l8_B5stddev', 'l8_B6min', 'l8_B6med',\n",
    "       'l8_B6max', 'l8_B6mean', 'l8_B6stddev', 's2_B2min', 's2_B2med',\n",
    "       's2_B2max', 's2_B2mean', 's2_B2stddev', 's2_B3min', 's2_B3med',\n",
    "       's2_B3max', 's2_B3mean', 's2_B3stddev', 's2_B4min', 's2_B4med',\n",
    "       's2_B4max', 's2_B4mean', 's2_B4stddev', 's2_B8min', 's2_B8med',\n",
    "       's2_B8max', 's2_B8mean', 's2_B8stddev', 's2_B11min', 's2_B11med',\n",
    "       's2_B11max', 's2_B11mean', 's2_B11stddev']]"
   ]
  },
  {
   "cell_type": "code",
   "execution_count": 84,
   "metadata": {},
   "outputs": [],
   "source": [
    "from sklearn.ensemble import RandomForestClassifier\n",
    "from sklearn.model_selection import StratifiedKFold\n",
    "clf = RandomForestClassifier(bootstrap=False, criterion=\"entropy\", max_features=0.15000000000000002, min_samples_leaf=6, min_samples_split=3, n_estimators=100)\n",
    "\n",
    "cv = StratifiedKFold(n_splits=5, random_state=123, shuffle=True)"
   ]
  },
  {
   "cell_type": "code",
   "execution_count": 85,
   "metadata": {},
   "outputs": [
    {
     "name": "stdout",
     "output_type": "stream",
     "text": [
      "Validated 1\n",
      "Counter({1.0: 80, 2.0: 80, 3.0: 80, 4.0: 80})\n"
     ]
    },
    {
     "name": "stderr",
     "output_type": "stream",
     "text": [
      "<ipython-input-85-c0f636c3ebac>:6: DataConversionWarning: A column-vector y was passed when a 1d array was expected. Please change the shape of y to (n_samples,), for example using ravel().\n",
      "  clf.fit(X1.iloc[train,:].values, y1.iloc[train,:].values)\n"
     ]
    },
    {
     "name": "stdout",
     "output_type": "stream",
     "text": [
      "Validated 2\n",
      "Counter({1.0: 80, 2.0: 80, 3.0: 80, 4.0: 80})\n",
      "Validated 3\n"
     ]
    },
    {
     "name": "stderr",
     "output_type": "stream",
     "text": [
      "<ipython-input-85-c0f636c3ebac>:6: DataConversionWarning: A column-vector y was passed when a 1d array was expected. Please change the shape of y to (n_samples,), for example using ravel().\n",
      "  clf.fit(X1.iloc[train,:].values, y1.iloc[train,:].values)\n",
      "<ipython-input-85-c0f636c3ebac>:6: DataConversionWarning: A column-vector y was passed when a 1d array was expected. Please change the shape of y to (n_samples,), for example using ravel().\n",
      "  clf.fit(X1.iloc[train,:].values, y1.iloc[train,:].values)\n"
     ]
    },
    {
     "name": "stdout",
     "output_type": "stream",
     "text": [
      "Counter({1.0: 80, 2.0: 80, 3.0: 80, 4.0: 80})\n",
      "Validated 4\n",
      "Counter({1.0: 80, 2.0: 80, 3.0: 80, 4.0: 80})\n"
     ]
    },
    {
     "name": "stderr",
     "output_type": "stream",
     "text": [
      "<ipython-input-85-c0f636c3ebac>:6: DataConversionWarning: A column-vector y was passed when a 1d array was expected. Please change the shape of y to (n_samples,), for example using ravel().\n",
      "  clf.fit(X1.iloc[train,:].values, y1.iloc[train,:].values)\n",
      "<ipython-input-85-c0f636c3ebac>:6: DataConversionWarning: A column-vector y was passed when a 1d array was expected. Please change the shape of y to (n_samples,), for example using ravel().\n",
      "  clf.fit(X1.iloc[train,:].values, y1.iloc[train,:].values)\n"
     ]
    },
    {
     "name": "stdout",
     "output_type": "stream",
     "text": [
      "Validated 5\n",
      "Counter({1.0: 80, 2.0: 80, 3.0: 80, 4.0: 80})\n"
     ]
    }
   ],
   "source": [
    "testacc = []\n",
    "trainacc = []\n",
    "from collections import Counter\n",
    "for i, (train, test) in enumerate(cv.split(X1, y1)):\n",
    "    print('Validated',i+1)\n",
    "    clf.fit(X1.iloc[train,:].values, y1.iloc[train,:].values)\n",
    "    print(Counter(y1.iloc[train,:].Class_ID))    \n",
    "    testacc.append(clf.score(X1.iloc[test,:].values, y1.iloc[test,:].values))\n",
    "    trainacc.append(clf.score(X1.iloc[train,:].values, y1.iloc[train,:].values))"
   ]
  },
  {
   "cell_type": "code",
   "execution_count": 86,
   "metadata": {},
   "outputs": [
    {
     "name": "stdout",
     "output_type": "stream",
     "text": [
      "0.4925\n",
      "0.9606250000000001\n"
     ]
    }
   ],
   "source": [
    "import numpy as np\n",
    "print(np.mean(testacc))\n",
    "print(np.mean(trainacc))"
   ]
  },
  {
   "cell_type": "code",
   "execution_count": 87,
   "metadata": {},
   "outputs": [
    {
     "data": {
      "text/plain": [
       "[0.95625, 0.959375, 0.971875, 0.953125, 0.9625]"
      ]
     },
     "execution_count": 87,
     "metadata": {},
     "output_type": "execute_result"
    }
   ],
   "source": [
    "trainacc"
   ]
  },
  {
   "cell_type": "code",
   "execution_count": 88,
   "metadata": {},
   "outputs": [],
   "source": [
    "##Skenario 2 stratified data\n",
    "dataset2=data_.query('Class_ID<5')\n",
    "y2=dataset2[['Class_ID']]\n",
    "X2=dataset2[['S1_VVmin', 'S1_VHmin',\n",
    "       'S1_VVmed', 'S1_VHmed', 'S1_VVmax', 'S1_VHmax', 'l8_B2min', 'l8_B2med',\n",
    "       'l8_B2max', 'l8_B2mean', 'l8_B2stddev', 'l8_B3min', 'l8_B3med',\n",
    "       'l8_B3max', 'l8_B3mean', 'l8_B3stddev', 'l8_B4min', 'l8_B4med',\n",
    "       'l8_B4max', 'l8_B4mean', 'l8_B4stddev', 'l8_B5min', 'l8_B5med',\n",
    "       'l8_B5max', 'l8_B5mean', 'l8_B5stddev', 'l8_B6min', 'l8_B6med',\n",
    "       'l8_B6max', 'l8_B6mean', 'l8_B6stddev', 's2_B2min', 's2_B2med',\n",
    "       's2_B2max', 's2_B2mean', 's2_B2stddev', 's2_B3min', 's2_B3med',\n",
    "       's2_B3max', 's2_B3mean', 's2_B3stddev', 's2_B4min', 's2_B4med',\n",
    "       's2_B4max', 's2_B4mean', 's2_B4stddev', 's2_B8min', 's2_B8med',\n",
    "       's2_B8max', 's2_B8mean', 's2_B8stddev', 's2_B11min', 's2_B11med',\n",
    "       's2_B11max', 's2_B11mean', 's2_B11stddev']]\n",
    "\n",
    "clf = RandomForestClassifier(bootstrap=False, criterion=\"entropy\", max_features=0.15000000000000002, min_samples_leaf=6, min_samples_split=3, n_estimators=100)\n",
    "cv = StratifiedKFold(n_splits=5, random_state=123, shuffle=True)"
   ]
  },
  {
   "cell_type": "code",
   "execution_count": 89,
   "metadata": {},
   "outputs": [
    {
     "name": "stdout",
     "output_type": "stream",
     "text": [
      "Validated 1\n"
     ]
    },
    {
     "name": "stderr",
     "output_type": "stream",
     "text": [
      "<ipython-input-89-a3fd613e6936>:6: DataConversionWarning: A column-vector y was passed when a 1d array was expected. Please change the shape of y to (n_samples,), for example using ravel().\n",
      "  clf.fit(X2.iloc[train,:].values, y2.iloc[train,:].values)\n"
     ]
    },
    {
     "name": "stdout",
     "output_type": "stream",
     "text": [
      "Counter({4.0: 1360, 1.0: 976, 2.0: 184, 3.0: 88})\n",
      "Validated 2\n"
     ]
    },
    {
     "name": "stderr",
     "output_type": "stream",
     "text": [
      "<ipython-input-89-a3fd613e6936>:6: DataConversionWarning: A column-vector y was passed when a 1d array was expected. Please change the shape of y to (n_samples,), for example using ravel().\n",
      "  clf.fit(X2.iloc[train,:].values, y2.iloc[train,:].values)\n"
     ]
    },
    {
     "name": "stdout",
     "output_type": "stream",
     "text": [
      "Counter({4.0: 1361, 1.0: 975, 2.0: 184, 3.0: 88})\n",
      "Validated 3\n"
     ]
    },
    {
     "name": "stderr",
     "output_type": "stream",
     "text": [
      "<ipython-input-89-a3fd613e6936>:6: DataConversionWarning: A column-vector y was passed when a 1d array was expected. Please change the shape of y to (n_samples,), for example using ravel().\n",
      "  clf.fit(X2.iloc[train,:].values, y2.iloc[train,:].values)\n"
     ]
    },
    {
     "name": "stdout",
     "output_type": "stream",
     "text": [
      "Counter({4.0: 1361, 1.0: 975, 2.0: 184, 3.0: 88})\n",
      "Validated 4\n"
     ]
    },
    {
     "name": "stderr",
     "output_type": "stream",
     "text": [
      "<ipython-input-89-a3fd613e6936>:6: DataConversionWarning: A column-vector y was passed when a 1d array was expected. Please change the shape of y to (n_samples,), for example using ravel().\n",
      "  clf.fit(X2.iloc[train,:].values, y2.iloc[train,:].values)\n"
     ]
    },
    {
     "name": "stdout",
     "output_type": "stream",
     "text": [
      "Counter({4.0: 1361, 1.0: 975, 2.0: 184, 3.0: 88})\n",
      "Validated 5\n"
     ]
    },
    {
     "name": "stderr",
     "output_type": "stream",
     "text": [
      "<ipython-input-89-a3fd613e6936>:6: DataConversionWarning: A column-vector y was passed when a 1d array was expected. Please change the shape of y to (n_samples,), for example using ravel().\n",
      "  clf.fit(X2.iloc[train,:].values, y2.iloc[train,:].values)\n"
     ]
    },
    {
     "name": "stdout",
     "output_type": "stream",
     "text": [
      "Counter({4.0: 1361, 1.0: 975, 2.0: 184, 3.0: 88})\n"
     ]
    }
   ],
   "source": [
    "testacc2 = []\n",
    "trainacc2 = []\n",
    "from collections import Counter\n",
    "for i, (train, test) in enumerate(cv.split(X2, y2)):\n",
    "    print('Validated',i+1)\n",
    "    clf.fit(X2.iloc[train,:].values, y2.iloc[train,:].values)\n",
    "    print(Counter(y2.iloc[train,:].Class_ID))    \n",
    "    testacc2.append(clf.score(X2.iloc[test,:].values, y2.iloc[test,:].values))\n",
    "    trainacc2.append(clf.score(X2.iloc[train,:].values, y2.iloc[train,:].values))"
   ]
  },
  {
   "cell_type": "code",
   "execution_count": 90,
   "metadata": {},
   "outputs": [
    {
     "name": "stdout",
     "output_type": "stream",
     "text": [
      "0.666564417177914\n",
      "0.9302147239263803\n"
     ]
    }
   ],
   "source": [
    "import numpy as np\n",
    "print(np.mean(testacc2))\n",
    "print(np.mean(trainacc2))"
   ]
  },
  {
   "cell_type": "code",
   "execution_count": 93,
   "metadata": {},
   "outputs": [],
   "source": [
    "##Skenario 3 Random full data\n",
    "dataset3=data_.query('Class_ID<5')\n",
    "y3=dataset3[['Class_ID']]\n",
    "X3=dataset3[['S1_VVmin', 'S1_VHmin',\n",
    "       'S1_VVmed', 'S1_VHmed', 'S1_VVmax', 'S1_VHmax', 'l8_B2min', 'l8_B2med',\n",
    "       'l8_B2max', 'l8_B2mean', 'l8_B2stddev', 'l8_B3min', 'l8_B3med',\n",
    "       'l8_B3max', 'l8_B3mean', 'l8_B3stddev', 'l8_B4min', 'l8_B4med',\n",
    "       'l8_B4max', 'l8_B4mean', 'l8_B4stddev', 'l8_B5min', 'l8_B5med',\n",
    "       'l8_B5max', 'l8_B5mean', 'l8_B5stddev', 'l8_B6min', 'l8_B6med',\n",
    "       'l8_B6max', 'l8_B6mean', 'l8_B6stddev', 's2_B2min', 's2_B2med',\n",
    "       's2_B2max', 's2_B2mean', 's2_B2stddev', 's2_B3min', 's2_B3med',\n",
    "       's2_B3max', 's2_B3mean', 's2_B3stddev', 's2_B4min', 's2_B4med',\n",
    "       's2_B4max', 's2_B4mean', 's2_B4stddev', 's2_B8min', 's2_B8med',\n",
    "       's2_B8max', 's2_B8mean', 's2_B8stddev', 's2_B11min', 's2_B11med',\n",
    "       's2_B11max', 's2_B11mean', 's2_B11stddev']]\n",
    "from sklearn.model_selection import KFold\n",
    "clf = RandomForestClassifier(bootstrap=False, criterion=\"entropy\", max_features=0.15000000000000002, min_samples_leaf=6, min_samples_split=3, n_estimators=100)\n",
    "cv = KFold(n_splits=5, random_state=123, shuffle=True)"
   ]
  },
  {
   "cell_type": "code",
   "execution_count": 94,
   "metadata": {},
   "outputs": [
    {
     "name": "stdout",
     "output_type": "stream",
     "text": [
      "Validated 1\n"
     ]
    },
    {
     "name": "stderr",
     "output_type": "stream",
     "text": [
      "<ipython-input-94-7a87b335d773>:6: DataConversionWarning: A column-vector y was passed when a 1d array was expected. Please change the shape of y to (n_samples,), for example using ravel().\n",
      "  clf.fit(X3.iloc[train,:].values, y3.iloc[train,:].values)\n"
     ]
    },
    {
     "name": "stdout",
     "output_type": "stream",
     "text": [
      "Counter({4.0: 1351, 1.0: 979, 2.0: 187, 3.0: 91})\n",
      "Validated 2\n"
     ]
    },
    {
     "name": "stderr",
     "output_type": "stream",
     "text": [
      "<ipython-input-94-7a87b335d773>:6: DataConversionWarning: A column-vector y was passed when a 1d array was expected. Please change the shape of y to (n_samples,), for example using ravel().\n",
      "  clf.fit(X3.iloc[train,:].values, y3.iloc[train,:].values)\n"
     ]
    },
    {
     "name": "stdout",
     "output_type": "stream",
     "text": [
      "Counter({4.0: 1379, 1.0: 963, 2.0: 182, 3.0: 84})\n",
      "Validated 3\n"
     ]
    },
    {
     "name": "stderr",
     "output_type": "stream",
     "text": [
      "<ipython-input-94-7a87b335d773>:6: DataConversionWarning: A column-vector y was passed when a 1d array was expected. Please change the shape of y to (n_samples,), for example using ravel().\n",
      "  clf.fit(X3.iloc[train,:].values, y3.iloc[train,:].values)\n"
     ]
    },
    {
     "name": "stdout",
     "output_type": "stream",
     "text": [
      "Counter({4.0: 1351, 1.0: 985, 2.0: 184, 3.0: 88})\n",
      "Validated 4\n"
     ]
    },
    {
     "name": "stderr",
     "output_type": "stream",
     "text": [
      "<ipython-input-94-7a87b335d773>:6: DataConversionWarning: A column-vector y was passed when a 1d array was expected. Please change the shape of y to (n_samples,), for example using ravel().\n",
      "  clf.fit(X3.iloc[train,:].values, y3.iloc[train,:].values)\n"
     ]
    },
    {
     "name": "stdout",
     "output_type": "stream",
     "text": [
      "Counter({4.0: 1364, 1.0: 975, 2.0: 180, 3.0: 89})\n",
      "Validated 5\n"
     ]
    },
    {
     "name": "stderr",
     "output_type": "stream",
     "text": [
      "<ipython-input-94-7a87b335d773>:6: DataConversionWarning: A column-vector y was passed when a 1d array was expected. Please change the shape of y to (n_samples,), for example using ravel().\n",
      "  clf.fit(X3.iloc[train,:].values, y3.iloc[train,:].values)\n"
     ]
    },
    {
     "name": "stdout",
     "output_type": "stream",
     "text": [
      "Counter({4.0: 1359, 1.0: 974, 2.0: 187, 3.0: 88})\n"
     ]
    }
   ],
   "source": [
    "testacc3 = []\n",
    "trainacc3 = []\n",
    "from collections import Counter\n",
    "for i, (train, test) in enumerate(cv.split(X3, y3)):\n",
    "    print('Validated',i+1)\n",
    "    clf.fit(X3.iloc[train,:].values, y3.iloc[train,:].values)\n",
    "    print(Counter(y3.iloc[train,:].Class_ID))    \n",
    "    testacc3.append(clf.score(X3.iloc[test,:].values, y3.iloc[test,:].values))\n",
    "    trainacc3.append(clf.score(X3.iloc[train,:].values, y3.iloc[train,:].values))"
   ]
  },
  {
   "cell_type": "code",
   "execution_count": 96,
   "metadata": {},
   "outputs": [
    {
     "name": "stdout",
     "output_type": "stream",
     "text": [
      "0.6570552147239264\n",
      "0.9313650306748466\n"
     ]
    }
   ],
   "source": [
    "import numpy as np\n",
    "print(np.mean(testacc3))\n",
    "print(np.mean(trainacc3))"
   ]
  },
  {
   "cell_type": "code",
   "execution_count": 97,
   "metadata": {},
   "outputs": [],
   "source": [
    "### Feature importance"
   ]
  },
  {
   "cell_type": "code",
   "execution_count": 100,
   "metadata": {},
   "outputs": [
    {
     "name": "stdout",
     "output_type": "stream",
     "text": [
      "Validated 1\n"
     ]
    },
    {
     "name": "stderr",
     "output_type": "stream",
     "text": [
      "<ipython-input-100-d8d0ba87be33>:21: DataConversionWarning: A column-vector y was passed when a 1d array was expected. Please change the shape of y to (n_samples,), for example using ravel().\n",
      "  clf.fit(X2.iloc[train,:].values, y2.iloc[train,:].values)\n"
     ]
    },
    {
     "name": "stdout",
     "output_type": "stream",
     "text": [
      "Validated 2\n"
     ]
    },
    {
     "name": "stderr",
     "output_type": "stream",
     "text": [
      "<ipython-input-100-d8d0ba87be33>:21: DataConversionWarning: A column-vector y was passed when a 1d array was expected. Please change the shape of y to (n_samples,), for example using ravel().\n",
      "  clf.fit(X2.iloc[train,:].values, y2.iloc[train,:].values)\n"
     ]
    },
    {
     "name": "stdout",
     "output_type": "stream",
     "text": [
      "Validated 3\n"
     ]
    },
    {
     "name": "stderr",
     "output_type": "stream",
     "text": [
      "<ipython-input-100-d8d0ba87be33>:21: DataConversionWarning: A column-vector y was passed when a 1d array was expected. Please change the shape of y to (n_samples,), for example using ravel().\n",
      "  clf.fit(X2.iloc[train,:].values, y2.iloc[train,:].values)\n"
     ]
    },
    {
     "name": "stdout",
     "output_type": "stream",
     "text": [
      "Validated 4\n"
     ]
    },
    {
     "name": "stderr",
     "output_type": "stream",
     "text": [
      "<ipython-input-100-d8d0ba87be33>:21: DataConversionWarning: A column-vector y was passed when a 1d array was expected. Please change the shape of y to (n_samples,), for example using ravel().\n",
      "  clf.fit(X2.iloc[train,:].values, y2.iloc[train,:].values)\n"
     ]
    },
    {
     "name": "stdout",
     "output_type": "stream",
     "text": [
      "Validated 5\n"
     ]
    },
    {
     "name": "stderr",
     "output_type": "stream",
     "text": [
      "<ipython-input-100-d8d0ba87be33>:21: DataConversionWarning: A column-vector y was passed when a 1d array was expected. Please change the shape of y to (n_samples,), for example using ravel().\n",
      "  clf.fit(X2.iloc[train,:].values, y2.iloc[train,:].values)\n"
     ]
    }
   ],
   "source": [
    "dataset2=data_.query('Class_ID<5')\n",
    "y2=dataset2[['Class_ID']]\n",
    "X2=dataset2[['S1_VVmin', 'S1_VHmin',\n",
    "       'S1_VVmed', 'S1_VHmed', 'S1_VVmax', 'S1_VHmax', 'l8_B2min', 'l8_B2med',\n",
    "       'l8_B2max', 'l8_B2mean', 'l8_B2stddev', 'l8_B3min', 'l8_B3med',\n",
    "       'l8_B3max', 'l8_B3mean', 'l8_B3stddev', 'l8_B4min', 'l8_B4med',\n",
    "       'l8_B4max', 'l8_B4mean', 'l8_B4stddev', 'l8_B5min', 'l8_B5med',\n",
    "       'l8_B5max', 'l8_B5mean', 'l8_B5stddev', 'l8_B6min', 'l8_B6med',\n",
    "       'l8_B6max', 'l8_B6mean', 'l8_B6stddev', 's2_B2min', 's2_B2med',\n",
    "       's2_B2max', 's2_B2mean', 's2_B2stddev', 's2_B3min', 's2_B3med',\n",
    "       's2_B3max', 's2_B3mean', 's2_B3stddev', 's2_B4min', 's2_B4med',\n",
    "       's2_B4max', 's2_B4mean', 's2_B4stddev', 's2_B8min', 's2_B8med',\n",
    "       's2_B8max', 's2_B8mean', 's2_B8stddev', 's2_B11min', 's2_B11med',\n",
    "       's2_B11max', 's2_B11mean', 's2_B11stddev']]\n",
    "\n",
    "clf = RandomForestClassifier(bootstrap=False, criterion=\"entropy\", max_features=0.15000000000000002, min_samples_leaf=6, min_samples_split=3, n_estimators=100)\n",
    "cv = StratifiedKFold(n_splits=5, random_state=123, shuffle=True)\n",
    "split={}\n",
    "for i, (train, test) in enumerate(cv.split(X2, y2)):\n",
    "    print('Validated',i+1)\n",
    "    clf.fit(X2.iloc[train,:].values, y2.iloc[train,:].values)\n",
    "    split[i+1]=clf.feature_importances_"
   ]
  },
  {
   "cell_type": "code",
   "execution_count": 103,
   "metadata": {},
   "outputs": [],
   "source": [
    "feature_importance=pd.DataFrame(split,index=X2.columns)"
   ]
  },
  {
   "cell_type": "code",
   "execution_count": 104,
   "metadata": {},
   "outputs": [],
   "source": [
    "feature_importance['avg_importance']=feature_importance.apply(lambda y: np.mean(y),axis=1)"
   ]
  },
  {
   "cell_type": "code",
   "execution_count": 111,
   "metadata": {},
   "outputs": [
    {
     "data": {
      "text/html": [
       "<div>\n",
       "<style scoped>\n",
       "    .dataframe tbody tr th:only-of-type {\n",
       "        vertical-align: middle;\n",
       "    }\n",
       "\n",
       "    .dataframe tbody tr th {\n",
       "        vertical-align: top;\n",
       "    }\n",
       "\n",
       "    .dataframe thead th {\n",
       "        text-align: right;\n",
       "    }\n",
       "</style>\n",
       "<table border=\"1\" class=\"dataframe\">\n",
       "  <thead>\n",
       "    <tr style=\"text-align: right;\">\n",
       "      <th></th>\n",
       "      <th>avg_importance</th>\n",
       "    </tr>\n",
       "  </thead>\n",
       "  <tbody>\n",
       "    <tr>\n",
       "      <th>s2_B8stddev</th>\n",
       "      <td>0.057787</td>\n",
       "    </tr>\n",
       "    <tr>\n",
       "      <th>s2_B3stddev</th>\n",
       "      <td>0.047555</td>\n",
       "    </tr>\n",
       "    <tr>\n",
       "      <th>s2_B2med</th>\n",
       "      <td>0.042444</td>\n",
       "    </tr>\n",
       "    <tr>\n",
       "      <th>s2_B4stddev</th>\n",
       "      <td>0.039590</td>\n",
       "    </tr>\n",
       "    <tr>\n",
       "      <th>l8_B4stddev</th>\n",
       "      <td>0.034765</td>\n",
       "    </tr>\n",
       "    <tr>\n",
       "      <th>s2_B2min</th>\n",
       "      <td>0.033911</td>\n",
       "    </tr>\n",
       "    <tr>\n",
       "      <th>s2_B2max</th>\n",
       "      <td>0.026352</td>\n",
       "    </tr>\n",
       "    <tr>\n",
       "      <th>l8_B5stddev</th>\n",
       "      <td>0.025935</td>\n",
       "    </tr>\n",
       "    <tr>\n",
       "      <th>l8_B3stddev</th>\n",
       "      <td>0.025857</td>\n",
       "    </tr>\n",
       "    <tr>\n",
       "      <th>s2_B2stddev</th>\n",
       "      <td>0.022480</td>\n",
       "    </tr>\n",
       "  </tbody>\n",
       "</table>\n",
       "</div>"
      ],
      "text/plain": [
       "             avg_importance\n",
       "s2_B8stddev        0.057787\n",
       "s2_B3stddev        0.047555\n",
       "s2_B2med           0.042444\n",
       "s2_B4stddev        0.039590\n",
       "l8_B4stddev        0.034765\n",
       "s2_B2min           0.033911\n",
       "s2_B2max           0.026352\n",
       "l8_B5stddev        0.025935\n",
       "l8_B3stddev        0.025857\n",
       "s2_B2stddev        0.022480"
      ]
     },
     "execution_count": 111,
     "metadata": {},
     "output_type": "execute_result"
    }
   ],
   "source": [
    "feature_importance.sort_values(['avg_importance'],ascending=False).iloc[:10,][['avg_importance']]"
   ]
  },
  {
   "cell_type": "code",
   "execution_count": 135,
   "metadata": {},
   "outputs": [
    {
     "name": "stdout",
     "output_type": "stream",
     "text": [
      "2=3=4=5=6=7=8=9=10=11=12=13=14=15=16=17=18=19=20=21=22=23=24=25=26=27=28=29=30=31=32=33=34=35=36=37=38=39=40=41=42=43=44=45=46=47=48=49=50=51=52=53=54=55="
     ]
    }
   ],
   "source": [
    "import warnings\n",
    "warnings.filterwarnings(\"ignore\")\n",
    "n_feat={}\n",
    "for i in range(2,56):\n",
    "    print(i,end='=')\n",
    "    col_used=feature_importance.sort_values(['avg_importance'],ascending=False).iloc[:i,][['avg_importance']].index\n",
    "    dataset2=data_.query('Class_ID<5')\n",
    "    y2=dataset2[['Class_ID']]\n",
    "    X2=dataset2[col_used]\n",
    "    clf = RandomForestClassifier(bootstrap=False, criterion=\"gini\", max_features=0.15000000000000002, min_samples_leaf=6, min_samples_split=3, n_estimators=100)\n",
    "    cv = StratifiedKFold(n_splits=5, random_state=123, shuffle=True)\n",
    "    testacc2 = []\n",
    "    trainacc2 = []\n",
    "    from collections import Counter\n",
    "    for i, (train, test) in enumerate(cv.split(X2, y2)):\n",
    "        clf.fit(X2.iloc[train,:].values, y2.iloc[train,:].values)\n",
    "        testacc2.append(clf.score(X2.iloc[test,:].values, y2.iloc[test,:].values))\n",
    "        trainacc2.append(clf.score(X2.iloc[train,:].values, y2.iloc[train,:].values))\n",
    "    n_feat[i+0]=np.mean(testacc2)"
   ]
  },
  {
   "cell_type": "code",
   "execution_count": 136,
   "metadata": {},
   "outputs": [],
   "source": [
    "import operator"
   ]
  },
  {
   "cell_type": "code",
   "execution_count": 141,
   "metadata": {},
   "outputs": [
    {
     "data": {
      "text/plain": [
       "(4, 0.6647239263803681)"
      ]
     },
     "execution_count": 141,
     "metadata": {},
     "output_type": "execute_result"
    }
   ],
   "source": [
    "max(n_feat.items(), key=operator.itemgetter(1))"
   ]
  },
  {
   "cell_type": "code",
   "execution_count": null,
   "metadata": {},
   "outputs": [],
   "source": []
  }
 ],
 "metadata": {
  "kernelspec": {
   "display_name": "Python 3",
   "language": "python",
   "name": "python3"
  },
  "language_info": {
   "codemirror_mode": {
    "name": "ipython",
    "version": 3
   },
   "file_extension": ".py",
   "mimetype": "text/x-python",
   "name": "python",
   "nbconvert_exporter": "python",
   "pygments_lexer": "ipython3",
   "version": "3.8.5"
  }
 },
 "nbformat": 4,
 "nbformat_minor": 4
}
