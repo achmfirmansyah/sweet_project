{
 "cells": [
  {
   "cell_type": "code",
   "execution_count": 1,
   "metadata": {},
   "outputs": [],
   "source": [
    "import numpy as np\n",
    "import pandas as pd\n",
    "\n",
    "from osgeo import gdal, osr\n",
    "gdal.PushErrorHandler('CPLQuietErrorHandler')\n",
    "gdal.UseExceptions()\n",
    "import sys, os, tqdm\n",
    "from multiprocessing import Pool"
   ]
  },
  {
   "cell_type": "code",
   "execution_count": 2,
   "metadata": {},
   "outputs": [],
   "source": [
    "file_Input1 ='Mandiri/s1_konawe_selatan.tif'\n",
    "file_Input2 ='Mandiri/s2_l8_konawe_selatan.tif'\n",
    "file_location ='Mandiri/regular_points_fin.csv'"
   ]
  },
  {
   "cell_type": "code",
   "execution_count": 3,
   "metadata": {},
   "outputs": [
    {
     "name": "stdout",
     "output_type": "stream",
     "text": [
      "Input Image 1   : Mandiri/s1_konawe_selatan.tif\n",
      "Input Image 2   : Mandiri/s2_l8_konawe_selatan.tif\n"
     ]
    }
   ],
   "source": [
    "print(\"Input Image 1   :\", file_Input1)\n",
    "print(\"Input Image 2   :\", file_Input2)\n",
    "    \n",
    "##File Input 1##\n",
    "ds2 = gdal.Open(file_Input1)\n",
    "ulx, xres, xskew, uly, yskew, yres  = ds2.GetGeoTransform()\n",
    "lrx = ulx + (ds2.RasterXSize * xres)\n",
    "lry = uly + (ds2.RasterYSize * yres)\n",
    "gt = ds2.GetGeoTransform()\n",
    "rows = ds2.RasterYSize\n",
    "cols = ds2.RasterXSize\n",
    "jbands = ds2.RasterCount\n",
    "bands = jbands \n",
    "proj_ref = ds2.GetProjectionRef()\n",
    "training_features = np.zeros((rows*cols,bands),dtype=np.uint16)\n",
    "for band in range(bands):\n",
    "    training_features[:,band]= (ds2.GetRasterBand(jbands-bands+band+1).ReadAsArray().astype(np.uint16)).flatten()"
   ]
  },
  {
   "cell_type": "code",
   "execution_count": 4,
   "metadata": {},
   "outputs": [
    {
     "name": "stdout",
     "output_type": "stream",
     "text": [
      "NData: 3450\n",
      "ulx: 121.96983567966898 0.0001796630568239043\n",
      "uly: -3.979896034763128 -0.0001796630568239043\n",
      "Rows: 3118\n",
      "Cols: 5233\n"
     ]
    }
   ],
   "source": [
    "data_locations = pd.read_csv(file_location)\n",
    "#print (data_locations)\n",
    "ndata = len(data_locations)\n",
    "print (\"NData:\", ndata);\n",
    "print (\"ulx:\", ulx, xres)\n",
    "print (\"uly:\", uly, yres)\n",
    "#data = data_locations.iloc[1,:]\n",
    "print (\"Rows:\",rows)\n",
    "print (\"Cols:\",cols)\n",
    "ds2 = None\n",
    "DNArray = np.zeros((ndata,bands+4),dtype=np.float64)\n",
    "n=0\n",
    "for i in range(ndata):\n",
    "    id = data_locations.iloc[i,0]\n",
    "    idcls = data_locations.iloc[i,2]\n",
    "    lon = data_locations.iloc[i,3]\n",
    "    lat = data_locations.iloc[i,4]\n",
    "    x= (lon-ulx)/xres\n",
    "    y= (lat-uly)/yres\n",
    "    xx = int(x)\n",
    "    yy = int(y)\n",
    "    #print (lon, lat, clsnm, xx,yy)\n",
    "    #DNArray[i,4] = clsnm\n",
    "    xy=0\n",
    "    if(xx>-1)and(xx<cols):\n",
    "        if(yy>-1)and(yy<rows):\n",
    "            xy = (yy*cols)+xx\n",
    "            DNArray[n,0] = id\n",
    "            DNArray[n,1] = idcls\n",
    "            DNArray[n,2] = lon\n",
    "            DNArray[n,3] = lat\n",
    "            DNArray[n,4:] = training_features[xy,:]\n",
    "            n=n+1\n",
    "             #print (DNArray[i,:])\t\t\t \n",
    "       #\n",
    "DNArrayFinal = np.zeros((n,bands+4),dtype=np.float64)\n",
    "DNArrayFinal[0:n,:] = DNArray[0:n,:]\n",
    "       #\n"
   ]
  },
  {
   "cell_type": "code",
   "execution_count": 5,
   "metadata": {},
   "outputs": [],
   "source": [
    "data_1=pd.DataFrame(DNArrayFinal,columns=['id','Class_ID','xcoord','ycoord','S1_VVmin','S1_VHmin','S1_VVmed','S1_VHmed','S1_VVmax','S1_VHmax'])"
   ]
  },
  {
   "cell_type": "code",
   "execution_count": 6,
   "metadata": {},
   "outputs": [],
   "source": [
    "##File Input 2#\n",
    "ds2 = gdal.Open(file_Input2)\n",
    "ulx, xres, xskew, uly, yskew, yres  = ds2.GetGeoTransform()\n",
    "lrx = ulx + (ds2.RasterXSize * xres)\n",
    "lry = uly + (ds2.RasterYSize * yres)\n",
    "gt = ds2.GetGeoTransform()\n",
    "rows = ds2.RasterYSize\n",
    "cols = ds2.RasterXSize\n",
    "jbands = ds2.RasterCount\n",
    "bands = jbands \n",
    "proj_ref = ds2.GetProjectionRef()\n",
    "training_features = np.zeros((rows*cols,bands),dtype=np.uint16)\n",
    "for band in range(bands):\n",
    "    training_features[:,band]= (ds2.GetRasterBand(jbands-bands+band+1).ReadAsArray().astype(np.uint16)).flatten()"
   ]
  },
  {
   "cell_type": "code",
   "execution_count": 7,
   "metadata": {},
   "outputs": [],
   "source": [
    "ds2 = None\n",
    "DNArray = np.zeros((ndata,bands+4),dtype=np.float64)\n",
    "n=0\n",
    "for i in range(ndata):\n",
    "    id = data_locations.iloc[i,0]\n",
    "    idcls = data_locations.iloc[i,2]\n",
    "    lon = data_locations.iloc[i,3]\n",
    "    lat = data_locations.iloc[i,4]\n",
    "    x= (lon-ulx)/xres\n",
    "    y= (lat-uly)/yres\n",
    "    xx = int(x)\n",
    "    yy = int(y)\n",
    "    #print (lon, lat, clsnm, xx,yy)\n",
    "    #DNArray[i,4] = clsnm\n",
    "    xy=0\n",
    "    if(xx>-1)and(xx<cols):\n",
    "        if(yy>-1)and(yy<rows):\n",
    "            xy = (yy*cols)+xx\n",
    "            DNArray[n,0] = id\n",
    "            DNArray[n,1] = idcls\n",
    "            DNArray[n,2] = lon\n",
    "            DNArray[n,3] = lat\n",
    "            DNArray[n,4:] = training_features[xy,:]\n",
    "            n=n+1\n",
    "             #print (DNArray[i,:])\t\t\t \n",
    "       #\n",
    "DNArrayFinal = np.zeros((n,bands+4),dtype=np.float64)\n",
    "DNArrayFinal[0:n,:] = DNArray[0:n,:]\n",
    "       #\n"
   ]
  },
  {
   "cell_type": "code",
   "execution_count": 8,
   "metadata": {},
   "outputs": [],
   "source": [
    "str_1='l8'\n",
    "l8_=[]\n",
    "for i in ['B2','B3','B4','B5','B6']:\n",
    "    for y in ['min','med','max','mean','stddev']:\n",
    "        l8_.append(str_1+'_'+i+y)\n",
    "str_1='s2'\n",
    "s2_=[]\n",
    "for i in ['B2','B3','B4','B8','B11']:\n",
    "    for y in ['min','med','max','mean','stddev']:\n",
    "        s2_.append(str_1+'_'+i+y)\n",
    "col_gab=['id','Class_ID','xcoord','ycoord']+l8_+s2_"
   ]
  },
  {
   "cell_type": "code",
   "execution_count": 9,
   "metadata": {},
   "outputs": [],
   "source": [
    "data_2=pd.DataFrame(DNArrayFinal,columns=col_gab)[l8_+s2_]"
   ]
  },
  {
   "cell_type": "code",
   "execution_count": 10,
   "metadata": {},
   "outputs": [],
   "source": [
    "gab_data_=data_1.merge(data_2,left_index=True,right_index=True)"
   ]
  },
  {
   "cell_type": "code",
   "execution_count": 11,
   "metadata": {},
   "outputs": [],
   "source": [
    "gab_data_.to_csv('Mandiri/data_latihan_train.csv',sep=',',index=False)"
   ]
  }
 ],
 "metadata": {
  "kernelspec": {
   "display_name": "Python 3",
   "language": "python",
   "name": "python3"
  },
  "language_info": {
   "codemirror_mode": {
    "name": "ipython",
    "version": 3
   },
   "file_extension": ".py",
   "mimetype": "text/x-python",
   "name": "python",
   "nbconvert_exporter": "python",
   "pygments_lexer": "ipython3",
   "version": "3.8.5"
  }
 },
 "nbformat": 4,
 "nbformat_minor": 4
}
