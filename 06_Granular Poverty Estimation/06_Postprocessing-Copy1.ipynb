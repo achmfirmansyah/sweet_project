{
 "cells": [
  {
   "cell_type": "code",
   "execution_count": 1,
   "id": "d8691498",
   "metadata": {},
   "outputs": [],
   "source": [
    "import rasterio as rio\n",
    "import rioxarray\n",
    "import numpy as np\n",
    "import pandas as pd\n",
    "import pickle\n",
    "import geopandas as gpd\n",
    "from rasterio.mask import mask\n",
    "from rasterio.plot import show\n",
    "import rioxarray as rxr\n",
    "import xarray as xr\n",
    "import matplotlib.pyplot as plt\n",
    "from matplotlib.colors import ListedColormap, BoundaryNorm\n",
    "import earthpy.plot as ep\n",
    "import seaborn as sns\n",
    "import jenkspy"
   ]
  },
  {
   "cell_type": "code",
   "execution_count": 2,
   "id": "7bf0a732",
   "metadata": {},
   "outputs": [],
   "source": [
    "prediction=pd.read_csv('Result/prediction_.csv',sep=';')"
   ]
  },
  {
   "cell_type": "code",
   "execution_count": 3,
   "id": "d94dedc4",
   "metadata": {},
   "outputs": [],
   "source": [
    "gpd_grid=gpd.read_file('Result/zonal_stat_grid_L8.gpkg',sep=';')"
   ]
  },
  {
   "cell_type": "code",
   "execution_count": 4,
   "id": "efc28495",
   "metadata": {},
   "outputs": [],
   "source": [
    "merged_pov=gpd_grid[['geometry']].merge(prediction[['pov_prediction_enet',\n",
    "                                                    'pov_prediction_ridge']],left_index=True,right_index=True)"
   ]
  },
  {
   "cell_type": "code",
   "execution_count": 5,
   "id": "b9b3c6d2",
   "metadata": {},
   "outputs": [],
   "source": [
    "data=rio.open('Data/celebes_gcs_converted_L8.tif')\n",
    "data_ntl=data.read()\n",
    "df=pd.DataFrame(data_ntl[0].ravel())"
   ]
  },
  {
   "cell_type": "code",
   "execution_count": 6,
   "id": "590c3c7a",
   "metadata": {},
   "outputs": [],
   "source": [
    "rds = rioxarray.open_rasterio(\n",
    "    \"Data/celebes_gcs_converted_L8.tif\",\n",
    ")\n",
    "rds=rds.to_dataframe('band_value').reset_index()"
   ]
  },
  {
   "cell_type": "code",
   "execution_count": 7,
   "id": "89bf8b01",
   "metadata": {},
   "outputs": [],
   "source": [
    "rds_gdf=gpd.GeoDataFrame(rds,geometry=gpd.points_from_xy(rds.x,rds.y))"
   ]
  },
  {
   "cell_type": "code",
   "execution_count": 8,
   "id": "f352f424",
   "metadata": {},
   "outputs": [
    {
     "name": "stderr",
     "output_type": "stream",
     "text": [
      "/tmp/ipykernel_16000/1962802299.py:1: UserWarning: CRS mismatch between the CRS of left geometries and the CRS of right geometries.\n",
      "Use `to_crs()` to reproject one of the input geometries to match the CRS of the other.\n",
      "\n",
      "Left CRS: None\n",
      "Right CRS: GEOGCS[\"Undefined geographic SRS\",DATUM[\"unknown\", ...\n",
      "\n",
      "  merged_=gpd.sjoin(rds_gdf,merged_pov,op='intersects',how='left')\n"
     ]
    }
   ],
   "source": [
    "merged_=gpd.sjoin(rds_gdf,merged_pov,op='intersects',how='left')"
   ]
  },
  {
   "cell_type": "code",
   "execution_count": 9,
   "id": "c932bde3",
   "metadata": {},
   "outputs": [
    {
     "data": {
      "text/html": [
       "<div>\n",
       "<style scoped>\n",
       "    .dataframe tbody tr th:only-of-type {\n",
       "        vertical-align: middle;\n",
       "    }\n",
       "\n",
       "    .dataframe tbody tr th {\n",
       "        vertical-align: top;\n",
       "    }\n",
       "\n",
       "    .dataframe thead th {\n",
       "        text-align: right;\n",
       "    }\n",
       "</style>\n",
       "<table border=\"1\" class=\"dataframe\">\n",
       "  <thead>\n",
       "    <tr style=\"text-align: right;\">\n",
       "      <th></th>\n",
       "      <th>band</th>\n",
       "      <th>y</th>\n",
       "      <th>x</th>\n",
       "      <th>spatial_ref</th>\n",
       "      <th>band_value</th>\n",
       "      <th>index_right</th>\n",
       "      <th>pov_prediction_enet</th>\n",
       "      <th>pov_prediction_ridge</th>\n",
       "    </tr>\n",
       "  </thead>\n",
       "  <tbody>\n",
       "    <tr>\n",
       "      <th>count</th>\n",
       "      <td>112420.0</td>\n",
       "      <td>112420.000000</td>\n",
       "      <td>112420.000000</td>\n",
       "      <td>112420.0</td>\n",
       "      <td>112420.000</td>\n",
       "      <td>12690.000000</td>\n",
       "      <td>12690.000000</td>\n",
       "      <td>12690.000000</td>\n",
       "    </tr>\n",
       "    <tr>\n",
       "      <th>mean</th>\n",
       "      <td>1.0</td>\n",
       "      <td>-1.090072</td>\n",
       "      <td>122.086585</td>\n",
       "      <td>0.0</td>\n",
       "      <td>826501.875</td>\n",
       "      <td>6344.500000</td>\n",
       "      <td>13.494745</td>\n",
       "      <td>13.456740</td>\n",
       "    </tr>\n",
       "    <tr>\n",
       "      <th>std</th>\n",
       "      <td>0.0</td>\n",
       "      <td>3.842783</td>\n",
       "      <td>2.914519</td>\n",
       "      <td>0.0</td>\n",
       "      <td>2316748.000</td>\n",
       "      <td>3663.431793</td>\n",
       "      <td>6.859813</td>\n",
       "      <td>4.532645</td>\n",
       "    </tr>\n",
       "    <tr>\n",
       "      <th>min</th>\n",
       "      <td>1.0</td>\n",
       "      <td>-7.728672</td>\n",
       "      <td>117.055771</td>\n",
       "      <td>0.0</td>\n",
       "      <td>255.000</td>\n",
       "      <td>0.000000</td>\n",
       "      <td>-23.545923</td>\n",
       "      <td>-6.006341</td>\n",
       "    </tr>\n",
       "    <tr>\n",
       "      <th>25%</th>\n",
       "      <td>1.0</td>\n",
       "      <td>-4.409372</td>\n",
       "      <td>119.571178</td>\n",
       "      <td>0.0</td>\n",
       "      <td>255.000</td>\n",
       "      <td>3172.250000</td>\n",
       "      <td>9.460158</td>\n",
       "      <td>10.794343</td>\n",
       "    </tr>\n",
       "    <tr>\n",
       "      <th>50%</th>\n",
       "      <td>1.0</td>\n",
       "      <td>-1.090072</td>\n",
       "      <td>122.086585</td>\n",
       "      <td>0.0</td>\n",
       "      <td>255.000</td>\n",
       "      <td>6344.500000</td>\n",
       "      <td>13.778422</td>\n",
       "      <td>13.773853</td>\n",
       "    </tr>\n",
       "    <tr>\n",
       "      <th>75%</th>\n",
       "      <td>1.0</td>\n",
       "      <td>2.229228</td>\n",
       "      <td>124.601992</td>\n",
       "      <td>0.0</td>\n",
       "      <td>255.000</td>\n",
       "      <td>9516.750000</td>\n",
       "      <td>17.967926</td>\n",
       "      <td>16.428301</td>\n",
       "    </tr>\n",
       "    <tr>\n",
       "      <th>max</th>\n",
       "      <td>1.0</td>\n",
       "      <td>5.548528</td>\n",
       "      <td>127.117399</td>\n",
       "      <td>0.0</td>\n",
       "      <td>7606050.000</td>\n",
       "      <td>12689.000000</td>\n",
       "      <td>40.352354</td>\n",
       "      <td>30.558378</td>\n",
       "    </tr>\n",
       "  </tbody>\n",
       "</table>\n",
       "</div>"
      ],
      "text/plain": [
       "           band              y              x  spatial_ref   band_value  \\\n",
       "count  112420.0  112420.000000  112420.000000     112420.0   112420.000   \n",
       "mean        1.0      -1.090072     122.086585          0.0   826501.875   \n",
       "std         0.0       3.842783       2.914519          0.0  2316748.000   \n",
       "min         1.0      -7.728672     117.055771          0.0      255.000   \n",
       "25%         1.0      -4.409372     119.571178          0.0      255.000   \n",
       "50%         1.0      -1.090072     122.086585          0.0      255.000   \n",
       "75%         1.0       2.229228     124.601992          0.0      255.000   \n",
       "max         1.0       5.548528     127.117399          0.0  7606050.000   \n",
       "\n",
       "        index_right  pov_prediction_enet  pov_prediction_ridge  \n",
       "count  12690.000000         12690.000000          12690.000000  \n",
       "mean    6344.500000            13.494745             13.456740  \n",
       "std     3663.431793             6.859813              4.532645  \n",
       "min        0.000000           -23.545923             -6.006341  \n",
       "25%     3172.250000             9.460158             10.794343  \n",
       "50%     6344.500000            13.778422             13.773853  \n",
       "75%     9516.750000            17.967926             16.428301  \n",
       "max    12689.000000            40.352354             30.558378  "
      ]
     },
     "execution_count": 9,
     "metadata": {},
     "output_type": "execute_result"
    }
   ],
   "source": [
    "merged_.describe()"
   ]
  },
  {
   "cell_type": "code",
   "execution_count": 10,
   "id": "71b270df",
   "metadata": {},
   "outputs": [],
   "source": [
    "merged_.loc[(~merged_.pov_prediction_ridge.isnull())& \n",
    "            (merged_.pov_prediction_ridge<0),'pov_prediction_ridge']=0"
   ]
  },
  {
   "cell_type": "code",
   "execution_count": 11,
   "id": "6a39c95c",
   "metadata": {},
   "outputs": [
    {
     "data": {
      "text/html": [
       "<div>\n",
       "<style scoped>\n",
       "    .dataframe tbody tr th:only-of-type {\n",
       "        vertical-align: middle;\n",
       "    }\n",
       "\n",
       "    .dataframe tbody tr th {\n",
       "        vertical-align: top;\n",
       "    }\n",
       "\n",
       "    .dataframe thead th {\n",
       "        text-align: right;\n",
       "    }\n",
       "</style>\n",
       "<table border=\"1\" class=\"dataframe\">\n",
       "  <thead>\n",
       "    <tr style=\"text-align: right;\">\n",
       "      <th></th>\n",
       "      <th>band</th>\n",
       "      <th>y</th>\n",
       "      <th>x</th>\n",
       "      <th>spatial_ref</th>\n",
       "      <th>band_value</th>\n",
       "      <th>index_right</th>\n",
       "      <th>pov_prediction_enet</th>\n",
       "      <th>pov_prediction_ridge</th>\n",
       "    </tr>\n",
       "  </thead>\n",
       "  <tbody>\n",
       "    <tr>\n",
       "      <th>count</th>\n",
       "      <td>112420.0</td>\n",
       "      <td>112420.000000</td>\n",
       "      <td>112420.000000</td>\n",
       "      <td>112420.0</td>\n",
       "      <td>112420.000</td>\n",
       "      <td>12690.000000</td>\n",
       "      <td>12690.000000</td>\n",
       "      <td>12690.000000</td>\n",
       "    </tr>\n",
       "    <tr>\n",
       "      <th>mean</th>\n",
       "      <td>1.0</td>\n",
       "      <td>-1.090072</td>\n",
       "      <td>122.086585</td>\n",
       "      <td>0.0</td>\n",
       "      <td>826501.875</td>\n",
       "      <td>6344.500000</td>\n",
       "      <td>13.494745</td>\n",
       "      <td>13.466393</td>\n",
       "    </tr>\n",
       "    <tr>\n",
       "      <th>std</th>\n",
       "      <td>0.0</td>\n",
       "      <td>3.842783</td>\n",
       "      <td>2.914519</td>\n",
       "      <td>0.0</td>\n",
       "      <td>2316748.000</td>\n",
       "      <td>3663.431793</td>\n",
       "      <td>6.859813</td>\n",
       "      <td>4.500563</td>\n",
       "    </tr>\n",
       "    <tr>\n",
       "      <th>min</th>\n",
       "      <td>1.0</td>\n",
       "      <td>-7.728672</td>\n",
       "      <td>117.055771</td>\n",
       "      <td>0.0</td>\n",
       "      <td>255.000</td>\n",
       "      <td>0.000000</td>\n",
       "      <td>-23.545923</td>\n",
       "      <td>0.000000</td>\n",
       "    </tr>\n",
       "    <tr>\n",
       "      <th>25%</th>\n",
       "      <td>1.0</td>\n",
       "      <td>-4.409372</td>\n",
       "      <td>119.571178</td>\n",
       "      <td>0.0</td>\n",
       "      <td>255.000</td>\n",
       "      <td>3172.250000</td>\n",
       "      <td>9.460158</td>\n",
       "      <td>10.794343</td>\n",
       "    </tr>\n",
       "    <tr>\n",
       "      <th>50%</th>\n",
       "      <td>1.0</td>\n",
       "      <td>-1.090072</td>\n",
       "      <td>122.086585</td>\n",
       "      <td>0.0</td>\n",
       "      <td>255.000</td>\n",
       "      <td>6344.500000</td>\n",
       "      <td>13.778422</td>\n",
       "      <td>13.773853</td>\n",
       "    </tr>\n",
       "    <tr>\n",
       "      <th>75%</th>\n",
       "      <td>1.0</td>\n",
       "      <td>2.229228</td>\n",
       "      <td>124.601992</td>\n",
       "      <td>0.0</td>\n",
       "      <td>255.000</td>\n",
       "      <td>9516.750000</td>\n",
       "      <td>17.967926</td>\n",
       "      <td>16.428301</td>\n",
       "    </tr>\n",
       "    <tr>\n",
       "      <th>max</th>\n",
       "      <td>1.0</td>\n",
       "      <td>5.548528</td>\n",
       "      <td>127.117399</td>\n",
       "      <td>0.0</td>\n",
       "      <td>7606050.000</td>\n",
       "      <td>12689.000000</td>\n",
       "      <td>40.352354</td>\n",
       "      <td>30.558378</td>\n",
       "    </tr>\n",
       "  </tbody>\n",
       "</table>\n",
       "</div>"
      ],
      "text/plain": [
       "           band              y              x  spatial_ref   band_value  \\\n",
       "count  112420.0  112420.000000  112420.000000     112420.0   112420.000   \n",
       "mean        1.0      -1.090072     122.086585          0.0   826501.875   \n",
       "std         0.0       3.842783       2.914519          0.0  2316748.000   \n",
       "min         1.0      -7.728672     117.055771          0.0      255.000   \n",
       "25%         1.0      -4.409372     119.571178          0.0      255.000   \n",
       "50%         1.0      -1.090072     122.086585          0.0      255.000   \n",
       "75%         1.0       2.229228     124.601992          0.0      255.000   \n",
       "max         1.0       5.548528     127.117399          0.0  7606050.000   \n",
       "\n",
       "        index_right  pov_prediction_enet  pov_prediction_ridge  \n",
       "count  12690.000000         12690.000000          12690.000000  \n",
       "mean    6344.500000            13.494745             13.466393  \n",
       "std     3663.431793             6.859813              4.500563  \n",
       "min        0.000000           -23.545923              0.000000  \n",
       "25%     3172.250000             9.460158             10.794343  \n",
       "50%     6344.500000            13.778422             13.773853  \n",
       "75%     9516.750000            17.967926             16.428301  \n",
       "max    12689.000000            40.352354             30.558378  "
      ]
     },
     "execution_count": 11,
     "metadata": {},
     "output_type": "execute_result"
    }
   ],
   "source": [
    "merged_.describe()"
   ]
  },
  {
   "cell_type": "code",
   "execution_count": 12,
   "id": "ff5e9bd8",
   "metadata": {},
   "outputs": [],
   "source": [
    "np_data=merged_.pov_prediction_ridge.to_numpy().reshape(data_ntl[0].shape)"
   ]
  },
  {
   "cell_type": "code",
   "execution_count": 13,
   "id": "47f8571f",
   "metadata": {},
   "outputs": [],
   "source": [
    "temp_ = rio.open('Data/celebes_gcs_converted_L8.tif')\n",
    "temp = temp_.read(1)\n",
    "profile = temp_.profile\n",
    "profile.update(\n",
    "    dtype=rio.float32,\n",
    "    count=1,\n",
    "    compress='lzw')\n",
    "with rio.open('Result/celebes_predicted_ridge.tif','w',**profile) as dst2:\n",
    "    dst2.write(np_data,1)\n",
    "    dst2.close()"
   ]
  },
  {
   "cell_type": "code",
   "execution_count": 14,
   "id": "36ce3762",
   "metadata": {},
   "outputs": [
    {
     "name": "stdout",
     "output_type": "stream",
     "text": [
      "0.0 30.558378\n"
     ]
    }
   ],
   "source": [
    "data_=rxr.open_rasterio('Result/celebes_predicted_ridge.tif', masked=True).squeeze()\n",
    "data_min_value = np.nanmin(data_)\n",
    "data_max_value = np.nanmax(data_)\n",
    "print(data_min_value, data_max_value)"
   ]
  },
  {
   "cell_type": "code",
   "execution_count": 15,
   "id": "9d2fbf73",
   "metadata": {},
   "outputs": [],
   "source": [
    "data_pov=data_.to_dataframe('pov_prediction').reset_index()"
   ]
  },
  {
   "cell_type": "code",
   "execution_count": 16,
   "id": "0404d9f0",
   "metadata": {},
   "outputs": [
    {
     "data": {
      "text/plain": [
       "<AxesSubplot:xlabel='pov_prediction', ylabel='Count'>"
      ]
     },
     "execution_count": 16,
     "metadata": {},
     "output_type": "execute_result"
    },
    {
     "data": {
      "image/png": "[encoded data removed]",
      "text/plain": [
       "<Figure size 432x288 with 1 Axes>"
      ]
     },
     "metadata": {
      "needs_background": "light"
     },
     "output_type": "display_data"
    }
   ],
   "source": [
    "sns.histplot(data=data_pov,x='pov_prediction')"
   ]
  },
  {
   "cell_type": "code",
   "execution_count": 18,
   "id": "97e657be",
   "metadata": {},
   "outputs": [],
   "source": [
    "class_bins = [0, 5,10,15,20,40]\n",
    "pre_data_class = xr.apply_ufunc(np.digitize,\n",
    "                                     data_,\n",
    "                                     class_bins)\n",
    "pre_data_class_mask = pre_data_class.where(pre_data_class != 6)"
   ]
  },
  {
   "cell_type": "code",
   "execution_count": 19,
   "id": "6d8d4ac5",
   "metadata": {},
   "outputs": [
    {
     "data": {
      "image/png": "[encoded data removed]",
      "text/plain": [
       "<Figure size 720x864 with 1 Axes>"
      ]
     },
     "metadata": {
      "needs_background": "light"
     },
     "output_type": "display_data"
    }
   ],
   "source": [
    "# Create a list of labels to use for your legend\n",
    "labels =[\"<5 %\",\"5-10 %\",\"10-15 %\",\n",
    "          \"15-20 %\",\">20%\"]\n",
    "\n",
    "# Create a colormap from a list of colors\n",
    "colors =[ '#009432','#C4E538','#ffdd59',\n",
    "          '#EE5A24','#c62828']\n",
    "cmaps = ListedColormap(colors)\n",
    "\n",
    "class_bins = [0.5, 1.5,2.5,3.5,4.5,5.5]\n",
    "norm = BoundaryNorm(class_bins,len(colors))\n",
    "\n",
    "# Plot newly classified and masked raster\n",
    "f, ax = plt.subplots(figsize=(10, 12))\n",
    "im = pre_data_class_mask.plot.imshow(cmap=cmaps,\n",
    "                                      norm=norm,\n",
    "                                      add_colorbar=False)\n",
    "# Add legend using earthpy\n",
    "ep.draw_legend(im,\n",
    "               titles=labels)\n",
    "ax.set(title=\"Poverty Percentage - 2015 CELEBES\")\n",
    "ax.set_axis_off()\n",
    "plt.show()"
   ]
  },
  {
   "cell_type": "code",
   "execution_count": 18,
   "id": "1de3f7ca",
   "metadata": {},
   "outputs": [
    {
     "data": {
      "text/plain": [
       "<AxesSubplot:xlabel='pov_prediction', ylabel='Count'>"
      ]
     },
     "execution_count": 18,
     "metadata": {},
     "output_type": "execute_result"
    },
    {
     "data": {
      "image/png": "[encoded data removed]",
      "text/plain": [
       "<Figure size 432x288 with 1 Axes>"
      ]
     },
     "metadata": {
      "needs_background": "light"
     },
     "output_type": "display_data"
    }
   ],
   "source": [
    "sns.histplot(data=data_pov,x='pov_prediction')"
   ]
  },
  {
   "cell_type": "code",
   "execution_count": 24,
   "id": "3508ad2e",
   "metadata": {},
   "outputs": [],
   "source": [
    "ypov_=data_pov.copy().dropna()"
   ]
  },
  {
   "cell_type": "code",
   "execution_count": 29,
   "id": "ec7f3a76",
   "metadata": {},
   "outputs": [],
   "source": [
    "jenks_scale=jenkspy.jenks_breaks(list(ypov_['pov_prediction']), 5)"
   ]
  },
  {
   "cell_type": "code",
   "execution_count": 30,
   "id": "b8dc2cbe",
   "metadata": {},
   "outputs": [
    {
     "data": {
      "text/plain": [
       "[0.0,\n",
       " 6.770161151885986,\n",
       " 11.277471542358398,\n",
       " 14.8125,\n",
       " 18.632051467895508,\n",
       " 30.558378219604492]"
      ]
     },
     "execution_count": 30,
     "metadata": {},
     "output_type": "execute_result"
    }
   ],
   "source": [
    "jenks_scale"
   ]
  },
  {
   "cell_type": "code",
   "execution_count": 31,
   "id": "51caa6b1",
   "metadata": {},
   "outputs": [],
   "source": [
    "class_bins = jenks_scale\n",
    "pre_data_class = xr.apply_ufunc(np.digitize,\n",
    "                                     data_,\n",
    "                                     class_bins)\n",
    "pre_data_class_mask = pre_data_class.where(pre_data_class != 6)"
   ]
  },
  {
   "cell_type": "code",
   "execution_count": 32,
   "id": "d06ea237",
   "metadata": {
    "scrolled": false
   },
   "outputs": [
    {
     "data": {
      "image/png": "[encoded data removed]",
      "text/plain": [
       "<Figure size 720x864 with 1 Axes>"
      ]
     },
     "metadata": {
      "needs_background": "light"
     },
     "output_type": "display_data"
    }
   ],
   "source": [
    "# Create a list of labels to use for your legend\n",
    "labels =[\"<6.77 %\",\"6.77-11.27 %\",\"11.27-14.81 %\",\n",
    "          \"14.81-18.63 %\",\">18.63%\"]\n",
    "\n",
    "# Create a colormap from a list of colors\n",
    "colors =[ '#009432','#C4E538','#ffdd59',\n",
    "          '#EE5A24','#c62828']\n",
    "cmaps = ListedColormap(colors)\n",
    "\n",
    "class_bins = [0.5, 1.5,2.5,3.5,4.5,5.5]\n",
    "norm = BoundaryNorm(class_bins,len(colors))\n",
    "\n",
    "# Plot newly classified and masked raster\n",
    "f, ax = plt.subplots(figsize=(10, 12))\n",
    "im = pre_data_class_mask.plot.imshow(cmap=cmaps,\n",
    "                                      norm=norm,\n",
    "                                      add_colorbar=False)\n",
    "# Add legend using earthpy\n",
    "ep.draw_legend(im,\n",
    "               titles=labels)\n",
    "ax.set(title=\"Poverty Percentage - 2015 CELEBES\")\n",
    "ax.set_axis_off()\n",
    "plt.show()"
   ]
  }
 ],
 "metadata": {
  "kernelspec": {
   "display_name": "Python 3 (ipykernel)",
   "language": "python",
   "name": "python3"
  },
  "language_info": {
   "codemirror_mode": {
    "name": "ipython",
    "version": 3
   },
   "file_extension": ".py",
   "mimetype": "text/x-python",
   "name": "python",
   "nbconvert_exporter": "python",
   "pygments_lexer": "ipython3",
   "version": "3.8.10"
  }
 },
 "nbformat": 4,
 "nbformat_minor": 5
}
