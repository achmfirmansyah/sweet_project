{
  "nbformat": 4,
  "nbformat_minor": 0,
  "metadata": {
    "colab": {
      "name": "01_Preparing data using GEE.ipynb",
      "provenance": [],
      "authorship_tag": "ABX9TyPL+CyO5XrCbQTt6Cl9drWr",
      "include_colab_link": true
    },
    "kernelspec": {
      "name": "python3",
      "display_name": "Python 3"
    }
  },
  "cells": [
    {
      "cell_type": "markdown",
      "metadata": {
        "id": "view-in-github",
        "colab_type": "text"
      },
      "source": [
        "<a href=\"https://colab.research.google.com/github/achmfirmansyah/sweet_project/blob/master/Geopython-PythonMachineLearning2020/01_Preparing_data_using_GEE.ipynb\" target=\"_parent\"><img src=\"https://colab.research.google.com/assets/colab-badge.svg\" alt=\"Open In Colab\"/></a>"
      ]
    },
    {
      "cell_type": "markdown",
      "metadata": {
        "id": "bsK8WWmzCvQw",
        "colab_type": "text"
      },
      "source": [
        "# Preparing the data using Google Earth Engine\n",
        "\n",
        "Importing the Google Earth Engine Python API and aunthenticate\n"
      ]
    },
    {
      "cell_type": "code",
      "metadata": {
        "id": "zUVaw5l1C1BB",
        "colab_type": "code",
        "colab": {
          "base_uri": "https://localhost:8080/",
          "height": 270
        },
        "outputId": "60bd6dec-a6eb-4e03-ccf2-c76c41f0ddf6"
      },
      "source": [
        "import ee\n",
        "!earthengine authenticate"
      ],
      "execution_count": 2,
      "outputs": [
        {
          "output_type": "stream",
          "text": [
            "WARNING:tensorflow:From /usr/local/lib/python3.6/dist-packages/tensorflow/python/compat/v2_compat.py:96: disable_resource_variables (from tensorflow.python.ops.variable_scope) is deprecated and will be removed in a future version.\n",
            "Instructions for updating:\n",
            "non-resource variables are not supported in the long term\n",
            "Running command using Cloud API.  Set --no-use_cloud_api to go back to using the API\n",
            "\n",
            "To authorize access needed by Earth Engine, open the following URL in a web browser and follow the instructions. If the web browser does not start automatically, please manually browse the URL below.\n",
            "\n",
            "    https://accounts.google.com/o/oauth2/auth?client_id=517222506229-vsmmajv00ul0bs7p89v5m89qs8eb9359.apps.googleusercontent.com&scope=https%3A%2F%2Fwww.googleapis.com%2Fauth%2Fearthengine+https%3A%2F%2Fwww.googleapis.com%2Fauth%2Fdevstorage.full_control&redirect_uri=urn%3Aietf%3Awg%3Aoauth%3A2.0%3Aoob&response_type=code&code_challenge=xEtqX5svsQJ3G-3ZZ5-i0l72lZAr8pruAK5xRKGwzr0&code_challenge_method=S256\n",
            "\n",
            "The authorization workflow will generate a code, which you should paste in the box below. \n",
            "Enter verification code: 4/4QGvMuSB-2nE7X_ADfKG4Ed66SxpdtfH3kuwb-n-NpCBrgAE_1tm7AU\n",
            "\n",
            "Successfully saved authorization token.\n"
          ],
          "name": "stdout"
        }
      ]
    },
    {
      "cell_type": "code",
      "metadata": {
        "id": "7ljHCMufDaFz",
        "colab_type": "code",
        "colab": {}
      },
      "source": [
        "ee.Initialize()"
      ],
      "execution_count": 3,
      "outputs": []
    },
    {
      "cell_type": "markdown",
      "metadata": {
        "id": "F1FHj-clDtbH",
        "colab_type": "text"
      },
      "source": [
        "## Mosaic the reference imagery\n",
        "<p>For built up references, i use the Global Human Settlement Layer (you can download the data from this link https://ghsl.jrc.ec.europa.eu/datasets.php). After you download the Tiff data, upload the tiff to your asset so you can combine the reference dataset with other public imagery provided by Google Earth Engine. You can follow step in this link for uploading the imagery: https://developers.google.com/earth-engine/guides/image_upload  <p>\n",
        "\n",
        "<p>Unfortunately the data is clipped by several region, so first i do the mosaic of the imagery into one Tiff.</p>\n"
      ]
    },
    {
      "cell_type": "code",
      "metadata": {
        "id": "Yojg_T7qB0YP",
        "colab_type": "code",
        "colab": {}
      },
      "source": [
        "# Call all the image dataset you download\n",
        "image1=ee.Image('users/achmfirmansyah/GHSL_30/GHS_BUILT_LDSMT_GLOBE_R2018A_3857_30_V2_0_20_11')\n",
        "image2=ee.Image('users/achmfirmansyah/GHSL_30/GHS_BUILT_LDSMT_GLOBE_R2018A_3857_30_V2_0_21_11')\n",
        "image3=ee.Image('users/achmfirmansyah/GHSL_30/GHS_BUILT_LDSMT_GLOBE_R2018A_3857_30_V2_0_21_12')\n",
        "image4=ee.Image('users/achmfirmansyah/GHSL_30/GHS_BUILT_LDSMT_GLOBE_R2018A_3857_30_V2_0_22_11')\n",
        "image5=ee.Image('users/achmfirmansyah/GHSL_30/GHS_BUILT_LDSMT_GLOBE_R2018A_3857_30_V2_0_22_11')\n",
        "\n",
        "# Here i mosaic the data into one and rename the band names into BU_class\n",
        "GHSL_mosaic=ee.ImageCollection([image1,image2,image3,image4,image5]).mosaic().select('b1').rename('BU_class')"
      ],
      "execution_count": 4,
      "outputs": []
    },
    {
      "cell_type": "markdown",
      "metadata": {
        "id": "JDrexr5FGKoW",
        "colab_type": "text"
      },
      "source": [
        "## Define the geometry boundary\n",
        "\n",
        "<p>The geometry boundary is used here for clipping the imagery into one specific boundary for the analysis. This step is used for focusing the analysis and reduce the size of imagery.</p>\n"
      ]
    },
    {
      "cell_type": "code",
      "metadata": {
        "id": "UvAKb6VLF-uN",
        "colab_type": "code",
        "colab": {}
      },
      "source": [
        "# Here i define the geometry boundary of my study area.\n",
        "jabodetabek=[[106.347,-5.906],[107.300,-6.823]]"
      ],
      "execution_count": 5,
      "outputs": []
    },
    {
      "cell_type": "markdown",
      "metadata": {
        "id": "NY2GYGoHHCsK",
        "colab_type": "text"
      },
      "source": [
        "## Process the public imagery used as classification feature\n",
        "This section is about how i download the public imagery for my research, get the median composite value, and calculate the indices.\n",
        "The public imagery i used is Landsat 8 and VIIRS. Landsat 8 is used for reflect the surface characteristics and VIIRS is used for reflect human behavior. From Landsat 8, i calculate the NDVI (Normalized Difference of Vegetation Index), MNDWI (Modified Normalized Differnces of  Watery Index), NDBI (Normalized Difference of Built Index), SAVI (Soil Adjusted Vegetation Index). And i used the Avg-Radiance value from VIIRS DNB imagery.\n"
      ]
    },
    {
      "cell_type": "code",
      "metadata": {
        "id": "2Zgj8N9PINND",
        "colab_type": "code",
        "colab": {}
      },
      "source": [
        "# Landsat 8\n",
        "landsat_8_2014=ee.ImageCollection('LANDSAT/LC08/C01/T1_TOA').filterDate('2014-01-01', '2014-12-31').select(['B4','B5','B6','B3']).reduce(ee.Reducer.median())\n",
        "# Calculate in indices\n",
        "ndvi_landsat_8=landsat_8_2014.normalizedDifference(['B5_median','B4_median']).rename('NDVI_landsat_8')\n",
        "ndbi_landsat_8=landsat_8_2014.normalizedDifference(['B6_median','B5_median']).rename('NDBI_landsat_8')\n",
        "mndwi_landsat_8=landsat_8_2014.normalizedDifference(['B3_median','B6_median']).rename('MNDWI_landsat_8')\n",
        "savi_landsat_8=landsat_8_2014.select('B5_median').subtract(landsat_8_2014.select('B4_median')).divide(landsat_8_2014.select('B5_median').add(landsat_8_2014.select('B4_median')).add(0.5)).multiply(1.5).rename('SAVI_landsat_8')\n",
        "landsat_8_oke=ee.Image.cat(ndvi_landsat_8,ndbi_landsat_8,mndwi_landsat_8,savi_landsat_8).toDouble()\n",
        "# VIIRS\n",
        "viirs_2014=ee.ImageCollection(\"NOAA/VIIRS/DNB/MONTHLY_V1/VCMSLCFG\").filterDate('2014-01-01','2014-12-31')\n",
        "viirs_2014=viirs_2014.select('avg_rad')\n",
        "median_viirs_2014=viirs_2014.reduce(ee.Reducer.median())"
      ],
      "execution_count": 9,
      "outputs": []
    },
    {
      "cell_type": "markdown",
      "metadata": {
        "id": "WDz0IFTLKL1L",
        "colab_type": "text"
      },
      "source": [
        "### Combine the imagery from references class and the classification feature\n",
        "For combine the data, both of imagery must be in same projection. After all of the projection of the imagery is same, we can combine the data "
      ]
    },
    {
      "cell_type": "code",
      "metadata": {
        "id": "Tin6v_syKE-k",
        "colab_type": "code",
        "colab": {}
      },
      "source": [
        "# get the projection\n",
        "project1=median_viirs_2014.projection();\n",
        "# project\n",
        "GHSL_mosaic=GHSL_mosaic.reproject(crs=project1,scale=50).reduceResolution(reducer= ee.Reducer.mean(),maxPixels= 1024)\n",
        "landsat_oke=landsat_8_oke.reproject(crs=project1,scale=50).reduceResolution(reducer= ee.Reducer.mean(),maxPixels= 1024)\n",
        "image_compiled=ee.Image.cat(GHSL_mosaic,landsat_oke,median_viirs_2014).toDouble()"
      ],
      "execution_count": 10,
      "outputs": []
    },
    {
      "cell_type": "markdown",
      "metadata": {
        "id": "e1WzgoKvMDsK",
        "colab_type": "text"
      },
      "source": [
        "### Export the imagery to the drive for next Classification"
      ]
    },
    {
      "cell_type": "code",
      "metadata": {
        "id": "hjca3WKfMCqR",
        "colab_type": "code",
        "colab": {}
      },
      "source": [
        "ee.batch.Export.image.toDrive(\n",
        "    image=image_compiled,\n",
        "    description='compiled_GHSL_30_2014_',\n",
        "    folder= 'GeoPythonML_',\n",
        "    scale=30,\n",
        "    crs='EPSG:4326',\n",
        "    region=jabodetabek,\n",
        "    fileFormat='GEO_TIFF').start()"
      ],
      "execution_count": 11,
      "outputs": []
    }
  ]
}