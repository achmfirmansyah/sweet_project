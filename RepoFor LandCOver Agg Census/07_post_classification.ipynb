{
 "cells": [
  {
   "cell_type": "code",
   "execution_count": 27,
   "id": "945d684b-7e66-4132-9acd-bc1db1445e72",
   "metadata": {},
   "outputs": [],
   "source": [
    "import geopandas as gpd\n",
    "import pandas as pd\n",
    "import numpy as np\n",
    "\n",
    "from skimage.io import imread\n",
    "from skimage.morphology import square\n",
    "from skimage.filters.rank import majority\n",
    "from rasterio.mask import mask\n",
    "import rasterio as rio\n",
    "\n",
    "from osgeo import gdal, ogr, osr\n",
    "gdal.PushErrorHandler('CPLQuietErrorHandler')\n",
    "gdal.UseExceptions()\n",
    "\n",
    "from tqdm.notebook import tqdm\n",
    "\n",
    "from concurrent.futures import ThreadPoolExecutor, as_completed\n",
    "import glob\n",
    "import os"
   ]
  },
  {
   "cell_type": "code",
   "execution_count": 28,
   "id": "265c0731-27ce-45aa-aae3-da6141cf4103",
   "metadata": {},
   "outputs": [],
   "source": [
    "ls_folder_result=['E_Wida','G_Muhlis','H_Andi','I_Stefanus','J_Fawcet','L_Linda']"
   ]
  },
  {
   "cell_type": "code",
   "execution_count": 29,
   "id": "2868d58d-783a-45e8-96bd-f5e88a8f9c28",
   "metadata": {},
   "outputs": [],
   "source": [
    "daratan_ref=gpd.read_file('../shared_pemetaan/google-cloud/vector_references/daratan_bts.gpkg').to_crs('EPSG:3857')\n",
    "sawit_ref=gpd.read_file('../shared_pemetaan/google-cloud/vector_references/sawit.gpkg').to_crs('EPSG:3857')\n",
    "hutan_ref=gpd.read_file('../shared_pemetaan/google-cloud/vector_references/hutan.gpkg').to_crs('EPSG:3857')\n",
    "tambak_ref=gpd.read_file('../shared_pemetaan/google-cloud/vector_references/tambak.gpkg').to_crs('EPSG:3857')"
   ]
  },
  {
   "cell_type": "code",
   "execution_count": 30,
   "id": "263cbfe9-0547-4473-aea2-dd88e3430075",
   "metadata": {},
   "outputs": [],
   "source": [
    "def post_class(i,folder_loc):\n",
    "    mj_fil1=square(5)\n",
    "    mj_fil2=square(3)\n",
    "    data=imread(i, plugin='tifffile')\n",
    "    t_0=pd.DataFrame(np.asarray(np.unique(data,return_counts=True)).T,columns=['class','init'])\n",
    "    major_data=majority(data.astype(np.uint8),mj_fil1)\n",
    "    major_data=majority(major_data,mj_fil2)\n",
    "    t_1=pd.DataFrame(np.asarray(np.unique(major_data,return_counts=True)).T,columns=['class','after_MFilter'])\n",
    "    with rio.open(i) as src:\n",
    "        out_image, out_transform = mask(src, daratan_ref.geometry,invert=True)\n",
    "        water_masked=out_image[0]\n",
    "        water_masked=np.ma.masked_where(water_masked>0,water_masked).mask\n",
    "        out_image, out_transform = mask(src, tambak_ref.geometry)\n",
    "        tambak=out_image[0]\n",
    "        tambak=np.ma.masked_where(tambak>0,tambak).mask\n",
    "        out_image, out_transform = mask(src, hutan_ref.geometry)\n",
    "        hutan_masked=out_image[0]\n",
    "        hutan_masked=np.ma.masked_where(hutan_masked>0,hutan_masked).mask\n",
    "        out_image, out_transform = mask(src, sawit_ref.geometry)\n",
    "        sawit=out_image[0]\n",
    "        sawit=np.ma.masked_where(sawit>0,sawit).mask\n",
    "    major_data[water_masked]=11\n",
    "    t_2=pd.DataFrame(np.asarray(np.unique(major_data,return_counts=True)).T,columns=['class','after_RB_water'])\n",
    "    major_data[tambak]=10\n",
    "    t_3=pd.DataFrame(np.asarray(np.unique(major_data,return_counts=True)).T,columns=['class','after_RB_tambak'])\n",
    "    major_data[hutan_masked]=5\n",
    "    t_4=pd.DataFrame(np.asarray(np.unique(major_data,return_counts=True)).T,columns=['class','after_RB_hutan'])\n",
    "    major_data[sawit]=31\n",
    "    t_5=pd.DataFrame(np.asarray(np.unique(major_data,return_counts=True)).T,columns=['class','after_RB_sawit'])\n",
    "    with rio.open(i) as src:\n",
    "        out_meta = src.meta\n",
    "        out_meta.update({'driver':'GTiff',\n",
    "                    'height':src.shape[0],\n",
    "                    'width':src.shape[1],\n",
    "                    'transform':src.transform})\n",
    "    with rio.open(folder_loc+'/post_t_'+i[-22:],'w',**out_meta) as dest:\n",
    "        dest.write(major_data,1)\n",
    "    Image = gdal.Open(folder_loc+'/post_t_'+i[-22:], 1)  # open image in read-write mode\n",
    "    gt=Image.GetGeoTransform()\n",
    "    rows = Image.RasterYSize\n",
    "    cols = Image.RasterXSize\n",
    "    Band = Image.GetRasterBand(1)\n",
    "    proj_ref = Image.GetProjectionRef()\n",
    "    driver1 = gdal.GetDriverByName('GTiff')\n",
    "    outRaster = driver1.Create(folder_loc+'/post_'+i[-22:], cols, rows, 1, gdal.GDT_UInt16)\n",
    "    outRaster.SetProjection(proj_ref)\n",
    "    outRaster.SetGeoTransform(gt)\n",
    "    outband = outRaster.GetRasterBand(1);\n",
    "    gdal.SieveFilter(srcBand=Band, maskBand=None, dstBand=outband, \n",
    "                 threshold=5, connectedness=4, callback=None)\n",
    "    del Image, Band, outRaster, outband\n",
    "    data_out=imread(folder_loc+'/post_'+i[-22:], plugin='tifffile')\n",
    "    t_6=pd.DataFrame(np.asarray(np.unique(data_out,return_counts=True)).T,columns=['class','fin'])\n",
    "    t_=t_0.merge(t_1,how='left').merge(t_2,how='left').merge(t_3,how='left').merge(t_4,how='left').merge(t_5,how='left').merge(t_6,how='left')\n",
    "    t_.to_csv(folder_loc+'/post_'+i[-22:-3]+'csv',index=False)\n",
    "    os.remove(folder_loc+'/post_t_'+i[-22:])\n",
    "    os.remove(folder_loc+'/post_'+i[-22:])\n",
    "    data_out=data_out.astype(np.uint8)\n",
    "    with rio.open(i) as src:\n",
    "        out_meta = src.meta\n",
    "        out_meta.update({'driver':'GTiff',\n",
    "                    'height':src.shape[0],\n",
    "                    'width':src.shape[1],\n",
    "                    'transform':src.transform})\n",
    "    with rio.open(folder_loc+'/post_'+i[-22:],'w',**out_meta) as dest:\n",
    "        dest.write(data_out,1)"
   ]
  },
  {
   "cell_type": "code",
   "execution_count": null,
   "id": "0b536fcd-8d82-46d3-b4cf-432c93d2c1f7",
   "metadata": {},
   "outputs": [
    {
     "data": {
      "application/vnd.jupyter.widget-view+json": {
       "model_id": "dcd9143110104f0381d8ea5461d834cc",
       "version_major": 2,
       "version_minor": 0
      },
      "text/plain": [
       "  0%|          | 0/427 [00:00<?, ?it/s]"
      ]
     },
     "metadata": {},
     "output_type": "display_data"
    }
   ],
   "source": [
    "for folder_result in ls_folder_result:\n",
    "    glob_result=glob.glob('../shared_pemetaan/google-cloud/classification_result/'+folder_result+'/*.tif')\n",
    "    glob_post=glob.glob('../shared_pemetaan/google-cloud/post_classification_result/'+folder_result+'/*.tif')\n",
    "    check=[i for i in glob_result if '../shared_pemetaan/google-cloud/post_classification_result/'+folder_result+'/post_'+i[-22:] not in glob_post]\n",
    "    for i in tqdm(check):\n",
    "        post_class(i,'../shared_pemetaan/google-cloud/post_classification_result/'+folder_result+'/')"
   ]
  }
 ],
 "metadata": {
  "kernelspec": {
   "display_name": "Python 3",
   "language": "python",
   "name": "python3"
  },
  "language_info": {
   "codemirror_mode": {
    "name": "ipython",
    "version": 3
   },
   "file_extension": ".py",
   "mimetype": "text/x-python",
   "name": "python",
   "nbconvert_exporter": "python",
   "pygments_lexer": "ipython3",
   "version": "3.6.8"
  }
 },
 "nbformat": 4,
 "nbformat_minor": 5
}
